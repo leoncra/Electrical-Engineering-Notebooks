{
 "cells": [
  {
   "attachments": {},
   "cell_type": "markdown",
   "metadata": {},
   "source": [
    "Problem 8 - Solution"
   ]
  },
  {
   "attachments": {},
   "cell_type": "markdown",
   "metadata": {},
   "source": [
    "<img src=\"p8.png\">"
   ]
  },
  {
   "attachments": {},
   "cell_type": "markdown",
   "metadata": {},
   "source": [
    "a) From the following equation the unit are frequency response characteristic can be calculated after converting the regulation constants to the new base.\n",
    "\n",
    "<img src=\"p8a.png\">"
   ]
  },
  {
   "cell_type": "code",
   "execution_count": 28,
   "metadata": {},
   "outputs": [
    {
     "name": "stdout",
     "output_type": "stream",
     "text": [
      "Betha = 225 pu\n"
     ]
    }
   ],
   "source": [
    "# Parameters\n",
    "S1b_old = 200 #MVA\n",
    "S2b_old = 300 #MVA\n",
    "S3b_old = 500 #MVA\n",
    "Snb_new = 100 #MVA\n",
    "\n",
    "R1 = 0.03*(Snb_new/S1b_old) #pu\n",
    "R2 = 0.04*(Snb_new/S2b_old) #pu\n",
    "R3 = 0.06*(Snb_new/S3b_old) #pu\n",
    "\n",
    "betha = (1/R1)+(1/R2)+(1/R3) #pu\n",
    "print('Betha =',round(betha),'pu')"
   ]
  },
  {
   "attachments": {},
   "cell_type": "markdown",
   "metadata": {},
   "source": [
    "b) The steady-state frequency area can be determined using the following equation\n",
    "\n",
    "<img src=p8b.png>"
   ]
  },
  {
   "cell_type": "code",
   "execution_count": 29,
   "metadata": {},
   "outputs": [
    {
     "name": "stdout",
     "output_type": "stream",
     "text": [
      "Delta Frequency = 0.4 Hz\n"
     ]
    }
   ],
   "source": [
    "DeltaPref = 0 #pu\n",
    "DeltaPm = 150/100 #pu\n",
    "\n",
    "Deltafreq = (DeltaPm/betha) #pu\n",
    "Deltafreq_hz = Deltafreq*60 #Hz\n",
    "print('Delta Frequency =',round(Deltafreq_hz,4),'Hz')"
   ]
  },
  {
   "attachments": {},
   "cell_type": "markdown",
   "metadata": {},
   "source": [
    "c) The mechanical power decrease in each turbine can be calculated with the following formula.\n",
    "\n",
    "<img src=p8c.png>"
   ]
  },
  {
   "cell_type": "code",
   "execution_count": 30,
   "metadata": {},
   "outputs": [
    {
     "name": "stdout",
     "output_type": "stream",
     "text": [
      "Mechanical Power Decrease on Turbine 1: -44.44 MW\n",
      "Mechanical Power Decrease on Turbine 2: -50.0 MW\n",
      "Mechanical Power Decrease on Turbine 3: -55.56 MW\n"
     ]
    }
   ],
   "source": [
    "DeltaPm1=(-1/R1)*(Deltafreq)*Snb_new #MW\n",
    "DeltaPm2=(-1/R2)*(Deltafreq)*Snb_new #MW\n",
    "DeltaPm3=(-1/R3)*(Deltafreq)*Snb_new #MW\n",
    "\n",
    "print('Mechanical Power Decrease on Turbine 1:',round(DeltaPm1,2),'MW')\n",
    "print('Mechanical Power Decrease on Turbine 2:',round(DeltaPm2,2),'MW')\n",
    "print('Mechanical Power Decrease on Turbine 3:',round(DeltaPm3,2),'MW')"
   ]
  }
 ],
 "metadata": {
  "kernelspec": {
   "display_name": "Python 3",
   "language": "python",
   "name": "python3"
  },
  "language_info": {
   "codemirror_mode": {
    "name": "ipython",
    "version": 3
   },
   "file_extension": ".py",
   "mimetype": "text/x-python",
   "name": "python",
   "nbconvert_exporter": "python",
   "pygments_lexer": "ipython3",
   "version": "3.10.6"
  },
  "orig_nbformat": 4,
  "vscode": {
   "interpreter": {
    "hash": "eed24b6d849d37ac365fd2fc44f6c9b3551fd1df1dc4fe1a2bea80a5e9ec3db1"
   }
  }
 },
 "nbformat": 4,
 "nbformat_minor": 2
}
