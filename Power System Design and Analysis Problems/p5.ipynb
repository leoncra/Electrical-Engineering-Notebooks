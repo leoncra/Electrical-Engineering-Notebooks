{
 "cells": [
  {
   "attachments": {},
   "cell_type": "markdown",
   "metadata": {},
   "source": [
    "Problem 5 - Solution"
   ]
  },
  {
   "attachments": {},
   "cell_type": "markdown",
   "metadata": {},
   "source": [
    "<img src=\"p5.png\">"
   ]
  },
  {
   "attachments": {},
   "cell_type": "markdown",
   "metadata": {},
   "source": [
    "Let's tabulate the information assuming the follopwing currents passing through the system"
   ]
  },
  {
   "attachments": {},
   "cell_type": "markdown",
   "metadata": {},
   "source": [
    "<img src=\"p5a.png\">"
   ]
  },
  {
   "cell_type": "code",
   "execution_count": 9,
   "metadata": {},
   "outputs": [
    {
     "name": "stdout",
     "output_type": "stream",
     "text": [
      "CT Primary currents:\n",
      "IL3 = 251.02 A\n",
      "IL2 = 418.37 A\n",
      "IL1 = 753.07 A\n",
      "\n",
      "CT secondary currents:\n",
      "IL1s = 4.71 A\n",
      "IL2s = 4.18 A\n",
      "IL3s = 2.51 A\n"
     ]
    }
   ],
   "source": [
    "# Import libraries\n",
    "import math, cmath, numpy as np, matplotlib.pyplot as plt\n",
    "\n",
    "# Parameters\n",
    "Voltage = 34.5 #kV\n",
    "frequency = 50 #Hz\n",
    "cycle = 1/frequency #s/cycle\n",
    "Load1 = 20 # MVA\n",
    "Load1_pf = 0.9 #Lagging\n",
    "Load2 = 10 #MVA\n",
    "Load2_pf = 0.9 #Lagging\n",
    "Load3a = 10 #MVA\n",
    "Load3a_pf = 0.9 #Lagging\n",
    "Load3b = 5 #MVA\n",
    "Load3b_pf = 0.8 #Lagging\n",
    "Bus1_maxIf = 5 #kA\n",
    "Bus2_maxIf = 3 #kA\n",
    "Bus3_maxIf = 2 #kA\n",
    "Tcord = 0.3 #s\n",
    "CTR1 = 800/5 #Aprim/Asec\n",
    "CTR2 = 500/5 #Aprim/Asec\n",
    "CTR3 = 500/5 #Aprim/Asec\n",
    "TB1 = 4 # Cycles\n",
    "TB2 = 4 # Cycles\n",
    "TB3= 5 # Cycles\n",
    "\n",
    "# CT primary currents\n",
    "IL3 = ((Load3a+Load3b)*10**3)/(math.sqrt(3)*Voltage)\n",
    "IL2 = ((Load3a+Load3b+Load2)*10**3)/(math.sqrt(3)*Voltage)\n",
    "IL1 = ((Load3a+Load3b+Load2+Load1))*10**3/(math.sqrt(3)*Voltage)\n",
    "\n",
    "# CT secondary currents\n",
    "IL1s = IL1/CTR1\n",
    "IL2s = IL2/CTR2\n",
    "IL3s = IL3/CTR3\n",
    "\n",
    "# Report\n",
    "print('CT Primary currents:')\n",
    "print('IL3 =', round(IL3,2), 'A')\n",
    "print('IL2 =', round(IL2,2), 'A')\n",
    "print('IL1 =', round(IL1,2), 'A')\n",
    "print('\\nCT secondary currents:')\n",
    "print('IL1s =', round(IL1s,2), 'A')\n",
    "print('IL2s =', round(IL2s,2), 'A')\n",
    "print('IL3s =', round(IL3s,2), 'A')"
   ]
  },
  {
   "attachments": {},
   "cell_type": "markdown",
   "metadata": {},
   "source": [
    "Based on these results we can select the following Tap settings from the provided curve for CO-8 relay"
   ]
  },
  {
   "cell_type": "code",
   "execution_count": 10,
   "metadata": {},
   "outputs": [
    {
     "name": "stdout",
     "output_type": "stream",
     "text": [
      "Breaker 1 Current Tap Setting: 5\n",
      "Breaker 2 Current Tap Setting: 5\n",
      "Breaker 3 Current Tap Setting: 3\n"
     ]
    }
   ],
   "source": [
    "# Current Tap setting (Ts)\n",
    "B1_TS = 5\n",
    "B2_TS = 5\n",
    "B3_TS = 3\n",
    "print('Breaker 1 Current Tap Setting:', B1_TS)\n",
    "print('Breaker 2 Current Tap Setting:', B2_TS)\n",
    "print('Breaker 3 Current Tap Setting:', B3_TS)"
   ]
  },
  {
   "attachments": {},
   "cell_type": "markdown",
   "metadata": {},
   "source": [
    "We then proceed to select the Time Delay Settings, coordinating the relay operation times starting from breaker B3, followed by B2 and lastly breaker B1."
   ]
  },
  {
   "cell_type": "code",
   "execution_count": 26,
   "metadata": {},
   "outputs": [
    {
     "name": "stdout",
     "output_type": "stream",
     "text": [
      "Coordination for Relay at B3:\n",
      "Maximum Fault Current: 3 kA\n",
      "Ir3 = 10.0 A\n",
      "TDSr3 = 0.5\n",
      "T3req = 0.1 s\n",
      "Toper3 = 0.2 s\n"
     ]
    }
   ],
   "source": [
    "Ir3 = ((Bus2_maxIf*10**3)/CTR3)/B3_TS\n",
    "TDS_r3 = 0.5\n",
    "T3 = 0.1\n",
    "Tope_r3 = T3+(TB3*cycle)\n",
    "print('Coordination for Relay at B3:')\n",
    "print('Maximum Fault Current:', Bus2_maxIf,'kA')\n",
    "print('Ir3 =', round(Ir3,2), 'A')\n",
    "print('TDSr3 =', round(TDS_r3,2))\n",
    "print('T3req =', round(T3,2), 's')\n",
    "print('Toper3 =', round(Tope_r3,2), 's')"
   ]
  },
  {
   "attachments": {},
   "cell_type": "markdown",
   "metadata": {},
   "source": [
    "<img src=\"p5curve1.png\">"
   ]
  },
  {
   "cell_type": "code",
   "execution_count": 25,
   "metadata": {},
   "outputs": [
    {
     "name": "stdout",
     "output_type": "stream",
     "text": [
      "\n",
      "Coordination for Relay at B2:\n",
      "Maximum Fault Current: 3 kA\n",
      "Ir2 = 6.0 A\n",
      "TDSr2 = 2\n",
      "T2req = 0.48 s\n",
      "Toper2 = 0.68 s\n"
     ]
    }
   ],
   "source": [
    "Ir2 = ((Bus2_maxIf*10**3)/CTR2)/B2_TS\n",
    "TDS_r2 = 2\n",
    "T2 = T3+(TB2*cycle)+Tcord\n",
    "Tope_r2 = 0.6+(TB2*cycle)\n",
    "print('\\nCoordination for Relay at B2:')\n",
    "print('Maximum Fault Current:', Bus2_maxIf,'kA')\n",
    "print('Ir2 =', round(Ir2,2), 'A')\n",
    "print('TDSr2 =', round(TDS_r2,2))\n",
    "print('T2req =', round(T2,2), 's')\n",
    "print('Toper2 =', round(Tope_r2,2), 's')"
   ]
  },
  {
   "attachments": {},
   "cell_type": "markdown",
   "metadata": {},
   "source": [
    "<img src=\"p5curve2.png\">"
   ]
  },
  {
   "cell_type": "code",
   "execution_count": 27,
   "metadata": {},
   "outputs": [
    {
     "name": "stdout",
     "output_type": "stream",
     "text": [
      "\n",
      "Coordination for Relay at B1:\n",
      "Maximum Fault Current: 5 kA\n",
      "Ir1 = 6.25 A\n",
      "TDSr1 = 3\n",
      "Toper1 = 1.08 s\n",
      "T1req = 0.8 s\n",
      "\n",
      "Ir2= 10.0 A\n",
      "TDSr2 = 2\n",
      "Toper2 = 0.5 s\n"
     ]
    }
   ],
   "source": [
    "Ir2_1 = ((Bus1_maxIf*10**3)/CTR2)/B2_TS\n",
    "Ir1 = ((Bus1_maxIf*10**3)/CTR1)/B1_TS\n",
    "TDS_r1 = 3\n",
    "T2a = 0.42\n",
    "T1 = T2a+(TB1*cycle)+Tcord\n",
    "Tope_r1 = 1+(TB1*cycle)\n",
    "Tope_r2_1=0.42+(TB2*cycle)\n",
    "print('\\nCoordination for Relay at B1:')\n",
    "print('Maximum Fault Current:', Bus1_maxIf,'kA')\n",
    "print('Ir1 =', round(Ir1,2), 'A')\n",
    "print('TDSr1 =', round(TDS_r1,2))\n",
    "print('Toper1 =', round(Tope_r1,2), 's')\n",
    "print('T1req =', round(T1,2), 's')\n",
    "print('\\nIr2=', round(Ir2_1,2), 'A')\n",
    "print('TDSr2 =', round(TDS_r2,2))\n",
    "print('Toper2 =', round(Tope_r2_1,2), 's')"
   ]
  },
  {
   "attachments": {},
   "cell_type": "markdown",
   "metadata": {},
   "source": [
    "<img src=p5curve3.png>"
   ]
  }
 ],
 "metadata": {
  "kernelspec": {
   "display_name": "Python 3",
   "language": "python",
   "name": "python3"
  },
  "language_info": {
   "codemirror_mode": {
    "name": "ipython",
    "version": 3
   },
   "file_extension": ".py",
   "mimetype": "text/x-python",
   "name": "python",
   "nbconvert_exporter": "python",
   "pygments_lexer": "ipython3",
   "version": "3.10.6"
  },
  "orig_nbformat": 4,
  "vscode": {
   "interpreter": {
    "hash": "eed24b6d849d37ac365fd2fc44f6c9b3551fd1df1dc4fe1a2bea80a5e9ec3db1"
   }
  }
 },
 "nbformat": 4,
 "nbformat_minor": 2
}
