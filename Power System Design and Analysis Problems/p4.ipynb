{
 "cells": [
  {
   "attachments": {},
   "cell_type": "markdown",
   "metadata": {},
   "source": [
    "Problem 4 - Solution"
   ]
  },
  {
   "attachments": {},
   "cell_type": "markdown",
   "metadata": {},
   "source": [
    "<img src=\"p4.png\">"
   ]
  },
  {
   "cell_type": "code",
   "execution_count": 176,
   "metadata": {},
   "outputs": [
    {
     "name": "stdout",
     "output_type": "stream",
     "text": [
      "Line parameters and calculations:\n",
      "----------\n",
      "Total Line Resistance per phase (Ohm): 6.0\n",
      "Total Line Inductance per phase (H): 0.0531\n",
      "Angular Frequency (rad/s): 376.9911\n",
      "Line Current magnitude (A): 999.8657\n",
      "Line Current Angle when pf lagging (°): -36.8699\n",
      "Line Current Angle when pf leading (°): 36.8699\n"
     ]
    }
   ],
   "source": [
    "# Import libraries\n",
    "import math, cmath\n",
    "\n",
    "# Input data\n",
    "line_lenght = 40 #km\n",
    "line_voltage = 220 #kV\n",
    "line_frequency = 60 #Hz\n",
    "line_R_1phase_per_km = 0.15 #Ohms/km\n",
    "line_L_1phase_per_km= 1.3263 #mH/km\n",
    "line_C_1phase_per_km = 0 #uF/km - negligible\n",
    "Sload = 381 #MVA\n",
    "pfload = 0.8 # Lagging for scenario a) and Leading for Scenario b)\n",
    "\n",
    "# Calculations\n",
    "Line_R_1phase = line_R_1phase_per_km*line_lenght #Ohm\n",
    "Line_L_1phase = line_L_1phase_per_km*line_lenght*(10**-3) #H\n",
    "Angular_frequency= 2*math.pi*line_frequency # rad/s\n",
    "Line_Current = (Sload*10**3)/(math.sqrt(3)*line_voltage)\n",
    "Line_Current_angle = math.acos(pfload) # rad\n",
    "print('Line parameters and calculations:')\n",
    "print(10*'-')\n",
    "print('Total Line Resistance per phase (Ohm):', round(Line_R_1phase,4))\n",
    "print('Total Line Inductance per phase (H):', round(Line_L_1phase,4))\n",
    "print('Angular Frequency (rad/s):', round(Angular_frequency,4))\n",
    "print('Line Current magnitude (A):', round(Line_Current,4))\n",
    "print('Line Current Angle when pf lagging (°):', round(-math.degrees(Line_Current_angle),4))\n",
    "print('Line Current Angle when pf leading (°):', round(math.degrees(Line_Current_angle),4))"
   ]
  },
  {
   "attachments": {},
   "cell_type": "markdown",
   "metadata": {},
   "source": [
    "a). Calculation with pf lagging"
   ]
  },
  {
   "cell_type": "code",
   "execution_count": 177,
   "metadata": {},
   "outputs": [
    {
     "name": "stdout",
     "output_type": "stream",
     "text": [
      "Results with pf lagging:\n",
      "----------\n",
      "Voltage at sending end (kV): 144.348, angle: 4.927 °\n",
      "Voltage at receiving end (kV): 127.017, angle: 0.0 °\n",
      "Voltage regulation: 0.136 or 13.6(%)\n",
      "----------\n",
      "Real Power at sending end (MVA): 432.987, angle: 41.797 °\n",
      "Real Power at receiving end (MVA): 381.0, angle: 36.87 °\n",
      "Efficieny: 0.944 or 94.425(%)\n"
     ]
    }
   ],
   "source": [
    "# Short-Line model (<80km) Z=R+jwL=R+jX pf lagging\n",
    "\n",
    "# Complex calculations\n",
    "R_rect = cmath.rect(Line_R_1phase, 0) # Resistance\n",
    "jX_rect = cmath.rect(Line_L_1phase*Angular_frequency, math.radians(90)) # Reactance\n",
    "Z_rect = R_rect +jX_rect # Impedance\n",
    "\n",
    "I_rect = cmath.rect(Line_Current, -Line_Current_angle) # Current lagging angle\n",
    "Urv_rect = cmath.rect((line_voltage*10**3)/math.sqrt(3), 0) # Receiving end voltage (regulated voltage)\n",
    "Usv_rect = (I_rect*Z_rect) + Urv_rect # Sending end voltage (unregulated voltage)\n",
    "print('Results with pf lagging:')\n",
    "print(10*'-')\n",
    "\n",
    "# Voltage regulation calculation\n",
    "Usv_polar = cmath.polar(Usv_rect)\n",
    "Usv_polar_mag, Usv_polar_angle = Usv_polar\n",
    "print(f\"Voltage at sending end (kV): {round(Usv_polar_mag*10**-3,3)}, angle: {round(math.degrees(Usv_polar_angle),3)} °\")\n",
    "\n",
    "Urv_polar = cmath.polar(Urv_rect)\n",
    "Urv_polar_mag, Urv_polar_angle = Urv_polar\n",
    "print(f\"Voltage at receiving end (kV): {round(Urv_polar_mag*10**-3,3)}, angle: {round(math.degrees(Urv_polar_angle),3)} °\")\n",
    "\n",
    "Vreg_a = round((Usv_polar_mag-Urv_polar_mag)/Urv_polar_mag,3)\n",
    "print(f\"Voltage regulation: {round(Vreg_a, 3)} or {round(Vreg_a*100, 3)}(%)\")\n",
    "print(10*'-')\n",
    "\n",
    "# Efficiency calculation \n",
    "Ssv_rect = math.sqrt(3)*(math.sqrt(3)*Usv_rect*(cmath.rect(Line_Current, Line_Current_angle)))\n",
    "Ssv_polar = cmath.polar(Ssv_rect)\n",
    "Ssv_polar_mag, Ssv_polar_angle = Ssv_polar\n",
    "print(f\"Real Power at sending end (MVA): {round(Ssv_polar_mag*10**-6,3)}, angle: {round(math.degrees(Ssv_polar_angle),3)} °\")\n",
    "\n",
    "Srv_rect = cmath.rect(Sload*10**6,Line_Current_angle)\n",
    "Srv_polar = cmath.polar(Srv_rect)\n",
    "Srv_polar_mag, Srv_polar_angle = Srv_polar\n",
    "print(f\"Real Power at receiving end (MVA): {round(Srv_polar_mag*10**-6,3)}, angle: {round(math.degrees(Srv_polar_angle),3)} °\")\n",
    "\n",
    "Efficiency_a = (Srv_polar_mag*math.cos(Srv_polar_angle))/(Ssv_polar_mag*math.cos(Ssv_polar_angle))\n",
    "print(f\"Efficieny: {round(Efficiency_a, 3)} or {round(Efficiency_a*100, 3)}(%)\")"
   ]
  },
  {
   "attachments": {},
   "cell_type": "markdown",
   "metadata": {},
   "source": [
    "b). Calculation with pf leading"
   ]
  },
  {
   "cell_type": "code",
   "execution_count": 178,
   "metadata": {},
   "outputs": [
    {
     "name": "stdout",
     "output_type": "stream",
     "text": [
      "Results with pf leading:\n",
      "----------\n",
      "Voltage at sending end (kV): 121.41, angle: 9.289 °\n",
      "Voltage at receiving end (kV): 127.017, angle: 0.0 °\n",
      "Voltage regulation: -0.044 or -4.4(%)\n",
      "----------\n",
      "Real Power at sending end (MVA): 364.181, angle: -27.581 °\n",
      "Real Power at receiving end (MVA): 381.0, angle: 36.87 °\n",
      "Efficieny: 0.944 or 94.425(%)\n"
     ]
    }
   ],
   "source": [
    "# Short-Line model (<80km) Z=R+jwL pf leading\n",
    "\n",
    "# Complex calculations\n",
    "R_rect = cmath.rect(Line_R_1phase, 0) # Resistance\n",
    "jX_rect = cmath.rect(Line_L_1phase*Angular_frequency, math.radians(90)) # Reactance\n",
    "Z_rect = R_rect +jX_rect # Impedance\n",
    "\n",
    "I_rect = cmath.rect(Line_Current, Line_Current_angle) # Current leading angle\n",
    "Urv_rect = cmath.rect((line_voltage*10**3)/math.sqrt(3), 0) # Receiving end voltage (regulated voltage)\n",
    "Usv_rect = (I_rect*Z_rect) + Urv_rect # Sending end voltage (unregulated voltage)\n",
    "print('Results with pf leading:')\n",
    "print(10*'-')\n",
    "\n",
    "# Voltage regulation calculation\n",
    "Usv_polar = cmath.polar(Usv_rect)\n",
    "Usv_polar_mag, Usv_polar_angle = Usv_polar\n",
    "print(f\"Voltage at sending end (kV): {round(Usv_polar_mag*10**-3,3)}, angle: {round(math.degrees(Usv_polar_angle),3)} °\")\n",
    "\n",
    "Urv_polar = cmath.polar(Urv_rect)\n",
    "Urv_polar_mag, Urv_polar_angle = Urv_polar\n",
    "print(f\"Voltage at receiving end (kV): {round(Urv_polar_mag*10**-3,3)}, angle: {round(math.degrees(Urv_polar_angle),3)} °\")\n",
    "\n",
    "Vreg_a = round((Usv_polar_mag-Urv_polar_mag)/Urv_polar_mag,3)\n",
    "print(f\"Voltage regulation: {round(Vreg_a, 3)} or {round(Vreg_a*100, 3)}(%)\")\n",
    "print(10*'-')\n",
    "\n",
    "# Efficiency calculation \n",
    "Ssv_rect = math.sqrt(3)*(math.sqrt(3)*Usv_rect*(cmath.rect(Line_Current, -Line_Current_angle)))\n",
    "Ssv_polar = cmath.polar(Ssv_rect)\n",
    "Ssv_polar_mag, Ssv_polar_angle = Ssv_polar\n",
    "print(f\"Real Power at sending end (MVA): {round(Ssv_polar_mag*10**-6,3)}, angle: {round(math.degrees(Ssv_polar_angle),3)} °\")\n",
    "\n",
    "Srv_rect = cmath.rect(Sload*10**6,Line_Current_angle)\n",
    "Srv_polar = cmath.polar(Srv_rect)\n",
    "Srv_polar_mag, Srv_polar_angle = Srv_polar\n",
    "print(f\"Real Power at receiving end (MVA): {round(Srv_polar_mag*10**-6,3)}, angle: {round(math.degrees(Srv_polar_angle),3)} °\")\n",
    "\n",
    "Efficiency_a = (Srv_polar_mag*math.cos(Srv_polar_angle))/(Ssv_polar_mag*math.cos(Ssv_polar_angle))\n",
    "print(f\"Efficieny: {round(Efficiency_a, 3)} or {round(Efficiency_a*100, 3)}(%)\")"
   ]
  }
 ],
 "metadata": {
  "kernelspec": {
   "display_name": "Python 3",
   "language": "python",
   "name": "python3"
  },
  "language_info": {
   "codemirror_mode": {
    "name": "ipython",
    "version": 3
   },
   "file_extension": ".py",
   "mimetype": "text/x-python",
   "name": "python",
   "nbconvert_exporter": "python",
   "pygments_lexer": "ipython3",
   "version": "3.10.6"
  },
  "orig_nbformat": 4,
  "vscode": {
   "interpreter": {
    "hash": "eed24b6d849d37ac365fd2fc44f6c9b3551fd1df1dc4fe1a2bea80a5e9ec3db1"
   }
  }
 },
 "nbformat": 4,
 "nbformat_minor": 2
}
