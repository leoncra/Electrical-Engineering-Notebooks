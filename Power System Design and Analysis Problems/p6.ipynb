{
 "cells": [
  {
   "attachments": {},
   "cell_type": "markdown",
   "metadata": {},
   "source": [
    "Problem 6 - Solution"
   ]
  },
  {
   "attachments": {},
   "cell_type": "markdown",
   "metadata": {},
   "source": [
    "<img src=\"p6.png\">"
   ]
  },
  {
   "attachments": {},
   "cell_type": "markdown",
   "metadata": {},
   "source": [
    "a) The protection zones are the following:"
   ]
  },
  {
   "attachments": {},
   "cell_type": "markdown",
   "metadata": {},
   "source": [
    "<img src=\"p6a.png\">"
   ]
  },
  {
   "attachments": {},
   "cell_type": "markdown",
   "metadata": {},
   "source": [
    "b) Assuming that directional overcurrent relays are used and that \"Forward\" directionality is used to trip (Current flowing out of the bus) and \"Reverse\" blocks operation of the relay (Current flowing into the bus), then the fault occured at Bus. Better selectivity can be acheived by using protection schemes for the busbar as well as blocking mechanism for relays at remote ends of lines such as zone selective interlocking."
   ]
  },
  {
   "attachments": {},
   "cell_type": "markdown",
   "metadata": {},
   "source": [
    "<img src=\"p6b.png\">"
   ]
  },
  {
   "attachments": {},
   "cell_type": "markdown",
   "metadata": {},
   "source": [
    "c) Let's compute the line parameters and perform the calculation of the protection settings for the distance relay."
   ]
  },
  {
   "cell_type": "code",
   "execution_count": 11,
   "metadata": {},
   "outputs": [
    {
     "name": "stdout",
     "output_type": "stream",
     "text": [
      "Lines impedance:\n",
      "Line b-c: (3.2+32j)\n",
      "Line c-d (3.2+38.4j)\n",
      "Line c-e: (7.68+76.8j)\n",
      "\n",
      "Zone setting calculation for distance relay at line B-C, bus B:\n",
      "Zone 1: (0.256+2.56j)\n",
      "Zone 2: (0.384+3.84j)\n",
      "Zone 3: (1.2416+12.416j)\n",
      "Zone 3: 12.4779 magnitude 84.2894 angle\n"
     ]
    }
   ],
   "source": [
    "# Import libraries\n",
    "import math, cmath\n",
    "\n",
    "# Parameters\n",
    "lbc=64#km\n",
    "lcd=64#km\n",
    "lce=96#km\n",
    "\n",
    "Zlbc=(0.05+0.5j)*lbc\n",
    "Zlcd=(0.05+0.6j)*lcd\n",
    "Zlce=(0.08+0.8j)*lce\n",
    "\n",
    "\n",
    "print('Lines impedance:')\n",
    "print('Line b-c:', round(Zlbc.real,4)+round(Zlbc.imag,4)*1j)\n",
    "print('Line c-d', round(Zlcd.real,4)+round(Zlcd.imag,4)*1j)\n",
    "print('Line c-e:', round(Zlce.real,4)+round(Zlce.imag,4)*1j)\n",
    "print()\n",
    "\n",
    "CTR=1500/5\n",
    "VTR=3000/1\n",
    "\n",
    "# Calculations\n",
    "Zb=VTR/CTR\n",
    "Zlbc_s=Zlbc/Zb\n",
    "Zlcd_s=Zlcd/Zb\n",
    "Zlce_s=Zlce/Zb\n",
    "\n",
    "# Zone setting calculation for distance relay at line B-C, bus B\n",
    "Z1 = 0.8*Zlbc_s\n",
    "Z2 = 1.2*Zlbc_s\n",
    "Z3 = Zlbc_s+(1.2*Zlce_s)\n",
    "Z3mag, Z3ang = cmath.polar(Z3)\n",
    "print('Zone setting calculation for distance relay at line B-C, bus B:')\n",
    "print('Zone 1:', round(Z1.real,4)+round(Z1.imag,4)*1j)\n",
    "print('Zone 2:', round(Z2.real,4)+round(Z2.imag,4)*1j)\n",
    "print('Zone 3:', round(Z3.real,4)+round(Z3.imag,4)*1j)\n",
    "print('Zone 3:', round(Z3mag,4), 'magnitude', round(math.degrees(Z3ang),4), 'angle')"
   ]
  }
 ],
 "metadata": {
  "kernelspec": {
   "display_name": "Python 3",
   "language": "python",
   "name": "python3"
  },
  "language_info": {
   "codemirror_mode": {
    "name": "ipython",
    "version": 3
   },
   "file_extension": ".py",
   "mimetype": "text/x-python",
   "name": "python",
   "nbconvert_exporter": "python",
   "pygments_lexer": "ipython3",
   "version": "3.10.6"
  },
  "orig_nbformat": 4,
  "vscode": {
   "interpreter": {
    "hash": "eed24b6d849d37ac365fd2fc44f6c9b3551fd1df1dc4fe1a2bea80a5e9ec3db1"
   }
  }
 },
 "nbformat": 4,
 "nbformat_minor": 2
}
