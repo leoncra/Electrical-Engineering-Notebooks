{
  "nbformat": 4,
  "nbformat_minor": 5,
  "metadata": {
    "kernelspec": {
      "display_name": "Python 3 (ipykernel)",
      "language": "python",
      "name": "python3"
    },
    "language_info": {
      "codemirror_mode": {
        "name": "ipython",
        "version": 3
      },
      "file_extension": ".py",
      "mimetype": "text/x-python",
      "name": "python",
      "nbconvert_exporter": "python",
      "pygments_lexer": "ipython3",
      "version": "3.9.2"
    },
    "toc": {
      "base_numbering": 1,
      "nav_menu": {},
      "number_sections": true,
      "sideBar": true,
      "skip_h1_title": false,
      "title_cell": "Table of Contents",
      "title_sidebar": "Contents",
      "toc_cell": false,
      "toc_position": {},
      "toc_section_display": true,
      "toc_window_display": false
    },
    "colab": {
      "name": "PythonWarmup.ipynb",
      "provenance": []
    }
  },
  "cells": [
    {
      "cell_type": "markdown",
      "metadata": {
        "id": "daffe2b8"
      },
      "source": [
        "# Python warmup"
      ],
      "id": "daffe2b8"
    },
    {
      "cell_type": "markdown",
      "metadata": {
        "id": "fe141740"
      },
      "source": [
        "## Create a  python data structures\n",
        "\n",
        "1. Create a scalar variable, and print it\n",
        "1. Create a python list and print it using function `list()` or directly with syntax `l=[1,4,2,3]`\n",
        "1. Create a [numpy array](https://numpy.org/doc/stable/reference/generated/numpy.array.html) and print it. Tip: Import numpy library first by using: ```import numpy as np``` \n",
        "\n",
        "Python lists are suitable in many cases, but they are not efficient for large amounts of data or mathematical operations. Numpy arrays include a lot of useful functions which are packaged in numpy arrays."
      ],
      "id": "fe141740"
    },
    {
      "cell_type": "code",
      "metadata": {
        "colab": {
          "base_uri": "https://localhost:8080/"
        },
        "id": "25ac66c7",
        "outputId": "dc9cf11a-9cda-4919-c324-935796edb80d"
      },
      "source": [
        "#1\n",
        "x=1\n",
        "\n",
        "#2\n",
        "l=[1,4,2,3]\n",
        "\n",
        "#3\n",
        "import numpy as np\n",
        "\n",
        "print(x)\n",
        "print()\n",
        "print(l)\n",
        "print()\n",
        "np.array([1,2])"
      ],
      "id": "25ac66c7",
      "execution_count": 40,
      "outputs": [
        {
          "output_type": "stream",
          "name": "stdout",
          "text": [
            "1\n",
            "\n",
            "[1, 4, 2, 3]\n",
            "\n"
          ]
        },
        {
          "output_type": "execute_result",
          "data": {
            "text/plain": [
              "array([1, 2])"
            ]
          },
          "metadata": {},
          "execution_count": 40
        }
      ]
    },
    {
      "cell_type": "markdown",
      "metadata": {
        "id": "e0f3db40"
      },
      "source": [
        "## Use numpy functions for creating arrays\n",
        "\n",
        "1. Create a numpy array which has 100 consequent values between 0 and $\\pi$ using [np.linspace()](https://numpy.org/doc/stable/reference/generated/numpy.linspace.html?highlight=linspace#numpy.linspace). Use ```np.pi``` as constant for $\\pi$.\n",
        "1. Create a two-dimensional array of 5x5 [zeros](https://numpy.org/doc/stable/reference/generated/numpy.zeros.html?highlight=zeros#numpy.zeros) or 5x5 [ones](https://numpy.org/doc/stable/reference/generated/numpy.ones.html?highlight=ones#numpy.ones). using appropriate functions\n",
        "1. Create one more 2 dimensional array with the following code ```A=np.array([[1,2,3], [4,5,6]])```\n",
        "\n",
        "**TIP:** to find out what other functions or constants are included in NumPy package, write `np.` in the command line, and press TAB-key to get a list of possible completions, or SHIFT-TAB to get the help window."
      ],
      "id": "e0f3db40"
    },
    {
      "cell_type": "code",
      "metadata": {
        "colab": {
          "base_uri": "https://localhost:8080/"
        },
        "id": "3971e609",
        "outputId": "b623a0de-3d75-4c15-e82e-32cdb3279779"
      },
      "source": [
        "#1\n",
        "pi =np.pi\n",
        "es=np.linspace(0,pi,100)\n",
        "\n",
        "#2\n",
        "zeros = np.zeros([5,5])\n",
        "ones= np.ones([5,5])\n",
        "\n",
        "#3\n",
        "A=np.array([[1,2,3], [4,5,6]])\n",
        "\n",
        "print(es)\n",
        "print()\n",
        "print(zeros)\n",
        "print()\n",
        "print(ones)\n",
        "print()\n",
        "print(A)\n"
      ],
      "id": "3971e609",
      "execution_count": 39,
      "outputs": [
        {
          "output_type": "stream",
          "name": "stdout",
          "text": [
            "[0.         0.03173326 0.06346652 0.09519978 0.12693304 0.1586663\n",
            " 0.19039955 0.22213281 0.25386607 0.28559933 0.31733259 0.34906585\n",
            " 0.38079911 0.41253237 0.44426563 0.47599889 0.50773215 0.53946541\n",
            " 0.57119866 0.60293192 0.63466518 0.66639844 0.6981317  0.72986496\n",
            " 0.76159822 0.79333148 0.82506474 0.856798   0.88853126 0.92026451\n",
            " 0.95199777 0.98373103 1.01546429 1.04719755 1.07893081 1.11066407\n",
            " 1.14239733 1.17413059 1.20586385 1.23759711 1.26933037 1.30106362\n",
            " 1.33279688 1.36453014 1.3962634  1.42799666 1.45972992 1.49146318\n",
            " 1.52319644 1.5549297  1.58666296 1.61839622 1.65012947 1.68186273\n",
            " 1.71359599 1.74532925 1.77706251 1.80879577 1.84052903 1.87226229\n",
            " 1.90399555 1.93572881 1.96746207 1.99919533 2.03092858 2.06266184\n",
            " 2.0943951  2.12612836 2.15786162 2.18959488 2.22132814 2.2530614\n",
            " 2.28479466 2.31652792 2.34826118 2.37999443 2.41172769 2.44346095\n",
            " 2.47519421 2.50692747 2.53866073 2.57039399 2.60212725 2.63386051\n",
            " 2.66559377 2.69732703 2.72906028 2.76079354 2.7925268  2.82426006\n",
            " 2.85599332 2.88772658 2.91945984 2.9511931  2.98292636 3.01465962\n",
            " 3.04639288 3.07812614 3.10985939 3.14159265]\n",
            "\n",
            "[[0. 0. 0. 0. 0.]\n",
            " [0. 0. 0. 0. 0.]\n",
            " [0. 0. 0. 0. 0.]\n",
            " [0. 0. 0. 0. 0.]\n",
            " [0. 0. 0. 0. 0.]]\n",
            "\n",
            "[[1. 1. 1. 1. 1.]\n",
            " [1. 1. 1. 1. 1.]\n",
            " [1. 1. 1. 1. 1.]\n",
            " [1. 1. 1. 1. 1.]\n",
            " [1. 1. 1. 1. 1.]]\n",
            "\n",
            "[[1 2 3]\n",
            " [4 5 6]]\n"
          ]
        }
      ]
    },
    {
      "cell_type": "markdown",
      "metadata": {
        "id": "d8f663ae"
      },
      "source": [
        "## Manipulate data structures\n",
        "1. Study the shape of previously created numpy arrays by using function ```.shape()``` included in the arrays you created.\n",
        "1. Try to calculate also the sum of all values in those arrays with ```.sum()``` function.\n",
        "1. Transpose a two dimensional array with function ```.T``` for example ```A.T```\n",
        "1. Transposing a one dimensional array looks sadly slightly illogical, because it needs to be also converted to two dimensional at the same time. The row vector `x` can be transposed to column vector with syntax `x.reshape(-1,1)`. Try it for some row vectors. \n",
        "1. Try also to transpose the column vector back to row vector\n"
      ],
      "id": "d8f663ae"
    },
    {
      "cell_type": "code",
      "metadata": {
        "colab": {
          "base_uri": "https://localhost:8080/"
        },
        "id": "6766a2fb",
        "outputId": "5b8c0484-ebda-41b4-cd6d-788f47fad2a3"
      },
      "source": [
        "#Manipulation of data structures\n",
        "#1\n",
        "print(es.shape)\n",
        "print(zeros.shape)\n",
        "print(ones.shape)\n",
        "print(A.shape)\n",
        "print()\n",
        "\n",
        "#2\n",
        "print(np.sum(es))\n",
        "print(np.sum(zeros))\n",
        "print(np.sum(ones))\n",
        "print(np.sum(A))\n",
        "print()\n",
        "\n",
        "#3\n",
        "print(es.T)\n",
        "print()\n",
        "print(zeros.T)\n",
        "print()\n",
        "print(ones.T)\n",
        "print()\n",
        "print(A.T)\n",
        "print()\n",
        "\n",
        "#4\n",
        "print(es.reshape(-1,1))\n",
        "print()\n",
        "\n",
        "#5\n",
        "print(es.reshape(-1,1).T)\n"
      ],
      "id": "6766a2fb",
      "execution_count": 56,
      "outputs": [
        {
          "output_type": "stream",
          "name": "stdout",
          "text": [
            "(100,)\n",
            "(5, 5)\n",
            "(5, 5)\n",
            "(2, 3)\n",
            "\n",
            "157.07963267948963\n",
            "0.0\n",
            "25.0\n",
            "21\n",
            "\n",
            "[0.         0.03173326 0.06346652 0.09519978 0.12693304 0.1586663\n",
            " 0.19039955 0.22213281 0.25386607 0.28559933 0.31733259 0.34906585\n",
            " 0.38079911 0.41253237 0.44426563 0.47599889 0.50773215 0.53946541\n",
            " 0.57119866 0.60293192 0.63466518 0.66639844 0.6981317  0.72986496\n",
            " 0.76159822 0.79333148 0.82506474 0.856798   0.88853126 0.92026451\n",
            " 0.95199777 0.98373103 1.01546429 1.04719755 1.07893081 1.11066407\n",
            " 1.14239733 1.17413059 1.20586385 1.23759711 1.26933037 1.30106362\n",
            " 1.33279688 1.36453014 1.3962634  1.42799666 1.45972992 1.49146318\n",
            " 1.52319644 1.5549297  1.58666296 1.61839622 1.65012947 1.68186273\n",
            " 1.71359599 1.74532925 1.77706251 1.80879577 1.84052903 1.87226229\n",
            " 1.90399555 1.93572881 1.96746207 1.99919533 2.03092858 2.06266184\n",
            " 2.0943951  2.12612836 2.15786162 2.18959488 2.22132814 2.2530614\n",
            " 2.28479466 2.31652792 2.34826118 2.37999443 2.41172769 2.44346095\n",
            " 2.47519421 2.50692747 2.53866073 2.57039399 2.60212725 2.63386051\n",
            " 2.66559377 2.69732703 2.72906028 2.76079354 2.7925268  2.82426006\n",
            " 2.85599332 2.88772658 2.91945984 2.9511931  2.98292636 3.01465962\n",
            " 3.04639288 3.07812614 3.10985939 3.14159265]\n",
            "\n",
            "[[0. 0. 0. 0. 0.]\n",
            " [0. 0. 0. 0. 0.]\n",
            " [0. 0. 0. 0. 0.]\n",
            " [0. 0. 0. 0. 0.]\n",
            " [0. 0. 0. 0. 0.]]\n",
            "\n",
            "[[1. 1. 1. 1. 1.]\n",
            " [1. 1. 1. 1. 1.]\n",
            " [1. 1. 1. 1. 1.]\n",
            " [1. 1. 1. 1. 1.]\n",
            " [1. 1. 1. 1. 1.]]\n",
            "\n",
            "[[1 4]\n",
            " [2 5]\n",
            " [3 6]]\n",
            "\n",
            "[[0.        ]\n",
            " [0.03173326]\n",
            " [0.06346652]\n",
            " [0.09519978]\n",
            " [0.12693304]\n",
            " [0.1586663 ]\n",
            " [0.19039955]\n",
            " [0.22213281]\n",
            " [0.25386607]\n",
            " [0.28559933]\n",
            " [0.31733259]\n",
            " [0.34906585]\n",
            " [0.38079911]\n",
            " [0.41253237]\n",
            " [0.44426563]\n",
            " [0.47599889]\n",
            " [0.50773215]\n",
            " [0.53946541]\n",
            " [0.57119866]\n",
            " [0.60293192]\n",
            " [0.63466518]\n",
            " [0.66639844]\n",
            " [0.6981317 ]\n",
            " [0.72986496]\n",
            " [0.76159822]\n",
            " [0.79333148]\n",
            " [0.82506474]\n",
            " [0.856798  ]\n",
            " [0.88853126]\n",
            " [0.92026451]\n",
            " [0.95199777]\n",
            " [0.98373103]\n",
            " [1.01546429]\n",
            " [1.04719755]\n",
            " [1.07893081]\n",
            " [1.11066407]\n",
            " [1.14239733]\n",
            " [1.17413059]\n",
            " [1.20586385]\n",
            " [1.23759711]\n",
            " [1.26933037]\n",
            " [1.30106362]\n",
            " [1.33279688]\n",
            " [1.36453014]\n",
            " [1.3962634 ]\n",
            " [1.42799666]\n",
            " [1.45972992]\n",
            " [1.49146318]\n",
            " [1.52319644]\n",
            " [1.5549297 ]\n",
            " [1.58666296]\n",
            " [1.61839622]\n",
            " [1.65012947]\n",
            " [1.68186273]\n",
            " [1.71359599]\n",
            " [1.74532925]\n",
            " [1.77706251]\n",
            " [1.80879577]\n",
            " [1.84052903]\n",
            " [1.87226229]\n",
            " [1.90399555]\n",
            " [1.93572881]\n",
            " [1.96746207]\n",
            " [1.99919533]\n",
            " [2.03092858]\n",
            " [2.06266184]\n",
            " [2.0943951 ]\n",
            " [2.12612836]\n",
            " [2.15786162]\n",
            " [2.18959488]\n",
            " [2.22132814]\n",
            " [2.2530614 ]\n",
            " [2.28479466]\n",
            " [2.31652792]\n",
            " [2.34826118]\n",
            " [2.37999443]\n",
            " [2.41172769]\n",
            " [2.44346095]\n",
            " [2.47519421]\n",
            " [2.50692747]\n",
            " [2.53866073]\n",
            " [2.57039399]\n",
            " [2.60212725]\n",
            " [2.63386051]\n",
            " [2.66559377]\n",
            " [2.69732703]\n",
            " [2.72906028]\n",
            " [2.76079354]\n",
            " [2.7925268 ]\n",
            " [2.82426006]\n",
            " [2.85599332]\n",
            " [2.88772658]\n",
            " [2.91945984]\n",
            " [2.9511931 ]\n",
            " [2.98292636]\n",
            " [3.01465962]\n",
            " [3.04639288]\n",
            " [3.07812614]\n",
            " [3.10985939]\n",
            " [3.14159265]]\n",
            "\n",
            "[[0.         0.03173326 0.06346652 0.09519978 0.12693304 0.1586663\n",
            "  0.19039955 0.22213281 0.25386607 0.28559933 0.31733259 0.34906585\n",
            "  0.38079911 0.41253237 0.44426563 0.47599889 0.50773215 0.53946541\n",
            "  0.57119866 0.60293192 0.63466518 0.66639844 0.6981317  0.72986496\n",
            "  0.76159822 0.79333148 0.82506474 0.856798   0.88853126 0.92026451\n",
            "  0.95199777 0.98373103 1.01546429 1.04719755 1.07893081 1.11066407\n",
            "  1.14239733 1.17413059 1.20586385 1.23759711 1.26933037 1.30106362\n",
            "  1.33279688 1.36453014 1.3962634  1.42799666 1.45972992 1.49146318\n",
            "  1.52319644 1.5549297  1.58666296 1.61839622 1.65012947 1.68186273\n",
            "  1.71359599 1.74532925 1.77706251 1.80879577 1.84052903 1.87226229\n",
            "  1.90399555 1.93572881 1.96746207 1.99919533 2.03092858 2.06266184\n",
            "  2.0943951  2.12612836 2.15786162 2.18959488 2.22132814 2.2530614\n",
            "  2.28479466 2.31652792 2.34826118 2.37999443 2.41172769 2.44346095\n",
            "  2.47519421 2.50692747 2.53866073 2.57039399 2.60212725 2.63386051\n",
            "  2.66559377 2.69732703 2.72906028 2.76079354 2.7925268  2.82426006\n",
            "  2.85599332 2.88772658 2.91945984 2.9511931  2.98292636 3.01465962\n",
            "  3.04639288 3.07812614 3.10985939 3.14159265]]\n"
          ]
        }
      ]
    },
    {
      "cell_type": "markdown",
      "metadata": {
        "id": "22cb05dc"
      },
      "source": [
        "## Summary\n",
        "1. NumPy arrays are very important data structures in Python for machine learning and mathematical operations\n",
        "1. Numpy arrays can be 1 dimensional or many dimensional\n",
        "1. Two dimensional arrays can be transposed like matrices in mathematics \n",
        "1. Numpy arrays contain a large amount of functions which can be applied to their content"
      ],
      "id": "22cb05dc"
    },
    {
      "cell_type": "code",
      "metadata": {
        "id": "a93c443a"
      },
      "source": [
        ""
      ],
      "id": "a93c443a",
      "execution_count": null,
      "outputs": []
    }
  ]
}