{
 "cells": [
  {
   "cell_type": "markdown",
   "metadata": {},
   "source": [
    "# Applied Machine Learning (2021), exercises\n",
    "\n",
    "\n",
    "## General instructions for all exercises\n",
    "\n",
    "Before you turn this problem in, make sure everything runs as expected. First, **restart the kernel** (in the menubar, select Kernel$\\rightarrow$Restart) and then **run all cells** (in the menubar, select Cell$\\rightarrow$Run All).\n",
    "\n",
    "Follow the instructions and fill in your solution under the line marked by tag\n",
    "\n",
    "> YOUR CODE HERE\n",
    "\n",
    "Do not change other areas of the document, since it may disturb the autograding of your results!\n",
    "  \n",
    "Having written the answer, execute the code cell by and pressing `Shift-Enter` key combination. The code is run, and it may print some information under the code cell. The focus automatically moves to the next cell and you may \"execute\" that cell by pressing `Shift-Enter` again, until you have reached the code cell which tests your solution. Execute that and follow the feedback. Usually it either says that the solution seems acceptable, or reports some errors. You can go back to your solution, modify it and repeat everything until you are satisfied. Then proceed to the next task.\n",
    "   \n",
    "Repeat the process for all tasks.\n",
    "\n",
    "The notebook may also contain manually graded answers. Write your manualle graded answer under the line marked by tag:\n",
    "\n",
    "> YOUR ANSWER HERE\n",
    "\n",
    "Manually graded tasks may be text, pseudocode, or mathematical formulas. You can write formulas with $\\LaTeX$-syntax by enclosing the formula with dollar signs (`$`), for example `$f(x)=2 \\pi / \\alpha$`, will produce $f(x)=2 \\pi / \\alpha$\n",
    "\n",
    "When you have passed the tests in the notebook, and you are ready to submit your solutions, download the whole notebook, using menu `File -> Download as -> Notebook (.ipynb)`. Save the file in your hard disk, and submit it in [Moodle](https://moodle.uwasa.fi) under the corresponding excercise.\n",
    "\n",
    "Your solution should be an executable Python code. Use the code already existing as an example of Python programing and read more from the numerous Python programming material from the Internet if necessary. \n"
   ]
  },
  {
   "cell_type": "code",
   "execution_count": null,
   "metadata": {},
   "outputs": [],
   "source": [
    "NAME = \"LEON DARIO CORREA RAMIREZ\"\n",
    "Student_number = \"e122676\""
   ]
  },
  {
   "cell_type": "markdown",
   "metadata": {},
   "source": [
    "---"
   ]
  },
  {
   "cell_type": "markdown",
   "metadata": {
    "deletable": false,
    "editable": false,
    "nbgrader": {
     "cell_type": "markdown",
     "checksum": "ac0abf8467c557f3b5a0227eb266ce3a",
     "grade": false,
     "grade_id": "cell-0bd9bf369d15fc72",
     "locked": true,
     "schema_version": 3,
     "solution": false,
     "task": false
    }
   },
   "source": [
    "## Reading, and visualizing data with pandas\n",
    "\n",
    "This exercise contains the following tasks:\n",
    "\n",
    "1. Read the CSV data to Pandas dataframe\n",
    "1. Study the data statistics \n",
    "1. Slice and plot Finnish Covid cases\n",
    "1. Parse timestamps from strings\n",
    "1. Differentiate the data to get daily cases\n",
    "1. Store the data in four different formats"
   ]
  },
  {
   "cell_type": "code",
   "execution_count": 1,
   "metadata": {
    "ExecuteTime": {
     "end_time": "2021-10-13T09:02:21.482466Z",
     "start_time": "2021-10-13T09:02:19.616315Z"
    },
    "deletable": false,
    "editable": false,
    "nbgrader": {
     "cell_type": "code",
     "checksum": "05b40b60b8c242d5cdd8adaa202726b9",
     "grade": false,
     "grade_id": "cell-4fd5279efd07c830",
     "locked": true,
     "schema_version": 3,
     "solution": false,
     "task": false
    }
   },
   "outputs": [],
   "source": [
    "#%load_ext autoreload\n",
    "#%autoreload 2\n",
    "import pandas as pd\n",
    "import matplotlib.pyplot as plt\n",
    "import numpy as np\n",
    "import ipywidgets as widgets\n",
    "import Ex2code\n",
    "\n",
    "import seaborn as sns\n",
    "# This makes the plots to have white background and grids by default\n",
    "#plt.style.use('seaborn-whitegrid')\n",
    "sns.set()\n"
   ]
  },
  {
   "cell_type": "markdown",
   "metadata": {
    "deletable": false,
    "editable": false,
    "nbgrader": {
     "cell_type": "markdown",
     "checksum": "58b85e11489f5ebeafa128bdcb10c58f",
     "grade": false,
     "grade_id": "cell-13bde4d9e4eb3309",
     "locked": true,
     "schema_version": 3,
     "solution": false,
     "task": false
    }
   },
   "source": [
    "### Task 1: Read and examine data\n",
    "#### a) Read the CSV data to Pandas dataframe\n",
    "\n",
    "Read the data file `time_series_covid_19_confirmed.csv` to a pandas dataframe called `D`, and display the head and tail of the dataframe.\n",
    "\n",
    "The data is taken from [Kaggle](https://www.kaggle.com/sudalairajkumar/novel-corona-virus-2019-dataset?rvi=1)."
   ]
  },
  {
   "cell_type": "code",
   "execution_count": 2,
   "metadata": {
    "ExecuteTime": {
     "end_time": "2021-10-12T18:22:38.149311Z",
     "start_time": "2021-10-12T18:22:37.983416Z"
    },
    "deletable": false,
    "nbgrader": {
     "cell_type": "code",
     "checksum": "7a65685ae10a6af139e7f3853fdfbbbd",
     "grade": false,
     "grade_id": "cell-f847b9b64c459963",
     "locked": false,
     "schema_version": 3,
     "solution": true,
     "task": false
    }
   },
   "outputs": [
    {
     "name": "stdout",
     "output_type": "stream",
     "text": [
      "Shape:\n",
      " (276, 498)\n",
      "\n",
      "Province/State    190\n",
      "Country/Region      0\n",
      "Lat                 2\n",
      "Long                2\n",
      "1/22/20             0\n",
      "                 ... \n",
      "5/25/21             0\n",
      "5/26/21             0\n",
      "5/27/21             0\n",
      "5/28/21             0\n",
      "5/29/21             0\n",
      "Length: 498, dtype: int64\n"
     ]
    }
   ],
   "source": [
    "# YOUR CODE HERE\n",
    "\n",
    "#Read .csv files\n",
    "D = pd.read_csv('time_series_covid_19_confirmed.csv',skipinitialspace = True)\n",
    "D.head(3)\n",
    "\n",
    "#Describe data\n",
    "D.describe()\n",
    "print(\"Shape:\\n\",D.shape)\n",
    "print(\"\")\n",
    "\n",
    "#Count all nan\n",
    "Dnan = D.isna().sum()\n",
    "print(Dnan)"
   ]
  },
  {
   "cell_type": "code",
   "execution_count": 3,
   "metadata": {
    "ExecuteTime": {
     "end_time": "2021-10-12T18:40:46.472712Z",
     "start_time": "2021-10-12T18:40:46.428948Z"
    },
    "deletable": false,
    "editable": false,
    "nbgrader": {
     "cell_type": "code",
     "checksum": "2346c52c427e29332240638a7a78db98",
     "grade": true,
     "grade_id": "cell-4921356b2337c8ff",
     "locked": true,
     "points": 1,
     "schema_version": 3,
     "solution": false,
     "task": false
    }
   },
   "outputs": [],
   "source": [
    "# Some testing\n",
    "assert(D.shape == (276,498)), \"The shape of the data does not seem to be correct\"\n"
   ]
  },
  {
   "cell_type": "markdown",
   "metadata": {
    "deletable": false,
    "editable": false,
    "nbgrader": {
     "cell_type": "markdown",
     "checksum": "e05cb09c30e9a53a0f28c3b969a9cba6",
     "grade": false,
     "grade_id": "cell-0e40a44f622ce9c6",
     "locked": true,
     "schema_version": 3,
     "solution": false,
     "task": false
    }
   },
   "source": [
    "#### Task 1 b)  Study the statistics of the data\n",
    "\n",
    "Study the statistics of the corona data, using `.head()` and `.describe()` functions. \n",
    "Do you find missing values in the data? If you do, which column contains most of the missing values"
   ]
  },
  {
   "cell_type": "code",
   "execution_count": 4,
   "metadata": {
    "ExecuteTime": {
     "end_time": "2021-10-13T09:02:24.206834Z",
     "start_time": "2021-10-13T09:02:24.184801Z"
    },
    "code_folding": [],
    "deletable": false,
    "editable": false,
    "nbgrader": {
     "cell_type": "code",
     "checksum": "49a35b67f7371d09f3b3df70f4844a72",
     "grade": false,
     "grade_id": "cell-df028996c0ec05b4",
     "locked": true,
     "schema_version": 3,
     "solution": false,
     "task": false
    }
   },
   "outputs": [
    {
     "name": "stdout",
     "output_type": "stream",
     "text": [
      "Which of the features contains most missing values\n"
     ]
    },
    {
     "data": {
      "application/vnd.jupyter.widget-view+json": {
       "model_id": "2f410384d3e545afb4a25094c49d45cb",
       "version_major": 2,
       "version_minor": 0
      },
      "text/plain": [
       "RadioButtons(description='Select feature:', options=(('No selection', -1), ('There are no missing values', 0),…"
      ]
     },
     "metadata": {},
     "output_type": "display_data"
    }
   ],
   "source": [
    "ans1b=Ex2code.task1b()\n",
    "display(ans1b)"
   ]
  },
  {
   "cell_type": "code",
   "execution_count": 5,
   "metadata": {
    "ExecuteTime": {
     "end_time": "2021-10-13T09:20:44.749127Z",
     "start_time": "2021-10-13T09:20:44.742429Z"
    },
    "deletable": false,
    "editable": false,
    "nbgrader": {
     "cell_type": "code",
     "checksum": "ea5bb860d6aae024a857e32f08ea87a3",
     "grade": true,
     "grade_id": "cell-12bc6b10d571e6cc",
     "locked": true,
     "points": 1,
     "schema_version": 3,
     "solution": false,
     "task": false
    }
   },
   "outputs": [],
   "source": [
    "assert(ans1b.value>=0), \"Please make a selection from the previous menu\"\n"
   ]
  },
  {
   "cell_type": "markdown",
   "metadata": {},
   "source": [
    "#### Task 1 c) Missing values\n",
    "What would be the best strategy to mitigate missing values if we are interested only in Finnish situation? Drop rows with missing values, Drop columns with missing values or impute missing values with empty strings?\n"
   ]
  },
  {
   "cell_type": "code",
   "execution_count": 6,
   "metadata": {
    "ExecuteTime": {
     "end_time": "2021-10-12T19:12:18.116561Z",
     "start_time": "2021-10-12T19:12:17.994261Z"
    },
    "deletable": false,
    "nbgrader": {
     "cell_type": "code",
     "checksum": "0f71ab8794b779c15ccecd0fa39eb27f",
     "grade": false,
     "grade_id": "cell-1f28c244a918f971",
     "locked": false,
     "schema_version": 3,
     "solution": true,
     "task": false
    }
   },
   "outputs": [
    {
     "data": {
      "text/plain": [
       "1/22/20        0\n",
       "1/23/20        0\n",
       "1/24/20        0\n",
       "1/25/20        0\n",
       "1/26/20        0\n",
       "           ...  \n",
       "5/25/21    91744\n",
       "5/26/21    91964\n",
       "5/27/21    92062\n",
       "5/28/21    92244\n",
       "5/29/21    92244\n",
       "Name: Finland, Length: 494, dtype: int64"
      ]
     },
     "execution_count": 6,
     "metadata": {},
     "output_type": "execute_result"
    }
   ],
   "source": [
    "# Write your code for studying the data here and then select correct answer from the \n",
    "# list in the next cell\n",
    "\n",
    "# YOUR CODE HERE\n",
    "\n",
    "#Explore data related to Finland, use 'Country/Region' as indexing\n",
    "D = pd.read_csv('time_series_covid_19_confirmed.csv', index_col=1, skipinitialspace = True)\n",
    "D.loc['Finland']\n",
    "\n",
    "#NaN values are on the Province/State column, therefore dropping the columns is suggested\n",
    "Ddrop = D.dropna(axis='columns')\n",
    "Ddrop.loc['Finland']"
   ]
  },
  {
   "cell_type": "code",
   "execution_count": 7,
   "metadata": {
    "ExecuteTime": {
     "end_time": "2021-10-13T09:02:43.687259Z",
     "start_time": "2021-10-13T09:02:43.662340Z"
    },
    "deletable": false,
    "editable": false,
    "nbgrader": {
     "cell_type": "code",
     "checksum": "920c719b63c7f85757d3e4f953b5a81e",
     "grade": false,
     "grade_id": "cell-78bf7bbbc09a1b5d",
     "locked": true,
     "schema_version": 3,
     "solution": false,
     "task": false
    }
   },
   "outputs": [
    {
     "data": {
      "application/vnd.jupyter.widget-view+json": {
       "model_id": "42c6e1dfb30746c082c4c41115c3aed0",
       "version_major": 2,
       "version_minor": 0
      },
      "text/plain": [
       "RadioButtons(description='Strategy:', options=('No selection', 'Drop columns', 'Drop rows', 'Imputation', 'Non…"
      ]
     },
     "metadata": {},
     "output_type": "display_data"
    }
   ],
   "source": [
    "ans1c=Ex2code.task1c()\n",
    "display(ans1c)"
   ]
  },
  {
   "cell_type": "code",
   "execution_count": 8,
   "metadata": {
    "ExecuteTime": {
     "end_time": "2021-10-12T19:13:05.410092Z",
     "start_time": "2021-10-12T19:13:05.388625Z"
    },
    "deletable": false,
    "editable": false,
    "nbgrader": {
     "cell_type": "code",
     "checksum": "c46ae396569af9f0a632bcddecba48c1",
     "grade": true,
     "grade_id": "cell-4957dc3fe0a5d4a7",
     "locked": true,
     "points": 1,
     "schema_version": 3,
     "solution": false,
     "task": false
    }
   },
   "outputs": [
    {
     "name": "stdout",
     "output_type": "stream",
     "text": [
      "Drop columns\n"
     ]
    }
   ],
   "source": [
    "print(ans1c.value)\n",
    "assert(ans1c.value!=\"No selection\"), \"Please make a selection from the previous menu\"\n"
   ]
  },
  {
   "cell_type": "markdown",
   "metadata": {
    "deletable": false,
    "editable": false,
    "nbgrader": {
     "cell_type": "markdown",
     "checksum": "5f4df997230e81cf717b7cde17427040",
     "grade": false,
     "grade_id": "cell-50d2869d3a3a4b41",
     "locked": true,
     "schema_version": 3,
     "solution": false,
     "task": false
    }
   },
   "source": [
    "### Task 2: Slice and plot Finnish Covid cases\n",
    "\n",
    "Select the data to represent confirmed Covid cases in Finland, by selecting the right row, and only those columns, which shows the numbers of cases (all columns except first four). Transpose the selected slice of the Dataframe, using transpose operator `.T`. This makes rows to become columns and columns to become rows, just like the transpose of a Matrix in mathematics. You can chain the `.loc`, `.iloc` and `.T` operators in one line to accomplish your task.\n",
    "\n",
    "Save this resulting one-column dataframe by name `DF` in the workspace, and plot it using `.plot()` -function.\n"
   ]
  },
  {
   "cell_type": "code",
   "execution_count": 9,
   "metadata": {
    "ExecuteTime": {
     "end_time": "2021-10-12T18:55:16.665042Z",
     "start_time": "2021-10-12T18:55:16.438338Z"
    },
    "deletable": false,
    "nbgrader": {
     "cell_type": "code",
     "checksum": "e0ba5e58891dfbe38f40efafc5389ece",
     "grade": false,
     "grade_id": "cell-384aa526eb314739",
     "locked": false,
     "schema_version": 3,
     "solution": true,
     "task": false
    }
   },
   "outputs": [
    {
     "data": {
      "text/plain": [
       "<AxesSubplot:>"
      ]
     },
     "execution_count": 9,
     "metadata": {},
     "output_type": "execute_result"
    },
    {
     "data": {
      "image/png": "[encoded data removed]",
      "text/plain": [
       "<Figure size 432x288 with 1 Axes>"
      ]
     },
     "metadata": {},
     "output_type": "display_data"
    }
   ],
   "source": [
    "# YOUR CODE HERE\n",
    "#Remove non-needed data, 4 first columns and display only Finland Covid info in a single column\n",
    "DF = D.drop(columns=['Province/State', 'Lat', 'Long']).loc[['Finland']].T\n",
    "DF.columns\n",
    "\n",
    "#Plot the data for finland\n",
    "plt.style.use('seaborn-whitegrid')\n",
    "DF.plot()\n"
   ]
  },
  {
   "cell_type": "code",
   "execution_count": 10,
   "metadata": {
    "ExecuteTime": {
     "end_time": "2021-10-12T18:43:17.107645Z",
     "start_time": "2021-10-12T18:43:17.056007Z"
    },
    "deletable": false,
    "editable": false,
    "nbgrader": {
     "cell_type": "code",
     "checksum": "0a0ee0aa283e5af035c57b3f194c56dc",
     "grade": true,
     "grade_id": "cell-dd2991cc709c91d5",
     "locked": true,
     "points": 2,
     "schema_version": 3,
     "solution": false,
     "task": false
    }
   },
   "outputs": [],
   "source": [
    "assert(DF.shape==(494,1))"
   ]
  },
  {
   "cell_type": "markdown",
   "metadata": {
    "deletable": false,
    "editable": false,
    "nbgrader": {
     "cell_type": "markdown",
     "checksum": "edf3889aa8e38863bf5c24eeb7e8bbab",
     "grade": false,
     "grade_id": "cell-3891aad33a622798",
     "locked": true,
     "schema_version": 3,
     "solution": false,
     "task": false
    }
   },
   "source": [
    "### Task 3: Parse timestamps to datetime objects\n",
    "The data looks familiar and would be usefull already for many purposes, but it has still a problem. This is obviously a time series, but the computer does not yet understand what the values in time-axis are, and they are handled just strings without meaning. \n",
    "\n",
    "To let the computer understand them, they needs to be parsed to datetime objects. Any string can be parsed to datetime using string parser function, called `strptime()`. It uses a template for mathing a string to years (`%y`), months (`%m`) and days (`%d`). See more exact description from the [documentation](https://www.programiz.com/python-programming/datetime/strptime).\n",
    "\n",
    "The function for parsing the timestamp strings is provided below.\n"
   ]
  },
  {
   "cell_type": "code",
   "execution_count": 11,
   "metadata": {
    "ExecuteTime": {
     "end_time": "2021-10-12T18:43:22.999518Z",
     "start_time": "2021-10-12T18:43:22.983659Z"
    },
    "deletable": false,
    "editable": false,
    "nbgrader": {
     "cell_type": "code",
     "checksum": "377c730894100cdbdd6ec061257c80a4",
     "grade": false,
     "grade_id": "cell-99dbc583693250d4",
     "locked": true,
     "schema_version": 3,
     "solution": false,
     "task": false
    }
   },
   "outputs": [],
   "source": [
    "#task4\n",
    "indexes=DF.index\n",
    "\n",
    "from datetime import datetime\n",
    "\n",
    "# Parse a timestamp\n",
    "def parseTime(s):\n",
    "    return datetime.strptime(s, \"%m/%d/%y\")\n",
    "\n"
   ]
  },
  {
   "cell_type": "markdown",
   "metadata": {
    "deletable": false,
    "editable": false,
    "nbgrader": {
     "cell_type": "markdown",
     "checksum": "19298f18e6581e8a48c2c9c85a8be942",
     "grade": false,
     "grade_id": "cell-c05cbc4e0d3ffe40",
     "locked": true,
     "schema_version": 3,
     "solution": false,
     "task": false
    }
   },
   "source": [
    "Replace the index of `DF` by parsing the list of values in it into list of datetime objects, and assign it to the new index. \n",
    "\n",
    "You can read the values of the current index, using a read/write property `.index` of the dataframe, and you can update the index by assigning a list of datetime objects into it. \n",
    "\n",
    "You can apply the previous `parseTime()`-function to all values in a list of date-strings by using a `map()` function in python as follows\n",
    "\n",
    " `map(parseTime, listOfStringValues)`\n",
    " \n",
    " See more from [documentation](https://www.programiz.com/python-programming/methods/built-in/map).\n",
    " \n",
    " Note that if you try to run it again, it will give you an error, since the index values are no longer strings, which could be parsed again.\n",
    " \n",
    " Now plot the data again, and you will notice that the computer now understands the time axis and can show it differently.\n",
    " \n",
    " Try to slice the data and only plot the values for september (`DF.loc['yyyy-mm']`). See how the time axis is scaled again."
   ]
  },
  {
   "cell_type": "code",
   "execution_count": 12,
   "metadata": {
    "ExecuteTime": {
     "end_time": "2021-10-12T18:57:19.768823Z",
     "start_time": "2021-10-12T18:57:19.118376Z"
    },
    "deletable": false,
    "nbgrader": {
     "cell_type": "code",
     "checksum": "3232bd148b0659933f0a087d4ffbef88",
     "grade": false,
     "grade_id": "cell-04ebd028e3a77d06",
     "locked": false,
     "schema_version": 3,
     "solution": true,
     "task": false
    }
   },
   "outputs": [
    {
     "name": "stdout",
     "output_type": "stream",
     "text": [
      "Country/Region\n",
      "Finland    9288\n",
      "Name: 2020-09-23 00:00:00, dtype: int64\n",
      "\n"
     ]
    },
    {
     "data": {
      "image/png": "[encoded data removed]",
      "text/plain": [
       "<Figure size 432x288 with 1 Axes>"
      ]
     },
     "metadata": {},
     "output_type": "display_data"
    },
    {
     "data": {
      "image/png": "[encoded data removed]",
      "text/plain": [
       "<Figure size 432x288 with 1 Axes>"
      ]
     },
     "metadata": {},
     "output_type": "display_data"
    }
   ],
   "source": [
    "# YOUR CODE HERE\n",
    "#Index update into timestamps\n",
    "DF.index = map(parseTime, indexes)\n",
    "\n",
    "#Updated Axis\n",
    "DF.plot()\n",
    "\n",
    "#Plotted values for september 2020\n",
    "(DF.loc['2020-09']).plot()\n",
    "\n",
    "#Cases for 2020-09-23\n",
    "print(DF.loc['2020-09-23'])\n",
    "print(\"\")"
   ]
  },
  {
   "cell_type": "code",
   "execution_count": 13,
   "metadata": {
    "ExecuteTime": {
     "end_time": "2021-10-12T18:57:47.319972Z",
     "start_time": "2021-10-12T18:57:47.303401Z"
    },
    "deletable": false,
    "editable": false,
    "nbgrader": {
     "cell_type": "code",
     "checksum": "62814c169a0bb0047af05c6d9084bdca",
     "grade": true,
     "grade_id": "cell-f5f06c8b398ff91e",
     "locked": true,
     "points": 2,
     "schema_version": 3,
     "solution": false,
     "task": false
    }
   },
   "outputs": [
    {
     "ename": "AssertionError",
     "evalue": "",
     "output_type": "error",
     "traceback": [
      "\u001b[0;31m---------------------------------------------------------------------------\u001b[0m",
      "\u001b[0;31mAssertionError\u001b[0m                            Traceback (most recent call last)",
      "\u001b[0;32m/tmp/ipykernel_135/386667399.py\u001b[0m in \u001b[0;36m<module>\u001b[0;34m\u001b[0m\n\u001b[0;32m----> 1\u001b[0;31m \u001b[0;32massert\u001b[0m\u001b[0;34m(\u001b[0m\u001b[0;34m(\u001b[0m\u001b[0mDF\u001b[0m\u001b[0;34m.\u001b[0m\u001b[0mloc\u001b[0m\u001b[0;34m[\u001b[0m\u001b[0;34m'2020-09-23'\u001b[0m\u001b[0;34m]\u001b[0m\u001b[0;34m==\u001b[0m\u001b[0;36m5343\u001b[0m\u001b[0;34m)\u001b[0m\u001b[0;34m.\u001b[0m\u001b[0mvalues\u001b[0m\u001b[0;34m[\u001b[0m\u001b[0;36m0\u001b[0m\u001b[0;34m]\u001b[0m\u001b[0;34m)\u001b[0m\u001b[0;34m\u001b[0m\u001b[0;34m\u001b[0m\u001b[0m\n\u001b[0m",
      "\u001b[0;31mAssertionError\u001b[0m: "
     ]
    }
   ],
   "source": [
    "assert((DF.loc['2020-09-23']==5343).values[0])\n"
   ]
  },
  {
   "cell_type": "markdown",
   "metadata": {
    "deletable": false,
    "editable": false,
    "nbgrader": {
     "cell_type": "markdown",
     "checksum": "acfad9e633121a188846efd84f166452",
     "grade": false,
     "grade_id": "cell-786420cd5eec7cd0",
     "locked": true,
     "schema_version": 3,
     "solution": false,
     "task": false
    }
   },
   "source": [
    "### Task 5: Differentiate to get the daily cases\n",
    "\n",
    "Now calculate the daily cases, by calculating the difference of the cumulative number of confirmed cases, using the `.diff()` function of the dataframe as name `daily`, and plot it. \n",
    "\n",
    "If you have time, you can also smooth the daily graph by using a rolling average (`.rolling()`), and plot the smoothed curve in different plot or the same plot. See examples from:\n",
    "- Pandas [diff function](https://pandas.pydata.org/pandas-docs/stable/reference/api/pandas.DataFrame.diff.html)\n",
    "- Pandas [rolling function](https://pandas.pydata.org/pandas-docs/stable/reference/api/pandas.DataFrame.rolling.html)\n",
    "\n",
    "Tip: If you want to plot both graphs in one figure, let the first plot return an axis object `ax` and define the new plot to use that same axis, as follows:\n",
    "\n",
    "`\n",
    "ax = daily. ... .plot(...)\n",
    "daily. ... .plot(ax=ax)\n",
    "`"
   ]
  },
  {
   "cell_type": "code",
   "execution_count": 14,
   "metadata": {
    "ExecuteTime": {
     "end_time": "2021-10-12T18:57:55.219358Z",
     "start_time": "2021-10-12T18:57:54.723087Z"
    },
    "deletable": false,
    "nbgrader": {
     "cell_type": "code",
     "checksum": "d2312370814571dd7575a08ba0db29ef",
     "grade": false,
     "grade_id": "cell-5eb1bffa3a0c4d15",
     "locked": false,
     "schema_version": 3,
     "solution": true,
     "task": false
    }
   },
   "outputs": [
    {
     "data": {
      "text/plain": [
       "<AxesSubplot:>"
      ]
     },
     "execution_count": 14,
     "metadata": {},
     "output_type": "execute_result"
    },
    {
     "data": {
      "image/png": "[encoded data removed]",
      "text/plain": [
       "<Figure size 432x288 with 1 Axes>"
      ]
     },
     "metadata": {},
     "output_type": "display_data"
    }
   ],
   "source": [
    "# YOUR CODE HERE\n",
    "#Get and plot daily cases\n",
    "daily = DF.diff()\n",
    "ax = daily.plot()\n",
    "\n",
    "#Smooth and plot daily cases, increasing the window size makes the curve softer\n",
    "smoothcurve = daily.rolling(10).mean()\n",
    "smoothcurve.plot(ax = ax)"
   ]
  },
  {
   "cell_type": "code",
   "execution_count": 15,
   "metadata": {
    "ExecuteTime": {
     "end_time": "2021-10-12T18:58:09.662966Z",
     "start_time": "2021-10-12T18:58:09.605270Z"
    },
    "deletable": false,
    "editable": false,
    "nbgrader": {
     "cell_type": "code",
     "checksum": "d2c5b4c23e57588e5cfe0280ea370e68",
     "grade": true,
     "grade_id": "cell-4212a0eb49229648",
     "locked": true,
     "points": 2,
     "schema_version": 3,
     "solution": false,
     "task": false
    }
   },
   "outputs": [
    {
     "name": "stdout",
     "output_type": "stream",
     "text": [
      "Country/Region\n",
      "Finland    93.0\n",
      "Name: 2020-09-23 00:00:00, dtype: float64\n"
     ]
    },
    {
     "ename": "AssertionError",
     "evalue": "",
     "output_type": "error",
     "traceback": [
      "\u001b[0;31m---------------------------------------------------------------------------\u001b[0m",
      "\u001b[0;31mAssertionError\u001b[0m                            Traceback (most recent call last)",
      "\u001b[0;32m/tmp/ipykernel_135/831885055.py\u001b[0m in \u001b[0;36m<module>\u001b[0;34m\u001b[0m\n\u001b[1;32m      1\u001b[0m \u001b[0;32massert\u001b[0m\u001b[0;34m(\u001b[0m\u001b[0mdaily\u001b[0m\u001b[0;34m.\u001b[0m\u001b[0mshape\u001b[0m\u001b[0;34m==\u001b[0m\u001b[0;34m(\u001b[0m\u001b[0;36m494\u001b[0m\u001b[0;34m,\u001b[0m\u001b[0;36m1\u001b[0m\u001b[0;34m)\u001b[0m\u001b[0;34m)\u001b[0m\u001b[0;34m,\u001b[0m \u001b[0;34m\"The shape of the differentiated data does not seem right\"\u001b[0m\u001b[0;34m\u001b[0m\u001b[0;34m\u001b[0m\u001b[0m\n\u001b[1;32m      2\u001b[0m \u001b[0mprint\u001b[0m\u001b[0;34m(\u001b[0m\u001b[0mdaily\u001b[0m\u001b[0;34m.\u001b[0m\u001b[0mloc\u001b[0m\u001b[0;34m[\u001b[0m\u001b[0;34m'2020-09-23'\u001b[0m\u001b[0;34m]\u001b[0m\u001b[0;34m)\u001b[0m\u001b[0;34m\u001b[0m\u001b[0;34m\u001b[0m\u001b[0m\n\u001b[0;32m----> 3\u001b[0;31m \u001b[0;32massert\u001b[0m\u001b[0;34m(\u001b[0m\u001b[0mdaily\u001b[0m\u001b[0;34m.\u001b[0m\u001b[0mloc\u001b[0m\u001b[0;34m[\u001b[0m\u001b[0;34m'2020-09-23'\u001b[0m\u001b[0;34m]\u001b[0m\u001b[0;34m.\u001b[0m\u001b[0mvalues\u001b[0m\u001b[0;34m[\u001b[0m\u001b[0;36m0\u001b[0m\u001b[0;34m]\u001b[0m\u001b[0;34m==\u001b[0m\u001b[0;36m36\u001b[0m\u001b[0;34m)\u001b[0m\u001b[0;34m\u001b[0m\u001b[0;34m\u001b[0m\u001b[0m\n\u001b[0m",
      "\u001b[0;31mAssertionError\u001b[0m: "
     ]
    }
   ],
   "source": [
    "assert(daily.shape==(494,1)), \"The shape of the differentiated data does not seem right\"\n",
    "print(daily.loc['2020-09-23'])\n",
    "assert(daily.loc['2020-09-23'].values[0]==36)\n"
   ]
  },
  {
   "cell_type": "markdown",
   "metadata": {
    "deletable": false,
    "editable": false,
    "nbgrader": {
     "cell_type": "markdown",
     "checksum": "4eb92d50d4739244992284560a3904e5",
     "grade": false,
     "grade_id": "cell-c41aef2181959a13",
     "locked": true,
     "schema_version": 3,
     "solution": false,
     "task": false
    }
   },
   "source": [
    "### Task 6: Save the parsed data to different formats\n",
    "\n",
    "Save the parsed dataframe, DF, in different formats:\n",
    " - CSV, use function `.to_csv()`, read documentation inline or from [net](), use filename `cases.csv`\n",
    " - HDF5, use function `.to_hdf()`, read documentation inline or from [net](https://pandas.pydata.org/pandas-docs/stable/reference/api/pandas.DataFrame.to_hdf.html), use filename `cases.hdf`, and key='data'\n",
    " - parquet, use function `.to_parquet()`, read documentation inline or from [net](https://pandas.pydata.org/pandas-docs/stable/reference/api/pandas.DataFrame.to_parquet.html), use filename `cases.parquet`\n",
    " - feather, use function `.to_feather()`, read documentation inline or from [net](https://pandas.pydata.org/pandas-docs/stable/reference/api/pandas.DataFrame.to_feather.html), use filename `cases.feather`\n",
    " \n",
    " Unfortunately feather or parquet do not support datetime objects as index. To overcome this issue, a new index consisting of only integers is created, and the dat is moved to the separate column. This can be accomplished by simply calling the `.reset_index()` from the dataframe.\n",
    " \n",
    " In addition, Feather and Parquet requires valid column names, so they needs to be defined too, which is a good idea anyway. The column names can be set using read/write property `.columns`:\n",
    " \n",
    " Both requirements can be set as follows:\n",
    " \n",
    " `\n",
    " DF_fixed = DF.reset_index()\n",
    " DF_fixed.columns=('Date', 'Cases')\n",
    " `\n",
    " \n",
    "**See the code in the validation section for reading the files back.**\n",
    "\n",
    "**Note** If you do this at home, install `pyarrow` to support parquet. "
   ]
  },
  {
   "cell_type": "code",
   "execution_count": 20,
   "metadata": {
    "ExecuteTime": {
     "end_time": "2021-10-12T19:03:58.771638Z",
     "start_time": "2021-10-12T19:03:58.655787Z"
    },
    "deletable": false,
    "nbgrader": {
     "cell_type": "code",
     "checksum": "4cdbbb9cb6ad74664feead24958c019b",
     "grade": false,
     "grade_id": "cell-b27e4684e9b154f6",
     "locked": false,
     "schema_version": 3,
     "solution": true,
     "task": false
    }
   },
   "outputs": [],
   "source": [
    "# YOUR CODE HERE\n",
    "#Reset of indexes and column naming\n",
    "DF_fixed = DF.reset_index()\n",
    "DF_fixed.columns = ('Date', 'Cases') \n",
    "\n",
    "#Save files to different formats\n",
    "DF_fixed.to_csv('cases.csv')\n",
    "DF_fixed.to_hdf('cases.hdf', key = 'data' )\n",
    "DF_fixed.to_parquet('cases.parquet')\n",
    "DF_fixed.to_feather('cases.feather')\n",
    "\n"
   ]
  },
  {
   "cell_type": "code",
   "execution_count": 21,
   "metadata": {
    "ExecuteTime": {
     "end_time": "2021-10-12T19:06:11.090114Z",
     "start_time": "2021-10-12T19:06:10.987787Z"
    },
    "deletable": false,
    "editable": false,
    "nbgrader": {
     "cell_type": "code",
     "checksum": "c7f5a61e699be6390c9593d545488a4f",
     "grade": true,
     "grade_id": "cell-91e78d230d52fb4c",
     "locked": true,
     "points": 1,
     "schema_version": 3,
     "solution": false,
     "task": false
    }
   },
   "outputs": [
    {
     "name": "stdout",
     "output_type": "stream",
     "text": [
      "2020-01-23 00:00:00\n"
     ]
    }
   ],
   "source": [
    "data_csv=pd.read_csv('cases.csv')\n",
    "data_hdf=pd.read_hdf('cases.hdf', key='data')\n",
    "data_par=pd.read_parquet('cases.parquet')\n",
    "data_fea=pd.read_feather('cases.feather')\n",
    "\n",
    "print(data_hdf.iloc[1,0])\n",
    "\n",
    "assert((data_csv.shape==(494,2)) or (data_csv.shape==(494,3)))\n",
    "assert((data_hdf.shape==(494,1)) or (data_hdf.shape==(494,2)))\n",
    "assert(data_par.shape==(494,2))\n",
    "assert(data_fea.shape==(494,2))\n",
    "\n",
    "# Check the types of the datetime column values\n",
    "assert((type(data_csv.iloc[1,0])==str) or (type(data_csv.iloc[1,1])==str))\n",
    "assert((type(data_hdf.index[0])==pd.Timestamp) or (type(data_hdf.iloc[1,0])==pd.Timestamp))\n",
    "assert(type(data_par.iloc[1,0])==pd.Timestamp)\n",
    "assert(type(data_fea.iloc[1,0])==pd.Timestamp)"
   ]
  },
  {
   "cell_type": "markdown",
   "metadata": {
    "deletable": false,
    "editable": false,
    "nbgrader": {
     "cell_type": "markdown",
     "checksum": "75aefc37c6dca9e57f3690f29e6cf7fa",
     "grade": false,
     "grade_id": "cell-140553854483d1cf",
     "locked": true,
     "schema_version": 3,
     "solution": false,
     "task": false
    }
   },
   "source": [
    "Note that the binary data formats retain the timestamps objects as timestamps, whereas after reading CSV, the timestamps needs to be parsed again to timestamps.\n",
    "\n",
    "To help deciding which format to use in your own projects, take a look at the \n",
    "[comparison of different file formats](https://towardsdatascience.com/the-best-format-to-save-pandas-data-414dca023e0d). The optimal file format depends also on the application."
   ]
  },
  {
   "cell_type": "code",
   "execution_count": null,
   "metadata": {},
   "outputs": [],
   "source": []
  }
 ],
 "metadata": {
  "kernelspec": {
   "display_name": "Python 3 (ipykernel)",
   "language": "python",
   "name": "python3"
  },
  "language_info": {
   "codemirror_mode": {
    "name": "ipython",
    "version": 3
   },
   "file_extension": ".py",
   "mimetype": "text/x-python",
   "name": "python",
   "nbconvert_exporter": "python",
   "pygments_lexer": "ipython3",
   "version": "3.7.10"
  },
  "toc": {
   "base_numbering": 1,
   "nav_menu": {},
   "number_sections": true,
   "sideBar": true,
   "skip_h1_title": false,
   "title_cell": "Table of Contents",
   "title_sidebar": "Contents",
   "toc_cell": false,
   "toc_position": {},
   "toc_section_display": true,
   "toc_window_display": false
  }
 },
 "nbformat": 4,
 "nbformat_minor": 4
}
