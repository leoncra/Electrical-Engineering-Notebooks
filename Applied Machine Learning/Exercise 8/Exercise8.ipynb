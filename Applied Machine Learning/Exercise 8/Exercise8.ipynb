{
 "cells": [
  {
   "cell_type": "markdown",
   "id": "321a7bef",
   "metadata": {},
   "source": [
    "# Applied Machine Learning (2021), exercises\n",
    "\n",
    "\n",
    "## General instructions for all exercises\n",
    "\n",
    "Before you turn this problem in, make sure everything runs as expected. First, **restart the kernel** (in the menubar, select Kernel$\\rightarrow$Restart) and then **run all cells** (in the menubar, select Cell$\\rightarrow$Run All).\n",
    "\n",
    "Follow the instructions and fill in your solution under the line marked by tag\n",
    "\n",
    "> YOUR CODE HERE\n",
    "\n",
    "Do not change other areas of the document, since it may disturb the autograding of your results!\n",
    "  \n",
    "Having written the answer, execute the code cell by and pressing `Shift-Enter` key combination. The code is run, and it may print some information under the code cell. The focus automatically moves to the next cell and you may \"execute\" that cell by pressing `Shift-Enter` again, until you have reached the code cell which tests your solution. Execute that and follow the feedback. Usually it either says that the solution seems acceptable, or reports some errors. You can go back to your solution, modify it and repeat everything until you are satisfied. Then proceed to the next task.\n",
    "   \n",
    "Repeat the process for all tasks.\n",
    "\n",
    "The notebook may also contain manually graded answers. Write your manualle graded answer under the line marked by tag:\n",
    "\n",
    "> YOUR ANSWER HERE\n",
    "\n",
    "Manually graded tasks may be text, pseudocode, or mathematical formulas. You can write formulas with $\\LaTeX$-syntax by enclosing the formula with dollar signs (`$`), for example `$f(x)=2 \\pi / \\alpha$`, will produce $f(x)=2 \\pi / \\alpha$\n",
    "\n",
    "When you have passed the tests in the notebook, and you are ready to submit your solutions, download the whole notebook, using menu `File -> Download as -> Notebook (.ipynb)`. Save the file in your hard disk, and submit it in [Moodle](https://moodle.uwasa.fi) under the corresponding excercise.\n",
    "\n",
    "Your solution should be an executable Python code. Use the code already existing as an example of Python programing and read more from the numerous Python programming material from the Internet if necessary. \n"
   ]
  },
  {
   "cell_type": "code",
   "execution_count": null,
   "id": "32f57153",
   "metadata": {},
   "outputs": [],
   "source": [
    "NAME = \"LEON DARIO CORREA RAMIREZ\"\n",
    "Student_number = \"E122676\""
   ]
  },
  {
   "cell_type": "markdown",
   "id": "8c486325",
   "metadata": {},
   "source": [
    "---"
   ]
  },
  {
   "cell_type": "markdown",
   "id": "0c06ee9f",
   "metadata": {},
   "source": [
    "# NLP"
   ]
  },
  {
   "cell_type": "code",
   "execution_count": 1,
   "id": "30b11e9a",
   "metadata": {
    "ExecuteTime": {
     "end_time": "2021-11-26T18:25:43.126454Z",
     "start_time": "2021-11-26T18:25:42.079134Z"
    }
   },
   "outputs": [
    {
     "name": "stderr",
     "output_type": "stream",
     "text": [
      "C:\\Users\\leonc\\anaconda3\\lib\\site-packages\\gensim\\similarities\\__init__.py:15: UserWarning: The gensim.similarities.levenshtein submodule is disabled, because the optional Levenshtein package <https://pypi.org/project/python-Levenshtein/> is unavailable. Install Levenhstein (e.g. `pip install python-Levenshtein`) to suppress this warning.\n",
      "  warnings.warn(msg)\n"
     ]
    }
   ],
   "source": [
    "# Standard libraries to be used\n",
    "import glob\n",
    "import matplotlib.pyplot as plt\n",
    "import numpy as np\n",
    "plt.style.use('fivethirtyeight')\n",
    "\n",
    "\n",
    "# Import the NLTK library\n",
    "import nltk\n",
    "from nltk.corpus import PlaintextCorpusReader\n",
    "from nltk.stem import  WordNetLemmatizer\n",
    "from nltk.tokenize import word_tokenize\n",
    "from nltk.corpus import stopwords\n",
    "import gensim\n",
    "from gensim import corpora\n",
    "import pyLDAvis\n",
    "from pyLDAvis import gensim_models"
   ]
  },
  {
   "cell_type": "code",
   "execution_count": 2,
   "id": "3b5fe049",
   "metadata": {
    "ExecuteTime": {
     "end_time": "2021-11-26T18:25:43.285977Z",
     "start_time": "2021-11-26T18:25:43.128166Z"
    }
   },
   "outputs": [
    {
     "name": "stderr",
     "output_type": "stream",
     "text": [
      "[nltk_data] Downloading package stopwords to\n",
      "[nltk_data]     C:\\Users\\leonc\\AppData\\Roaming\\nltk_data...\n",
      "[nltk_data]   Package stopwords is already up-to-date!\n",
      "[nltk_data] Downloading package wordnet to\n",
      "[nltk_data]     C:\\Users\\leonc\\AppData\\Roaming\\nltk_data...\n",
      "[nltk_data]   Package wordnet is already up-to-date!\n"
     ]
    }
   ],
   "source": [
    "nltk.download('stopwords')\n",
    "nltk.download('wordnet')\n",
    "\n",
    "lemmatizer = WordNetLemmatizer()\n",
    "stop_words = set(stopwords.words(\"english\"))"
   ]
  },
  {
   "cell_type": "markdown",
   "id": "3660519d",
   "metadata": {},
   "source": [
    "## Task 1\n",
    "\n",
    "Read the sample dataset containing 2491 short sentences each in separate lines. The first five lines of the dataset are shown below:\n",
    "\n",
    "`\n",
    "Innovation in Database Management: Computer Science vs. Engineering.\n",
    "High performance prime field multiplication for GPU.\n",
    "enchanted scissors: a scissor interface for support in cutting and interactive fabrication.\n",
    "Detection of channel degradation attack by Intermediary Node in Linear Networks.\n",
    "Pinning a Complex Network through the Betweenness Centrality Strategy.\n",
    "`\n",
    "\n",
    "Read the data and prepare that for ML using the following phases:\n",
    "\n",
    " - Read the dataset `dataset.txt` using for example PlaintextCorpusReader\n",
    " - Tokenize the dataset to words\n",
    "     - if data is the text data returned by PlaintextCorpusReader, you may find data.sents() as a convenient function to tokenize every line \n",
    " - Remove all words which are shorter than 5 characters\n",
    " - Remove all english stop words\n",
    " - Lemmatize words\n",
    " \n",
    "Store the result in list called as `words`. Make sure that the list contains 2491 sublists, which contain a few words each. "
   ]
  },
  {
   "cell_type": "code",
   "execution_count": 3,
   "id": "91863129",
   "metadata": {
    "ExecuteTime": {
     "end_time": "2021-11-26T18:25:44.623751Z",
     "start_time": "2021-11-26T18:25:43.287084Z"
    },
    "deletable": false,
    "nbgrader": {
     "cell_type": "code",
     "checksum": "2ca58786007c40063e8364dd7be5a851",
     "grade": false,
     "grade_id": "cell-57cbd26d204c9df4",
     "locked": false,
     "schema_version": 3,
     "solution": true,
     "task": false
    }
   },
   "outputs": [],
   "source": [
    "# YOUR CODE HERE\n",
    "\n",
    "# Provide the path and the .txt file for PlaintextCorpusReader\n",
    "path = \"C:\\\\Users\\\\leonc\\\\Google Drive\\\\University\\\\MSc - Courses (1)\\\\Applied Machine Learning\\\\Python\\\\Exercises\\\\Exercise 8\\\\\"\n",
    "data = PlaintextCorpusReader(path, 'dataset.txt')\n",
    "\n",
    "# Creates a list of sentences stored as lists\n",
    "words_original = data.sents()\n",
    "\n",
    "# Create a list of unnecessary words for the code\n",
    "punctuations=set([',','.','!','?','@', '%', ':', ';'])\n",
    "unnecessary = stop_words.union(punctuations)\n",
    "\n",
    "# Append to an empty list the lemmatized value of the lower case words which are not in the unnecesary list of words and their character lenght is greater than 5    \n",
    "words = []\n",
    "for word in words_original:\n",
    "    words.append([lemmatizer.lemmatize(i.lower()) for i in word if i not in unnecessary and len(i)>5])\n"
   ]
  },
  {
   "cell_type": "code",
   "execution_count": 4,
   "id": "8e84bcde",
   "metadata": {
    "ExecuteTime": {
     "end_time": "2021-11-26T18:25:44.631182Z",
     "start_time": "2021-11-26T18:25:44.625404Z"
    },
    "deletable": false,
    "editable": false,
    "nbgrader": {
     "cell_type": "code",
     "checksum": "d5ab2e4ebd7731a14417f6a76a8faec7",
     "grade": true,
     "grade_id": "cell-adb45e9c610a0e80",
     "locked": true,
     "points": 3,
     "schema_version": 3,
     "solution": false,
     "task": false
    }
   },
   "outputs": [],
   "source": [
    "if 'words' not in globals():\n",
    "    print(\"Use name words for a data structure for cleaned words, please.\")\n",
    "\n",
    "if len(words)>3000: print(\"You may have placed all the words in one single list, not as a list of sentences.\")\n",
    "assert(len(words)==2491), \"Check that your words is a list sentences, which are list of words\"\n",
    "\n",
    "if len(words[0])>6: print(\"Perhaps you forgot to exclude words shorter than 5 characters\") \n",
    "assert(len(words[0])==6), \"Check that each item in the list is a sigle sentence\"\n",
    "\n",
    "if words[0][0]=='Innovation': print (\"Convert to lowercase. You may use token.lower() to convert a token to lowercase\")\n",
    "assert(words[0][0]=='innovation')\n",
    "    \n",
    "if (words[8][6]=='attacks'): print(\"You probably forgot to lemmatize words\")\n",
    "assert(words[8][6]=='attack')\n"
   ]
  },
  {
   "cell_type": "markdown",
   "id": "080be7d7",
   "metadata": {},
   "source": [
    "## Task 2\n",
    "\n",
    "Make an LDA model of the text data\n",
    " - Create a dictionary of words, with gensim\n",
    " - Create a bag of words (bow) from the words using the dictionary, and name it as corpus\n",
    " - Make the ldamodel. Try using 8 topics and 15 passes. Use default values for most of the fields"
   ]
  },
  {
   "cell_type": "code",
   "execution_count": 5,
   "id": "b30345c5",
   "metadata": {
    "ExecuteTime": {
     "end_time": "2021-11-26T18:25:50.570903Z",
     "start_time": "2021-11-26T18:25:44.632197Z"
    },
    "deletable": false,
    "nbgrader": {
     "cell_type": "code",
     "checksum": "cb93cb85420a09db9e793239796ced77",
     "grade": false,
     "grade_id": "cell-fbcbc38e4a09bb2e",
     "locked": false,
     "schema_version": 3,
     "solution": true,
     "task": false
    }
   },
   "outputs": [],
   "source": [
    "# Creation of dictionary with IDs per word\n",
    "dictionary = corpora.Dictionary(words)\n",
    "\n",
    "# Workaround for the bug \n",
    "dictionary[1]\n",
    "\n",
    "# Bag of words from dictionary\n",
    "corpus = [dictionary.doc2bow(word) for word in words]\n",
    "\n",
    "# LDA model for visualization\n",
    "ldamodel = gensim.models.ldamodel.LdaModel(corpus=corpus,\n",
    "                                           id2word=dictionary,\n",
    "                                           num_topics=8, \n",
    "                                           random_state=100,\n",
    "                                           update_every=1,\n",
    "                                           chunksize=len(corpus),\n",
    "                                           passes=15,\n",
    "                                           alpha='asymmetric',\n",
    "                                           per_word_topics=False,\n",
    "                                            eta = 'auto')"
   ]
  },
  {
   "cell_type": "code",
   "execution_count": 6,
   "id": "e25597c3",
   "metadata": {
    "ExecuteTime": {
     "end_time": "2021-11-26T18:25:50.575645Z",
     "start_time": "2021-11-26T18:25:50.572125Z"
    },
    "deletable": false,
    "editable": false,
    "nbgrader": {
     "cell_type": "code",
     "checksum": "c88972018aa9e85b3b7f0e8748195986",
     "grade": true,
     "grade_id": "cell-ce13a392c5c99cf9",
     "locked": true,
     "points": 3,
     "schema_version": 3,
     "solution": false,
     "task": false
    },
    "scrolled": true
   },
   "outputs": [],
   "source": [
    "if 'dictionary' not in globals():\n",
    "    print(\"Use variable dictionary for dictionary, please.\")\n",
    "\n",
    "if 'corpus' not in globals():\n",
    "    print(\"Use variable corpus for bag of words, please.\")\n",
    "\n",
    "assert(dictionary.id2token[1]=='database')\n",
    "assert(len(corpus)==2491)\n",
    "assert(len(corpus[0])==6)\n",
    "assert(len(ldamodel.show_topic(1))==10)"
   ]
  },
  {
   "cell_type": "markdown",
   "id": "c429e123",
   "metadata": {
    "ExecuteTime": {
     "end_time": "2021-11-26T16:36:43.996227Z",
     "start_time": "2021-11-26T16:36:43.844659Z"
    }
   },
   "source": [
    "## Visualize LDA model\n",
    "\n",
    "- Visualize the lda model using pyLDAVis, store the prepared visualization as name `vis`\n",
    "- Adjust the relevance metric $\\lambda=0.2$ from the interactive slider and try to think names for some clusters"
   ]
  },
  {
   "cell_type": "code",
   "execution_count": 9,
   "id": "2cc83157",
   "metadata": {
    "ExecuteTime": {
     "end_time": "2021-11-26T18:26:28.727179Z",
     "start_time": "2021-11-26T18:26:28.031080Z"
    },
    "deletable": false,
    "nbgrader": {
     "cell_type": "code",
     "checksum": "c46b96f90c8d202363a00a91b8ff1bdc",
     "grade": false,
     "grade_id": "cell-9c21b1f39d729d72",
     "locked": false,
     "schema_version": 3,
     "solution": true,
     "task": false
    }
   },
   "outputs": [
    {
     "name": "stderr",
     "output_type": "stream",
     "text": [
      "C:\\Users\\leonc\\anaconda3\\lib\\site-packages\\pyLDAvis\\_prepare.py:246: FutureWarning: In a future version of pandas all arguments of DataFrame.drop except for the argument 'labels' will be keyword-only\n",
      "  default_term_info = default_term_info.sort_values(\n"
     ]
    },
    {
     "data": {
      "text/html": [
       "\n",
       "<link rel=\"stylesheet\" type=\"text/css\" href=\"https://cdn.jsdelivr.net/gh/bmabey/pyLDAvis@3.3.1/pyLDAvis/js/ldavis.v1.0.0.css\">\n",
       "\n",
       "\n",
       "<div id=\"ldavis_el2058414805973370242804016558\"></div>\n",
       "<script type=\"text/javascript\">\n",
       "\n",
       "var ldavis_el2058414805973370242804016558_data = {\"mdsDat\": {\"x\": [0.021119396523192956, 0.10004895335476215, 0.1234758731132726, -0.1339246860138111, -0.0272648122733875, 0.041262830772227865, -0.06433022649656069, -0.060387328979696744], \"y\": [0.0397954514869466, 0.09395339077583816, -0.013585877705425452, 0.09559886149138627, 0.0019442715516598086, -0.0880684658795972, -0.02502610750144638, -0.10461152421936169], \"topics\": [1, 2, 3, 4, 5, 6, 7, 8], \"cluster\": [1, 1, 1, 1, 1, 1, 1, 1], \"Freq\": [35.49081491716542, 24.601749211359547, 12.344876706866732, 7.387584426484118, 5.624703758322114, 5.08861912350525, 4.963444491921708, 4.498207364375114]}, \"tinfo\": {\"Term\": [\"network\", \"analysis\", \"application\", \"filter\", \"design\", \"architecture\", \"algorithm\", \"system\", \"search\", \"continuous\", \"dynamic\", \"robust\", \"scalable\", \"query\", \"sensor\", \"extraction\", \"protocol\", \"wireless\", \"circuit\", \"database\", \"routing\", \"implementation\", \"social\", \"receiver\", \"relational\", \"optimization\", \"throughput\", \"digital\", \"methodology\", \"multicast\", \"object\", \"allocation\", \"reality\", \"oriented\", \"conversion\", \"scaling\", \"moving\", \"surveillance\", \"augmented\", \"stochastic\", \"inductor\", \"programmable\", \"technology\", \"motion\", \"automatic\", \"optimal\", \"cluster\", \"resistor\", \"battery\", \"termination\", \"queueing\", \"surface\", \"compositing\", \"personal\", \"reflectance\", \"capacity\", \"temporal\", \"demand\", \"migration\", \"ladder\", \"stream\", \"analog\", \"distributed\", \"traffic\", \"decoder\", \"adaptive\", \"mapping\", \"optimization\", \"structure\", \"virtual\", \"database\", \"coding\", \"interface\", \"mining\", \"algorithm\", \"wireless\", \"converter\", \"detection\", \"network\", \"dynamic\", \"channel\", \"control\", \"query\", \"analysis\", \"system\", \"service\", \"efficient\", \"information\", \"application\", \"framework\", \"approach\", \"design\", \"sensor\", \"synthesis\", \"congestion\", \"aggregation\", \"realistic\", \"probabilistic\", \"without\", \"association\", \"future\", \"incremental\", \"lightweight\", \"backbone\", \"antenna\", \"collection\", \"modulator\", \"operating\", \"recommender\", \"linearity\", \"thermal\", \"oscillation\", \"imager\", \"analytics\", \"location\", \"overlay\", \"influence\", \"localized\", \"error\", \"neighbor\", \"potential\", \"dropout\", \"health\", \"temperature\", \"animation\", \"minimum\", \"effective\", \"mobile\", \"management\", \"system\", \"social\", \"sharing\", \"scalable\", \"control\", \"sensor\", \"access\", \"network\", \"design\", \"digital\", \"scheduling\", \"efficient\", \"modeling\", \"architecture\", \"current\", \"scheme\", \"wireless\", \"search\", \"content\", \"application\", \"evaluation\", \"amplifier\", \"service\", \"approach\", \"channel\", \"performance\", \"dynamic\", \"relational\", \"anomaly\", \"multipath\", \"satellite\", \"warehousing\", \"generator\", \"community\", \"evolving\", \"bittorrent\", \"publish\", \"subscribe\", \"implemented\", \"bidirectional\", \"interleaved\", \"practice\", \"incomplete\", \"isolated\", \"landmark\", \"caching\", \"transform\", \"eacute\", \"solomon\", \"price\", \"vulnerability\", \"induced\", \"directed\", \"collaboration\", \"divider\", \"omnidirectional\", \"pragmatic\", \"clustering\", \"abstract\", \"oscillator\", \"architecture\", \"propagation\", \"parallel\", \"sampling\", \"routing\", \"reducing\", \"education\", \"programming\", \"transaction\", \"estimation\", \"network\", \"database\", \"method\", \"decision\", \"modeling\", \"decoding\", \"detection\", \"efficient\", \"computing\", \"service\", \"system\", \"application\", \"approach\", \"analysis\", \"signal\", \"measurement\", \"mobile\", \"design\", \"algorithm\", \"sensor\", \"social\", \"wireless\", \"methodology\", \"tuning\", \"dimensional\", \"minimal\", \"personalization\", \"symmetric\", \"defined\", \"approximation\", \"convolution\", \"perfect\", \"containment\", \"normalized\", \"annotating\", \"cubing\", \"authoring\", \"disambiguation\", \"widget\", \"tangible\", \"software\", \"reduced\", \"graphic\", \"timing\", \"receiver\", \"shaping\", \"targeting\", \"texture\", \"criterion\", \"anisotropic\", \"feline\", \"elliptical\", \"entity\", \"table\", \"mtcmos\", \"filter\", \"transfer\", \"scalable\", \"query\", \"complexity\", \"engineering\", \"search\", \"relationship\", \"design\", \"flexible\", \"approach\", \"computer\", \"semantic\", \"digital\", \"model\", \"optimization\", \"system\", \"application\", \"device\", \"information\", \"algorithm\", \"wireless\", \"efficient\", \"modulators\", \"managing\", \"sparql\", \"indirect\", \"gossip\", \"beamforming\", \"continuous\", \"masking\", \"recursive\", \"nyquist\", \"factorization\", \"squarer\", \"reaction\", \"purpose\", \"biomedical\", \"synchronization\", \"carrier\", \"prototyping\", \"reception\", \"embracing\", \"patchtable\", \"analytic\", \"concentric\", \"score\", \"submodular\", \"wearable\", \"dection\", \"expansible\", \"fingersight\", \"automobile\", \"recommendation\", \"throughput\", \"length\", \"testbed\", \"cascaded\", \"accelerated\", \"coupling\", \"response\", \"buffer\", \"hardware\", \"application\", \"multiple\", \"implementation\", \"domain\", \"frequency\", \"design\", \"network\", \"filter\", \"linear\", \"maximizing\", \"analysis\", \"algorithm\", \"function\", \"system\", \"digital\", \"streaming\", \"neural\", \"circuit\", \"optimization\", \"environment\", \"database\", \"approach\", \"transport\", \"importance\", \"multicast\", \"fault\", \"convergence\", \"silicon\", \"compromise\", \"visualizing\", \"proportionate\", \"sapphire\", \"pruning\", \"protecting\", \"erasure\", \"protocol\", \"broadcast\", \"merged\", \"cognitive\", \"session\", \"introductory\", \"precoding\", \"investment\", \"shrink\", \"photovoltaic\", \"maximising\", \"buying\", \"multiradio\", \"multichannel\", \"economically\", \"vernier\", \"revision\", \"harmonic\", \"practical\", \"destination\", \"teaching\", \"library\", \"integration\", \"mobility\", \"internet\", \"reliable\", \"energy\", \"approximate\", \"network\", \"circuit\", \"algorithm\", \"analysis\", \"sensor\", \"wireless\", \"attack\", \"filtering\", \"simulation\", \"system\", \"receiver\", \"hybrid\", \"efficiency\", \"efficient\", \"performance\", \"method\", \"extraction\", \"analytical\", \"expansion\", \"modulus\", \"stimulation\", \"matter\", \"limitation\", \"question\", \"flight\", \"equiripple\", \"immune\", \"usability\", \"bridging\", \"special\", \"multiversion\", \"inverter\", \"robust\", \"concept\", \"opinion\", \"artificial\", \"universal\", \"speech\", \"connectivity\", \"recognition\", \"virtue\", \"expressiveness\", \"subtraction\", \"markovian\", \"electronically\", \"forced\", \"feature\", \"negative\", \"relaxation\", \"common\", \"participation\", \"mirror\", \"filter\", \"wavelet\", \"towards\", \"voltage\", \"social\", \"algorithm\", \"design\", \"system\", \"visual\", \"circuit\", \"comparison\", \"digital\", \"mismatch\", \"retrieval\", \"current\", \"adaptive\", \"network\", \"information\", \"database\", \"maximizing\", \"semantic\", \"coefficient\", \"compressed\", \"grained\", \"memoryless\", \"equivalence\", \"manager\", \"convex\", \"scanning\", \"lumped\", \"anchor\", \"transimpedance\", \"quadrature\", \"sparse\", \"hausdorff\", \"emancipated\", \"quadtrees\", \"luminous\", \"singular\", \"rejecting\", \"newton\", \"snoopytagging\", \"orthogonalized\", \"coupler\", \"tapered\", \"recommending\", \"value\", \"personalised\", \"truthful\", \"multilayered\", \"uniqueness\", \"compound\", \"gaussian\", \"functional\", \"histogram\", \"inverted\", \"privacy\", \"mechanism\", \"element\", \"decomposition\", \"finite\", \"analysis\", \"improving\", \"dynamic\", \"exploiting\", \"modified\", \"source\", \"policy\", \"amplifier\", \"random\", \"linear\", \"reconfigurable\", \"traffic\", \"efficiency\", \"information\", \"circuit\", \"content\", \"framework\", \"location\", \"design\", \"coding\", \"latency\", \"construction\", \"method\", \"improved\", \"access\"], \"Freq\": [273.0, 73.0, 76.0, 45.0, 119.0, 57.0, 87.0, 177.0, 56.0, 18.0, 49.0, 16.0, 28.0, 33.0, 68.0, 12.0, 16.0, 103.0, 44.0, 78.0, 44.0, 31.0, 30.0, 18.0, 17.0, 31.0, 16.0, 35.0, 12.0, 11.0, 21.595145828607528, 19.839294917890697, 9.570293358606252, 8.708360539908355, 7.845211312192804, 6.983118076681995, 6.982604129822793, 6.924799923728015, 6.1289869304362705, 6.123048443069101, 6.119203037493337, 13.758468793037965, 11.292824573341768, 21.17605128517722, 19.496932742715664, 23.637503210711767, 5.2687313359319745, 5.2682715425191695, 5.268273586045448, 5.262158844536704, 5.2503390885381815, 19.526610874867554, 4.408455306164888, 4.408375097758432, 4.407917858753475, 8.716360945291173, 12.135635094882652, 7.858381328180265, 3.548158074812655, 3.548153987760097, 10.397998133891761, 15.572190324453642, 31.517873903418675, 14.145674108882357, 12.98200135214923, 34.85433108525875, 15.595746051873242, 22.582232370744823, 19.51283955127246, 15.581728483361509, 46.57475944545715, 23.19783853175568, 12.581365981598356, 11.278175555209783, 47.22605170588056, 53.8959988694034, 22.229636215963875, 25.1592661426273, 93.82743012464972, 26.09586532451226, 22.90493173606201, 29.519474815104925, 19.019787748273945, 28.81533083452423, 46.00336906254796, 21.62300522237099, 28.164302188990835, 19.72653722486054, 23.16221578165778, 18.18731644794235, 20.138142244477812, 22.852580679843108, 20.10135264087453, 20.349872424628874, 8.544222856437303, 7.708188169191492, 7.678389737693824, 6.8400722888793455, 6.023975466404862, 6.02330969045868, 5.177911289493176, 5.167946960877352, 5.137750126220399, 4.33092777515793, 4.329446069541531, 7.705426615559399, 11.923953704194574, 3.4885717577847966, 3.4885041177817535, 3.486927857815551, 3.4864823545494352, 3.485311226329208, 3.4741626664559186, 3.4355954699564237, 13.457513350988824, 6.699911578489895, 2.6427292700977425, 2.6427280306212473, 2.642717937741212, 2.6427106779503093, 2.642673316587372, 2.6426832323993366, 2.6424919988828797, 5.178937221895352, 10.997023601759999, 8.368326976272627, 8.964443635133161, 31.220426927505446, 27.256785077143565, 85.15547461471836, 18.349783740720326, 12.387672316889237, 16.838016215534754, 33.85192193678363, 33.83959516596729, 13.82037682364874, 93.48887031025716, 48.10500921256971, 19.161942569300365, 13.850836781458892, 33.14251075177898, 19.299823351210282, 24.43341060708633, 14.291729195011445, 16.705820026969587, 29.87040046090533, 21.022141811103918, 14.524519879411152, 20.656870212681213, 10.3362770970599, 11.372017653813824, 13.230318017626189, 13.532516552687746, 12.476954287816932, 11.942921235937956, 11.731922673146927, 16.43951841483689, 4.978577861215372, 4.899938563381273, 4.179596510722575, 4.165817538720171, 10.362937740529517, 8.236566212473738, 2.5494835266367617, 2.5479819492132343, 2.547939300860377, 2.547937346144204, 2.5472073485044584, 2.546761140112686, 2.5467391051303765, 2.5439930843107588, 2.538651200413876, 2.5375341689719475, 2.472427015798089, 6.484755265001456, 4.123544135964793, 1.733589438713879, 1.7335864177888851, 1.7335800205359564, 1.7335762888050814, 1.7335793097300756, 1.733570069253623, 1.7335624280904027, 1.733553720718361, 1.7334998771728782, 1.7334451451200443, 9.185612189748875, 4.841461985166476, 6.532349405178759, 28.284069174115345, 4.9962513386395555, 10.38608442323709, 8.70692281244006, 19.138000537136023, 2.5469228484506043, 2.547888833642829, 5.314094230160692, 4.713754691160904, 11.157810633030367, 46.79802906095686, 18.53275359433409, 13.533308960274322, 4.9817757768738105, 11.386856455275549, 4.834280002545259, 10.457369723426782, 15.122139227301345, 4.825122690380855, 10.472167991062483, 17.919602490135883, 9.693335144071371, 8.772825179693244, 9.278937447889485, 6.052775785354031, 6.033535691768213, 6.935188686930358, 7.792136967821303, 7.07430832475768, 6.836341888706454, 5.694955749475957, 5.972159736364982, 11.293736484786468, 8.858992579075307, 6.911236333311433, 3.1396742789793453, 3.1363982930150858, 3.1356857985023114, 3.124468157282229, 6.110440567746665, 3.068420148633433, 2.3761972745142823, 2.314918280032145, 1.617345954574096, 1.6173408501357955, 1.6158881057269872, 1.6152556870900512, 1.6141181417462973, 1.6135899387246628, 1.6136393879706985, 5.418481210254776, 4.292596955798334, 7.344262423765245, 2.8446639054581526, 11.923199651946485, 2.377244322420667, 1.405280044874015, 3.1360212026356384, 2.260698298349707, 0.856148400837589, 0.8561482944951244, 0.8561468588718524, 3.894450768361248, 2.632261209172705, 1.6167528826490594, 19.84851985446834, 3.8986283257403285, 10.781836188343851, 11.425630916772171, 5.266861952566462, 3.56286666904729, 14.049650797623828, 3.7100210320171936, 18.59883085199273, 4.682304655985019, 9.736537402816449, 4.927317694407842, 5.7662955091998835, 5.711732466726668, 4.5193607765572406, 5.104433196037173, 8.08272151269503, 5.079052652697634, 4.113592386627969, 3.8952236653939116, 4.117145501054958, 3.915904297168288, 3.881389786859906, 7.899164507377851, 4.113006435632764, 2.7483886395945816, 2.1005689265944043, 2.099510374102592, 2.096555916367681, 13.745039670475345, 2.088226110619046, 2.5325336418477793, 1.428048359992259, 1.4276182673781772, 1.4276164861211158, 1.42699385581195, 1.4259293118191132, 2.594832945635449, 4.7714772561974135, 2.0868950257968497, 2.0992080461995455, 0.7566452892974104, 0.7566452083311803, 0.7566447225338, 0.7566414838845976, 0.7566419696819779, 0.7566405122898369, 0.756639378762616, 0.7566395406950761, 0.7566384071678552, 0.7566356543160332, 0.7566354923835731, 0.7566354923835731, 4.409776492782769, 8.246559509535548, 1.4275455597035829, 2.097053534817633, 1.4280124109861123, 1.4272965075799164, 2.5840265448417203, 3.436191582120665, 5.282916641621213, 5.15091124331993, 16.604199504875517, 5.354224248165425, 7.040202193152859, 4.012492366716172, 4.687076114792721, 10.499557565964022, 14.919548758331237, 6.2763512332449745, 4.485075734468969, 2.5412953214675573, 5.8955450304553905, 5.555738183378974, 3.215971856843756, 4.886368984383247, 3.3425185119143532, 2.767970808132118, 2.7806497958946883, 3.15658960439271, 2.9381825510743975, 2.7652069449027694, 2.870419646082239, 2.809246420622252, 4.012464821575965, 4.6441693132785185, 8.901078887384292, 2.0475619329079837, 3.3061358683785644, 1.870127217820032, 1.4050824510350175, 1.4038294463997008, 1.4038043950969252, 1.4036970114423377, 1.403402255762897, 1.4027205966294785, 1.398836179710804, 10.932508074302524, 2.6001230596922147, 1.2638180081849264, 5.3463394572174865, 5.694368563246048, 0.7438235017594682, 0.7438232087617749, 0.7438221100204251, 0.7438210845284986, 0.7438198392883022, 0.7438198392883022, 0.743820938029652, 0.7438198392883022, 0.7438196927894556, 0.7438196927894556, 0.7438192532929156, 0.7438192532929156, 2.724572950920289, 3.738138406299188, 1.3566206325663208, 1.4018391130692422, 1.4032286546296278, 4.694408455754658, 3.3236249006905143, 5.244092638188562, 2.616152377496238, 5.309142814060062, 2.0608643211806394, 20.046051308992684, 6.38028143717562, 9.25673003540587, 8.066784363637137, 6.782152385316907, 8.14614923481158, 3.20153246890258, 2.6182490689893574, 3.379512452697728, 6.797756856465672, 2.9566174550750546, 2.72662334877787, 2.523601145135679, 4.278675493746548, 3.361808946074296, 3.5559263638222878, 12.156799793004149, 3.3987472454582077, 2.784602265388412, 2.781893545295724, 2.1117559657323954, 2.1061699092930954, 2.081326161914175, 1.4359563095203711, 1.4359533087226317, 1.4346979750016848, 1.4340080773119033, 1.4340156507538169, 1.43379759278476, 1.4335025143403939, 1.4331418470311543, 1.416397395645776, 10.569557265190294, 3.4568998477435255, 2.1093283203612896, 2.107358796778386, 2.108998518400226, 5.359843159358723, 2.785478784118553, 4.016198533056206, 0.7601527951398245, 0.7601527236922593, 0.76014972289452, 0.76014972289452, 0.7601477223626938, 0.7601477223626938, 5.7894893775465555, 1.4329112142906184, 1.434599091571418, 1.4340660927348634, 1.4357598287160112, 1.43567895007218, 7.5128658098119185, 3.452585557965173, 4.262003878542639, 5.801620602540693, 4.957749408642499, 6.897705131154931, 7.32617446504843, 8.51136496752415, 3.2390296428880307, 4.327677623123724, 2.4058612942600606, 3.8811457731616343, 2.0660100902527105, 2.7316336126453264, 3.1884144729433506, 3.396611534838598, 4.085554113568301, 2.829423323583866, 2.7566785563679113, 2.2145099963976755, 2.312210540774819, 6.236690932448093, 2.831859066546741, 2.1469743243046664, 1.4610130387372962, 1.4596839681072584, 1.459561071485617, 1.4594780612280067, 1.4590870971597925, 1.4589360987816746, 1.4577806892365908, 1.457712571614901, 2.080948664707845, 2.7460567634542983, 0.7734217865436989, 0.7734212685389711, 0.7734212037883802, 0.7734208800354254, 0.7734179662588322, 0.7734168654987859, 0.7734177072564684, 0.773416800748195, 0.7734172540023316, 0.7734172540023316, 0.7734171892517406, 0.7734162827434673, 0.7734147934798752, 0.7734159589905124, 0.7734144697269204, 0.7734153114846029, 0.7734138222210107, 1.4579434722222633, 1.459719969435832, 1.4610086356971108, 1.4580492746878913, 1.4591580638074841, 4.3641421742450435, 3.4598970634652524, 2.7792670825551355, 2.1481056466299133, 1.4588909028691848, 9.97900158341929, 2.8020282102892695, 6.654087227901605, 2.667862654799613, 1.4596506863035053, 2.8534948290099966, 2.1484868981094833, 3.9744239074007783, 2.859143152560588, 3.233441713673724, 2.805950542087241, 2.606479094569871, 2.3966889928771717, 3.292693943451439, 3.326488571885096, 2.99224498534196, 2.8276945675385807, 2.1476492844648294, 3.0691381251230836, 2.4474923065441083, 1.8590135536712096, 1.8531164583501512, 2.1429994150268357, 1.9331374401781714, 1.9615040265716819], \"Total\": [273.0, 73.0, 76.0, 45.0, 119.0, 57.0, 87.0, 177.0, 56.0, 18.0, 49.0, 16.0, 28.0, 33.0, 68.0, 12.0, 16.0, 103.0, 44.0, 78.0, 44.0, 31.0, 30.0, 18.0, 17.0, 31.0, 16.0, 35.0, 12.0, 11.0, 22.251556627358198, 20.527912940961176, 10.210372310449612, 9.349982729441663, 8.48942618561774, 7.627980181493468, 7.628954007590398, 7.62610231163464, 6.769068052568875, 6.768298770752885, 6.76874799123251, 15.269308652987487, 12.618983167336323, 23.663698668189188, 21.820040735754816, 26.501318878659546, 5.908807012434427, 5.908545881432454, 5.908558611816344, 5.908616885222048, 5.907839479635541, 22.21897132618613, 5.048496639484403, 5.048444894010334, 5.048244426752265, 10.012640275363411, 14.226969632813143, 9.251802373254598, 4.188197652373773, 4.188193888119029, 12.410633856873577, 19.06799786596113, 39.591221194878116, 17.318978465499615, 16.154627297875173, 48.941042788349804, 19.892352630725007, 31.127951539830686, 26.949936585223732, 20.987269707044536, 78.95583284712404, 34.3577625898143, 16.423072458006644, 14.378613830864943, 87.00218105823268, 103.32035255352635, 34.496080095860286, 43.07875586000476, 273.5288758072143, 49.28559212098307, 44.18588815406442, 67.29509951402329, 33.80134631940037, 73.54131580472628, 177.44543820989298, 47.58534699398685, 87.26987161470892, 42.19480741804306, 76.82837590840106, 37.08432438490062, 56.911860756672034, 119.34406645147999, 68.91714729792342, 21.04119410134931, 9.203327334051826, 8.35947792573781, 8.359511192839552, 7.513958497333879, 6.667888543731094, 6.667651012571389, 5.82195713916749, 5.821978078355185, 5.822393276176709, 4.976320251240348, 4.975129473815036, 9.047373226662465, 14.112715248713577, 4.130434208481845, 4.130380928151917, 4.130400475733871, 4.130390617067601, 4.130371981632882, 4.127708986851973, 4.130946438272657, 16.308468614931183, 8.139772491530502, 3.284586224154288, 3.2845849951741375, 3.284577771595801, 3.284574059824872, 3.2845352125193843, 3.2845535487622946, 3.2844924584300457, 6.483440607984667, 14.140883601628598, 10.77488603593281, 11.778789865222722, 44.36457226202169, 42.01245217104956, 177.44543820989298, 30.423883977532018, 19.369739380110932, 28.31720250041617, 67.29509951402329, 68.91714729792342, 22.701852201476633, 273.5288758072143, 119.34406645147999, 35.888127905907844, 24.087157947205863, 87.26987161470892, 39.97950159076615, 57.422371979827986, 27.84791495057165, 37.67277117494086, 103.32035255352635, 56.49468371012535, 32.55025903634831, 76.82837590840106, 19.20622017833119, 28.636150278726014, 47.58534699398685, 56.911860756672034, 44.18588815406442, 38.45838250758529, 49.28559212098307, 17.76974912215425, 5.6434140764390905, 5.647350897977302, 4.8270404102850675, 4.827222621867727, 12.04526041830213, 9.575712195246052, 3.19509426569651, 3.195180815202562, 3.1951584530554475, 3.195157821152372, 3.1949374217919067, 3.1951517611849707, 3.195142882866132, 3.195107751182401, 3.195443749372502, 3.195451436368974, 3.1899050546371646, 8.663747084973359, 5.511358281234623, 2.379181204999647, 2.3791781530376865, 2.3791741784793525, 2.3791692285724104, 2.3791761055378937, 2.379168728220141, 2.3791607758044195, 2.3791546295800736, 2.3791142658497897, 2.379067323920327, 13.403987034230854, 7.363243870157534, 10.530910083795526, 57.422371979827986, 8.021473123553532, 20.575103253496692, 16.6892819362936, 44.39573776822978, 3.8677637188941114, 3.8703850781510707, 9.915471558437948, 8.7812631744222, 30.561270082861448, 273.5288758072143, 78.95583284712404, 49.94970047624811, 9.68763016074265, 39.97950159076615, 9.611671481726498, 43.07875586000476, 87.26987161470892, 10.538993407338436, 47.58534699398685, 177.44543820989298, 76.82837590840106, 56.911860756672034, 73.54131580472628, 22.755582265145225, 22.830333450283913, 44.36457226202169, 119.34406645147999, 87.00218105823268, 68.91714729792342, 30.423883977532018, 103.32035255352635, 12.17962068854789, 10.577532013466934, 8.289295942672364, 3.7921351466136106, 3.7923016191934797, 3.7924620174409704, 3.793448827865058, 7.506368801850992, 3.800090394270534, 3.031124714475056, 3.0389158595998023, 2.2697818518315276, 2.269778348730776, 2.269930037663163, 2.269965299323853, 2.2700866732184313, 2.2699442853491485, 2.2702100078959786, 7.766965645250173, 6.200623374740615, 11.198611208037498, 4.486839354457945, 18.91062361459059, 3.8763290842209583, 2.293034230031673, 5.2955082912488525, 3.9054953914117547, 1.508580530012238, 1.5085805993644879, 1.5085802850655579, 7.001265279641206, 4.716290085747468, 2.9423493172916446, 45.64326647805982, 7.766255395595106, 28.31720250041617, 33.80134631940037, 12.595434483144565, 7.1624313503661465, 56.49468371012535, 7.957608964766632, 119.34406645147999, 14.30258634525029, 56.911860756672034, 16.613271202225416, 29.285389741944005, 35.888127905907844, 18.972023056057658, 31.127951539830686, 177.44543820989298, 76.82837590840106, 22.62291536715668, 42.19480741804306, 87.00218105823268, 103.32035255352635, 87.26987161470892, 8.874399224982424, 4.785268624909605, 3.444859142727573, 2.765741524192239, 2.7661822178087236, 2.766906808699222, 18.209696082784586, 2.767267674892485, 3.465869511840923, 2.0931676693812817, 2.0932430065979495, 2.0932658206647106, 2.093377194483412, 2.0936536193690567, 4.347937088290862, 8.041447704108991, 3.5852911316955582, 3.625607853255966, 1.4201375789939314, 1.4201377524994496, 1.420137647970007, 1.4201349533894894, 1.4201360656738657, 1.4201335678812952, 1.4201318788330854, 1.4201322432545387, 1.4201321709779429, 1.4201294541678429, 1.42012967096299, 1.4201297464602796, 8.651505259199602, 16.558675056995284, 2.854280829854064, 4.397608260994216, 2.938433815864225, 2.938563445894844, 5.94168891738239, 9.206287352563882, 16.02495351270565, 16.31335141363897, 76.82837590840106, 20.012926541759953, 31.607693452767762, 15.525656864558462, 24.353294218618345, 119.34406645147999, 273.5288758072143, 45.64326647805982, 23.974998971891914, 8.08103242774577, 73.54131580472628, 87.00218105823268, 18.643785142840244, 177.44543820989298, 35.888127905907844, 15.140736314391777, 15.764312217513453, 44.492760176369515, 31.127951539830686, 22.143960290964777, 78.95583284712404, 56.911860756672034, 4.724248122560066, 6.06760549335766, 11.650933911066426, 2.736901810844942, 4.764292997451876, 2.7359325642837486, 2.0700223055254994, 2.070356337641716, 2.070362138140691, 2.0704403182151223, 2.070195292393867, 2.0706329994904498, 2.071428286256297, 16.96115253660666, 4.271898475708747, 2.1092086091951674, 9.396405309267113, 10.172332784770036, 1.4087418909265725, 1.408741991966982, 1.4087420455110353, 1.4087404433204995, 1.4087384300230588, 1.4087385341493028, 1.4087406152963757, 1.4087386851305908, 1.4087386484334428, 1.4087388394909495, 1.4087382405848485, 1.4087385944560444, 5.584095998689289, 8.010446986607691, 2.756890401739904, 2.9160277367143235, 2.9297504121509896, 13.983880666233377, 9.104932840408766, 21.77693659379364, 8.541051788941411, 25.89482241023046, 6.974797351430401, 273.5288758072143, 44.492760176369515, 87.00218105823268, 73.54131580472628, 68.91714729792342, 103.32035255352635, 17.06721542861514, 10.850779899996937, 21.7171846193092, 177.44543820989298, 18.91062361459059, 16.034126023961825, 13.744749909879506, 87.26987161470892, 38.45838250758529, 49.94970047624811, 12.934460857601682, 4.143466294672755, 3.451376986357318, 3.4518981470026455, 2.774871974838504, 2.7761897942678266, 2.7823145821323703, 2.099065421098737, 2.099066098041992, 2.0994042779616846, 2.099501449128706, 2.099573721303276, 2.099652662471754, 2.099580838693238, 2.0995709651703782, 2.1038022233468907, 16.803919448096455, 5.6048055182129275, 3.447959757952263, 3.5915460786153424, 3.6348710369030974, 9.394950118361795, 4.939070822694412, 7.369090691117965, 1.4232567751200895, 1.4232569763485234, 1.4232543199771808, 1.4232545922280426, 1.4232533597930486, 1.4232534439331013, 12.032177887065043, 2.9152380768329507, 2.9444570245911503, 2.9438733343203785, 2.9585948254435923, 2.958585155276931, 45.64326647805982, 12.60571604540384, 19.770370385488864, 35.15793549198978, 30.423883977532018, 87.00218105823268, 119.34406645147999, 177.44543820989298, 19.804714425176797, 44.492760176369515, 9.10283909745541, 35.888127905907844, 6.051397972468643, 14.146494836047228, 27.84791495057165, 48.941042788349804, 273.5288758072143, 42.19480741804306, 78.95583284712404, 8.08103242774577, 29.285389741944005, 6.943569469563137, 3.4986504405960317, 2.8105886775968685, 2.122651802430659, 2.1229215282890967, 2.1228791622629544, 2.1229745071929633, 2.1230814784491283, 2.1230740480406176, 2.1231794592339575, 2.1233521866390186, 3.67187652300184, 4.929977317888375, 1.4350527490304439, 1.4350527073841217, 1.435052898166639, 1.4350528604616661, 1.4350503166939403, 1.435048429745952, 1.435050284922716, 1.4350486320072127, 1.4350502530339289, 1.4350502841717345, 1.4350502225053736, 1.435048634437873, 1.4350463729262373, 1.435048694389995, 1.4350464400742133, 1.4350486969439733, 1.4350465289965784, 2.7958634635360484, 2.9381096918966696, 2.967688525339106, 2.96848270115468, 2.9825125552164615, 12.91917731890829, 11.467919419953347, 8.568375642678546, 6.193054829525155, 3.728977766794345, 73.54131580472628, 10.688139492450645, 49.28559212098307, 11.149643746851027, 4.1439298638841455, 13.199354274280717, 8.346169323552337, 28.636150278726014, 15.949071408876474, 23.974998971891914, 20.699543996117992, 17.318978465499615, 13.744749909879506, 42.19480741804306, 44.492760176369515, 32.55025903634831, 37.08432438490062, 16.308468614931183, 119.34406645147999, 34.3577625898143, 8.3879426381099, 8.577094851812756, 49.94970047624811, 14.147807104640597, 22.701852201476633], \"Category\": [\"Default\", \"Default\", \"Default\", \"Default\", \"Default\", \"Default\", \"Default\", \"Default\", \"Default\", \"Default\", \"Default\", \"Default\", \"Default\", \"Default\", \"Default\", \"Default\", \"Default\", \"Default\", \"Default\", \"Default\", \"Default\", \"Default\", \"Default\", \"Default\", \"Default\", \"Default\", \"Default\", \"Default\", \"Default\", \"Default\", \"Topic1\", \"Topic1\", \"Topic1\", \"Topic1\", \"Topic1\", \"Topic1\", \"Topic1\", \"Topic1\", \"Topic1\", \"Topic1\", \"Topic1\", \"Topic1\", \"Topic1\", \"Topic1\", \"Topic1\", \"Topic1\", \"Topic1\", \"Topic1\", \"Topic1\", \"Topic1\", \"Topic1\", \"Topic1\", \"Topic1\", \"Topic1\", \"Topic1\", \"Topic1\", \"Topic1\", \"Topic1\", \"Topic1\", \"Topic1\", \"Topic1\", \"Topic1\", \"Topic1\", \"Topic1\", \"Topic1\", \"Topic1\", \"Topic1\", \"Topic1\", \"Topic1\", \"Topic1\", \"Topic1\", \"Topic1\", \"Topic1\", \"Topic1\", \"Topic1\", \"Topic1\", \"Topic1\", \"Topic1\", \"Topic1\", \"Topic1\", \"Topic1\", \"Topic1\", \"Topic1\", \"Topic1\", \"Topic1\", \"Topic1\", \"Topic1\", \"Topic1\", \"Topic1\", \"Topic1\", \"Topic1\", \"Topic1\", \"Topic1\", \"Topic2\", \"Topic2\", \"Topic2\", \"Topic2\", \"Topic2\", \"Topic2\", \"Topic2\", \"Topic2\", \"Topic2\", \"Topic2\", \"Topic2\", \"Topic2\", \"Topic2\", \"Topic2\", \"Topic2\", \"Topic2\", \"Topic2\", \"Topic2\", \"Topic2\", \"Topic2\", \"Topic2\", \"Topic2\", \"Topic2\", \"Topic2\", \"Topic2\", \"Topic2\", \"Topic2\", \"Topic2\", \"Topic2\", \"Topic2\", \"Topic2\", \"Topic2\", \"Topic2\", \"Topic2\", \"Topic2\", \"Topic2\", \"Topic2\", \"Topic2\", \"Topic2\", \"Topic2\", \"Topic2\", \"Topic2\", \"Topic2\", \"Topic2\", \"Topic2\", \"Topic2\", \"Topic2\", \"Topic2\", \"Topic2\", \"Topic2\", \"Topic2\", \"Topic2\", \"Topic2\", \"Topic2\", \"Topic2\", \"Topic2\", \"Topic2\", \"Topic2\", \"Topic2\", \"Topic2\", \"Topic2\", \"Topic2\", \"Topic2\", \"Topic3\", \"Topic3\", \"Topic3\", \"Topic3\", \"Topic3\", \"Topic3\", \"Topic3\", \"Topic3\", \"Topic3\", \"Topic3\", \"Topic3\", \"Topic3\", \"Topic3\", \"Topic3\", \"Topic3\", \"Topic3\", \"Topic3\", \"Topic3\", \"Topic3\", \"Topic3\", \"Topic3\", \"Topic3\", \"Topic3\", \"Topic3\", \"Topic3\", \"Topic3\", \"Topic3\", \"Topic3\", \"Topic3\", \"Topic3\", \"Topic3\", \"Topic3\", \"Topic3\", \"Topic3\", \"Topic3\", \"Topic3\", \"Topic3\", \"Topic3\", \"Topic3\", \"Topic3\", \"Topic3\", \"Topic3\", \"Topic3\", \"Topic3\", \"Topic3\", \"Topic3\", \"Topic3\", \"Topic3\", \"Topic3\", \"Topic3\", \"Topic3\", \"Topic3\", \"Topic3\", \"Topic3\", \"Topic3\", \"Topic3\", \"Topic3\", \"Topic3\", \"Topic3\", \"Topic3\", \"Topic3\", \"Topic3\", \"Topic3\", \"Topic3\", \"Topic3\", \"Topic4\", \"Topic4\", \"Topic4\", \"Topic4\", \"Topic4\", \"Topic4\", \"Topic4\", \"Topic4\", \"Topic4\", \"Topic4\", \"Topic4\", \"Topic4\", \"Topic4\", \"Topic4\", \"Topic4\", \"Topic4\", \"Topic4\", \"Topic4\", \"Topic4\", \"Topic4\", \"Topic4\", \"Topic4\", \"Topic4\", \"Topic4\", \"Topic4\", \"Topic4\", \"Topic4\", \"Topic4\", \"Topic4\", \"Topic4\", \"Topic4\", \"Topic4\", \"Topic4\", \"Topic4\", \"Topic4\", \"Topic4\", \"Topic4\", \"Topic4\", \"Topic4\", \"Topic4\", \"Topic4\", \"Topic4\", \"Topic4\", \"Topic4\", \"Topic4\", \"Topic4\", \"Topic4\", \"Topic4\", \"Topic4\", \"Topic4\", \"Topic4\", \"Topic4\", \"Topic4\", \"Topic4\", \"Topic4\", \"Topic4\", \"Topic5\", \"Topic5\", \"Topic5\", \"Topic5\", \"Topic5\", \"Topic5\", \"Topic5\", \"Topic5\", \"Topic5\", \"Topic5\", \"Topic5\", \"Topic5\", \"Topic5\", \"Topic5\", \"Topic5\", \"Topic5\", \"Topic5\", \"Topic5\", \"Topic5\", \"Topic5\", \"Topic5\", \"Topic5\", \"Topic5\", \"Topic5\", \"Topic5\", \"Topic5\", \"Topic5\", \"Topic5\", \"Topic5\", \"Topic5\", \"Topic5\", \"Topic5\", \"Topic5\", \"Topic5\", \"Topic5\", \"Topic5\", \"Topic5\", \"Topic5\", \"Topic5\", \"Topic5\", \"Topic5\", \"Topic5\", \"Topic5\", \"Topic5\", \"Topic5\", \"Topic5\", \"Topic5\", \"Topic5\", \"Topic5\", \"Topic5\", \"Topic5\", \"Topic5\", \"Topic5\", \"Topic5\", \"Topic5\", \"Topic5\", \"Topic5\", \"Topic5\", \"Topic5\", \"Topic5\", \"Topic5\", \"Topic5\", \"Topic6\", \"Topic6\", \"Topic6\", \"Topic6\", \"Topic6\", \"Topic6\", \"Topic6\", \"Topic6\", \"Topic6\", \"Topic6\", \"Topic6\", \"Topic6\", \"Topic6\", \"Topic6\", \"Topic6\", \"Topic6\", \"Topic6\", \"Topic6\", \"Topic6\", \"Topic6\", \"Topic6\", \"Topic6\", \"Topic6\", \"Topic6\", \"Topic6\", \"Topic6\", \"Topic6\", \"Topic6\", \"Topic6\", \"Topic6\", \"Topic6\", \"Topic6\", \"Topic6\", \"Topic6\", \"Topic6\", \"Topic6\", \"Topic6\", \"Topic6\", \"Topic6\", \"Topic6\", \"Topic6\", \"Topic6\", \"Topic6\", \"Topic6\", \"Topic6\", \"Topic6\", \"Topic6\", \"Topic6\", \"Topic6\", \"Topic6\", \"Topic6\", \"Topic6\", \"Topic6\", \"Topic6\", \"Topic6\", \"Topic6\", \"Topic6\", \"Topic7\", \"Topic7\", \"Topic7\", \"Topic7\", \"Topic7\", \"Topic7\", \"Topic7\", \"Topic7\", \"Topic7\", \"Topic7\", \"Topic7\", \"Topic7\", \"Topic7\", \"Topic7\", \"Topic7\", \"Topic7\", \"Topic7\", \"Topic7\", \"Topic7\", \"Topic7\", \"Topic7\", \"Topic7\", \"Topic7\", \"Topic7\", \"Topic7\", \"Topic7\", \"Topic7\", \"Topic7\", \"Topic7\", \"Topic7\", \"Topic7\", \"Topic7\", \"Topic7\", \"Topic7\", \"Topic7\", \"Topic7\", \"Topic7\", \"Topic7\", \"Topic7\", \"Topic7\", \"Topic7\", \"Topic7\", \"Topic7\", \"Topic7\", \"Topic7\", \"Topic7\", \"Topic7\", \"Topic7\", \"Topic7\", \"Topic7\", \"Topic7\", \"Topic7\", \"Topic7\", \"Topic7\", \"Topic7\", \"Topic7\", \"Topic7\", \"Topic8\", \"Topic8\", \"Topic8\", \"Topic8\", \"Topic8\", \"Topic8\", \"Topic8\", \"Topic8\", \"Topic8\", \"Topic8\", \"Topic8\", \"Topic8\", \"Topic8\", \"Topic8\", \"Topic8\", \"Topic8\", \"Topic8\", \"Topic8\", \"Topic8\", \"Topic8\", \"Topic8\", \"Topic8\", \"Topic8\", \"Topic8\", \"Topic8\", \"Topic8\", \"Topic8\", \"Topic8\", \"Topic8\", \"Topic8\", \"Topic8\", \"Topic8\", \"Topic8\", \"Topic8\", \"Topic8\", \"Topic8\", \"Topic8\", \"Topic8\", \"Topic8\", \"Topic8\", \"Topic8\", \"Topic8\", \"Topic8\", \"Topic8\", \"Topic8\", \"Topic8\", \"Topic8\", \"Topic8\", \"Topic8\", \"Topic8\", \"Topic8\", \"Topic8\", \"Topic8\", \"Topic8\", \"Topic8\", \"Topic8\", \"Topic8\", \"Topic8\", \"Topic8\", \"Topic8\", \"Topic8\", \"Topic8\", \"Topic8\", \"Topic8\", \"Topic8\"], \"logprob\": [30.0, 29.0, 28.0, 27.0, 26.0, 25.0, 24.0, 23.0, 22.0, 21.0, 20.0, 19.0, 18.0, 17.0, 16.0, 15.0, 14.0, 13.0, 12.0, 11.0, 10.0, 9.0, 8.0, 7.0, 6.0, 5.0, 4.0, 3.0, 2.0, 1.0, -5.3143, -5.3991, -6.1281, -6.2224, -6.3268, -6.4432, -6.4433, -6.4516, -6.5737, -6.5747, -6.5753, -5.7651, -5.9626, -5.3339, -5.4165, -5.2239, -6.7249, -6.725, -6.725, -6.7262, -6.7284, -5.415, -6.9032, -6.9032, -6.9033, -6.2215, -5.8906, -6.3251, -7.1203, -7.1203, -6.0451, -5.6412, -4.9362, -5.7373, -5.8232, -4.8356, -5.6397, -5.2696, -5.4157, -5.6406, -4.5457, -5.2427, -5.8545, -5.9639, -4.5318, -4.3997, -5.2853, -5.1615, -3.8453, -5.125, -5.2554, -5.0017, -5.4412, -5.0258, -4.558, -5.313, -5.0487, -5.4048, -5.2442, -5.486, -5.3841, -5.2577, -5.3859, -5.0072, -5.875, -5.978, -5.9819, -6.0975, -6.2245, -6.2246, -6.3759, -6.3778, -6.3837, -6.5545, -6.5548, -5.9783, -5.5417, -6.7708, -6.7708, -6.7713, -6.7714, -6.7717, -6.7749, -6.7861, -5.4207, -6.1182, -7.0485, -7.0485, -7.0485, -7.0485, -7.0485, -7.0485, -7.0486, -6.3757, -5.6226, -5.8958, -5.827, -4.5792, -4.715, -3.5758, -5.1107, -5.5036, -5.1966, -4.4983, -4.4986, -5.3941, -3.4824, -4.1469, -5.0673, -5.3919, -4.5195, -5.0602, -4.8243, -5.3606, -5.2045, -4.6234, -4.9747, -5.3444, -4.9922, -5.6846, -5.5891, -5.4378, -5.4152, -5.4964, -5.5401, -5.558, -4.531, -5.7256, -5.7415, -5.9005, -5.9038, -4.9925, -5.2221, -6.3948, -6.3954, -6.3954, -6.3954, -6.3957, -6.3959, -6.3959, -6.397, -6.3991, -6.3995, -6.4255, -5.4612, -5.914, -6.7805, -6.7805, -6.7805, -6.7805, -6.7805, -6.7805, -6.7805, -6.7805, -6.7806, -6.7806, -5.1131, -5.7535, -5.4539, -3.9884, -5.722, -4.9902, -5.1666, -4.379, -6.3958, -6.3954, -5.6603, -5.7802, -4.9186, -3.4849, -4.4112, -4.7255, -5.7249, -4.8982, -5.755, -4.9834, -4.6145, -5.7569, -4.982, -4.4448, -5.0593, -5.159, -5.1029, -5.5302, -5.5334, -5.3941, -5.2776, -5.3742, -5.4084, -5.5911, -5.5436, -4.393, -4.6358, -4.8841, -5.6731, -5.6742, -5.6744, -5.678, -5.0073, -5.6961, -5.9518, -5.9779, -6.3365, -6.3365, -6.3374, -6.3378, -6.3385, -6.3388, -6.3388, -5.1274, -5.3604, -4.8233, -5.7718, -4.3388, -5.9513, -6.477, -5.6743, -6.0016, -6.9726, -6.9726, -6.9726, -5.4577, -5.8494, -6.3368, -3.8291, -5.4566, -4.4394, -4.3814, -5.1558, -5.5467, -4.1747, -5.5062, -3.8942, -5.2735, -4.5414, -5.2225, -5.0652, -5.0747, -5.3089, -5.1871, -4.7275, -5.1921, -5.403, -5.4575, -5.4021, -5.4522, -5.4611, -4.4779, -5.1305, -5.5336, -5.8024, -5.8029, -5.8043, -3.9239, -5.8083, -5.6154, -6.1883, -6.1886, -6.1886, -6.1891, -6.1898, -5.5911, -4.982, -5.8089, -5.8031, -6.8235, -6.8235, -6.8235, -6.8235, -6.8235, -6.8235, -6.8235, -6.8235, -6.8235, -6.8235, -6.8235, -6.8235, -5.0608, -4.4348, -6.1887, -5.8041, -6.1883, -6.1888, -5.5953, -5.3103, -4.8801, -4.9054, -3.735, -4.8667, -4.593, -5.1552, -4.9998, -4.1933, -3.842, -4.7078, -5.0439, -5.6119, -4.7704, -4.8298, -5.3765, -4.9582, -5.3379, -5.5265, -5.5219, -5.3951, -5.4668, -5.5275, -5.4902, -5.5117, -5.0551, -4.9088, -4.2583, -5.7278, -5.2487, -5.8185, -6.1044, -6.1053, -6.1053, -6.1054, -6.1056, -6.106, -6.1088, -4.0527, -5.4889, -6.2103, -4.768, -4.705, -6.7404, -6.7404, -6.7404, -6.7404, -6.7404, -6.7404, -6.7404, -6.7404, -6.7404, -6.7404, -6.7404, -6.7404, -5.4421, -5.1259, -6.1395, -6.1067, -6.1057, -4.8981, -5.2434, -4.7874, -5.4828, -4.775, -5.7213, -3.4464, -4.5912, -4.2191, -4.3567, -4.5302, -4.3469, -5.2808, -5.482, -5.2267, -4.5279, -5.3604, -5.4414, -5.5188, -4.9908, -5.232, -5.1758, -3.9217, -5.1961, -5.3954, -5.3964, -5.672, -5.6747, -5.6865, -6.0577, -6.0577, -6.0586, -6.0591, -6.0591, -6.0592, -6.0594, -6.0597, -6.0714, -4.0616, -5.1792, -5.6732, -5.6741, -5.6733, -4.7406, -5.3951, -5.0292, -6.6938, -6.6938, -6.6938, -6.6938, -6.6938, -6.6938, -4.6635, -6.0598, -6.0587, -6.059, -6.0579, -6.0579, -4.4029, -5.1804, -4.9698, -4.6614, -4.8186, -4.4884, -4.4281, -4.2782, -5.2443, -4.9545, -5.5416, -5.0634, -5.6939, -5.4147, -5.26, -5.1968, -5.0121, -5.3795, -5.4055, -5.6245, -5.5814, -4.4907, -5.2802, -5.5571, -5.942, -5.9429, -5.943, -5.9431, -5.9433, -5.9434, -5.9442, -5.9443, -5.5883, -5.311, -6.5781, -6.5781, -6.5781, -6.5781, -6.5781, -6.5781, -6.5781, -6.5781, -6.5781, -6.5781, -6.5781, -6.5781, -6.5781, -6.5781, -6.5781, -6.5781, -6.5781, -5.9441, -5.9429, -5.942, -5.944, -5.9433, -4.8477, -5.0799, -5.2989, -5.5565, -5.9435, -4.0207, -5.2908, -4.4259, -5.3399, -5.9429, -5.2726, -5.5564, -4.9413, -5.2706, -5.1476, -5.2894, -5.3631, -5.447, -5.1294, -5.1192, -5.2251, -5.2817, -5.5568, -5.1997, -5.4261, -5.7011, -5.7043, -5.5589, -5.662, -5.6474], \"loglift\": [30.0, 29.0, 28.0, 27.0, 26.0, 25.0, 24.0, 23.0, 22.0, 21.0, 20.0, 19.0, 18.0, 17.0, 16.0, 15.0, 14.0, 13.0, 12.0, 11.0, 10.0, 9.0, 8.0, 7.0, 6.0, 5.0, 4.0, 3.0, 2.0, 1.0, 1.006, 1.0018, 0.9712, 0.9648, 0.957, 0.9476, 0.9474, 0.9394, 0.9366, 0.9357, 0.935, 0.9317, 0.9249, 0.9248, 0.9233, 0.9215, 0.9212, 0.9212, 0.9212, 0.92, 0.9179, 0.9067, 0.9003, 0.9003, 0.9003, 0.8972, 0.8769, 0.8727, 0.8701, 0.8701, 0.859, 0.8334, 0.8078, 0.8335, 0.8173, 0.6965, 0.7926, 0.715, 0.713, 0.7381, 0.5081, 0.6431, 0.7694, 0.793, 0.4249, 0.3851, 0.5965, 0.4981, -0.0341, 0.4, 0.3788, 0.2119, 0.4609, 0.099, -0.3141, 0.2471, -0.0951, 0.2756, -0.1632, 0.3234, -0.003, -0.6171, -0.1962, 1.3689, 1.328, 1.3212, 1.3174, 1.3084, 1.3008, 1.3007, 1.2851, 1.2832, 1.2773, 1.2634, 1.2633, 1.2418, 1.2338, 1.2335, 1.2335, 1.233, 1.2329, 1.2325, 1.23, 1.218, 1.2102, 1.2077, 1.1849, 1.1849, 1.1849, 1.1849, 1.1849, 1.1849, 1.1849, 1.1777, 1.1509, 1.1496, 1.1293, 1.051, 0.9697, 0.6682, 0.8967, 0.9553, 0.8825, 0.7153, 0.6911, 0.9061, 0.3288, 0.4937, 0.7749, 0.849, 0.4342, 0.6741, 0.5479, 0.7353, 0.5892, 0.1614, 0.4138, 0.5954, 0.0888, 0.7828, 0.4788, 0.1223, -0.0341, 0.1378, 0.2329, -0.033, 2.0141, 1.9666, 1.95, 1.9479, 1.9446, 1.9415, 1.9413, 1.8662, 1.8656, 1.8656, 1.8656, 1.8654, 1.8651, 1.8651, 1.864, 1.8618, 1.8614, 1.8371, 1.8022, 1.8018, 1.7754, 1.7754, 1.7754, 1.7754, 1.7754, 1.7754, 1.7754, 1.7754, 1.7753, 1.7753, 1.714, 1.6726, 1.6144, 1.3838, 1.6185, 1.4083, 1.4413, 1.2505, 1.6741, 1.6738, 1.4682, 1.4698, 1.0843, 0.3264, 0.6426, 0.7861, 1.4269, 0.836, 1.4047, 0.6762, 0.3391, 1.3107, 0.5781, -0.2008, 0.0218, 0.2221, 0.0218, 0.7676, 0.7612, 0.2361, -0.637, -0.4175, -0.2187, 0.4163, -0.7588, 2.5299, 2.4281, 2.4236, 2.4166, 2.4155, 2.4152, 2.4114, 2.3996, 2.3915, 2.3619, 2.3332, 2.2665, 2.2665, 2.2655, 2.2651, 2.2643, 2.2641, 2.264, 2.2453, 2.2376, 2.1835, 2.1497, 2.1441, 2.1164, 2.1157, 2.0815, 2.0587, 2.0389, 2.0389, 2.0389, 2.0188, 2.0222, 2.0066, 1.7726, 1.9162, 1.6398, 1.5207, 1.7335, 1.9071, 1.2138, 1.8423, 0.7465, 1.4887, 0.8398, 1.39, 0.9803, 0.7675, 1.1708, 0.7974, -0.4836, -0.1111, 0.9007, 0.2228, -0.4454, -0.6674, -0.5074, 2.7616, 2.7266, 2.6521, 2.6029, 2.6022, 2.6006, 2.5967, 2.5965, 2.5643, 2.4956, 2.4953, 2.4953, 2.4948, 2.4939, 2.3618, 2.356, 2.3368, 2.3315, 2.2484, 2.2484, 2.2484, 2.2484, 2.2484, 2.2484, 2.2484, 2.2484, 2.2484, 2.2484, 2.2484, 2.2484, 2.2041, 2.1809, 2.1851, 2.1375, 2.1564, 2.1559, 2.0454, 1.8925, 1.7683, 1.7252, 1.3461, 1.5595, 1.3762, 1.5249, 1.2301, 0.4473, -0.0307, 0.8939, 1.2017, 1.7212, 0.3544, 0.1269, 1.1206, -0.7142, 0.5043, 1.1787, 1.1429, 0.2322, 0.5177, 0.7976, -0.4364, -0.1306, 2.8149, 2.7108, 2.7089, 2.688, 2.6128, 2.5977, 2.5907, 2.5896, 2.5896, 2.5895, 2.5894, 2.5887, 2.5856, 2.539, 2.4817, 2.466, 2.4142, 2.398, 2.3395, 2.3395, 2.3395, 2.3395, 2.3395, 2.3395, 2.3395, 2.3395, 2.3395, 2.3395, 2.3395, 2.3395, 2.2606, 2.216, 2.2691, 2.2457, 2.242, 1.8866, 1.9704, 1.5544, 1.795, 1.3936, 1.759, 0.3648, 1.036, 0.7376, 0.7681, 0.6596, 0.4379, 1.3046, 1.5564, 1.1178, -0.2839, 1.1225, 1.2065, 1.2832, -0.0372, 0.5411, 0.3358, 2.9411, 2.8049, 2.7884, 2.7873, 2.73, 2.7269, 2.7128, 2.6234, 2.6234, 2.6224, 2.6218, 2.6218, 2.6216, 2.6215, 2.6212, 2.6074, 2.5394, 2.5198, 2.5117, 2.4699, 2.4587, 2.4418, 2.4303, 2.3961, 2.3759, 2.3759, 2.3759, 2.3759, 2.3759, 2.3759, 2.2715, 2.2928, 2.284, 2.2839, 2.2801, 2.28, 1.1988, 1.708, 1.4686, 1.2014, 1.1888, 0.4683, 0.2125, -0.0342, 1.1924, 0.6728, 1.6724, 0.7788, 1.9284, 1.3585, 0.8358, 0.3352, -1.2009, 0.3008, -0.3518, 1.7086, 0.4642, 2.9941, 2.89, 2.8322, 2.728, 2.7269, 2.7269, 2.7268, 2.7264, 2.7263, 2.7255, 2.7254, 2.5336, 2.5163, 2.4834, 2.4834, 2.4834, 2.4834, 2.4834, 2.4834, 2.4834, 2.4834, 2.4834, 2.4834, 2.4834, 2.4834, 2.4834, 2.4834, 2.4834, 2.4834, 2.4834, 2.4504, 2.402, 2.3928, 2.3905, 2.3866, 2.0162, 1.9032, 1.9756, 2.0426, 2.163, 1.1041, 1.7627, 1.0991, 1.6714, 2.058, 1.5699, 1.7445, 1.1267, 1.3826, 1.098, 1.1031, 1.2077, 1.3549, 0.5509, 0.5081, 0.7147, 0.5278, 1.0742, -0.5591, 0.4597, 1.5947, 1.5693, -0.0473, 1.1111, 0.6528]}, \"token.table\": {\"Topic\": [1, 3, 2, 5, 1, 2, 5, 8, 1, 3, 4, 5, 6, 7, 8, 2, 1, 2, 3, 4, 5, 6, 7, 8, 1, 1, 2, 5, 6, 7, 8, 1, 3, 5, 7, 1, 2, 3, 5, 6, 8, 5, 7, 2, 8, 1, 2, 7, 4, 4, 3, 2, 1, 2, 3, 4, 5, 7, 1, 2, 3, 4, 5, 6, 7, 1, 2, 6, 4, 7, 2, 3, 4, 8, 3, 7, 2, 1, 2, 5, 6, 7, 8, 1, 4, 1, 7, 5, 2, 1, 5, 3, 1, 5, 3, 7, 2, 6, 1, 4, 5, 8, 6, 3, 8, 1, 6, 3, 5, 2, 5, 1, 2, 3, 4, 5, 1, 2, 3, 4, 5, 6, 7, 8, 1, 3, 4, 8, 1, 3, 4, 7, 8, 8, 1, 3, 6, 3, 2, 8, 2, 7, 3, 5, 1, 3, 5, 7, 8, 1, 3, 4, 5, 1, 5, 8, 8, 6, 1, 2, 4, 5, 7, 2, 3, 4, 5, 3, 6, 7, 2, 3, 5, 7, 1, 2, 4, 6, 8, 4, 1, 2, 4, 7, 8, 1, 2, 5, 7, 1, 2, 4, 5, 7, 6, 8, 1, 1, 2, 3, 4, 6, 8, 4, 8, 1, 2, 5, 1, 4, 4, 1, 2, 7, 8, 1, 2, 3, 5, 7, 2, 3, 6, 1, 2, 3, 2, 3, 6, 2, 8, 5, 4, 1, 4, 1, 2, 3, 4, 5, 6, 7, 8, 5, 6, 1, 2, 3, 1, 2, 3, 4, 5, 7, 1, 2, 4, 5, 6, 7, 8, 4, 8, 3, 4, 1, 2, 3, 6, 3, 1, 2, 4, 5, 2, 1, 2, 5, 6, 7, 8, 3, 6, 3, 7, 1, 2, 2, 3, 6, 8, 1, 2, 3, 4, 5, 6, 7, 7, 1, 2, 3, 8, 4, 8, 5, 1, 2, 3, 6, 8, 1, 2, 4, 3, 4, 1, 2, 3, 5, 7, 8, 6, 2, 1, 2, 3, 4, 6, 1, 2, 5, 3, 5, 7, 1, 2, 3, 8, 7, 7, 5, 6, 1, 3, 7, 4, 1, 4, 5, 7, 8, 1, 2, 5, 6, 5, 2, 4, 8, 1, 2, 4, 7, 7, 7, 1, 2, 3, 4, 5, 8, 1, 2, 3, 4, 5, 6, 7, 1, 2, 3, 4, 5, 6, 7, 2, 8, 2, 3, 8, 3, 5, 5, 8, 3, 4, 6, 7, 8, 1, 2, 5, 8, 3, 6, 8, 8, 2, 2, 8, 2, 3, 4, 5, 6, 7, 2, 7, 1, 2, 4, 5, 7, 3, 5, 6, 1, 2, 4, 5, 6, 8, 1, 2, 3, 4, 6, 8, 3, 2, 5, 3, 1, 2, 1, 2, 3, 4, 7, 8, 1, 6, 1, 4, 5, 3, 1, 2, 3, 5, 6, 7, 6, 1, 8, 7, 6, 3, 1, 3, 1, 2, 6, 8, 4, 5, 1, 6, 2, 7, 1, 2, 3, 5, 6, 7, 8, 2, 2, 2, 8, 8, 8, 1, 2, 5, 8, 8, 5, 1, 4, 8, 7, 5, 7, 6, 1, 5, 7, 1, 2, 3, 5, 6, 2, 5, 7, 8, 8, 6, 1, 2, 3, 4, 6, 7, 8, 4, 1, 4, 2, 3, 4, 1, 3, 1, 7, 3, 7, 1, 2, 3, 6, 2, 3, 6, 1, 2, 3, 4, 1, 2, 3, 4, 6, 7, 8, 5, 7, 8, 2, 4, 5, 7, 1, 2, 7, 1, 4, 5, 2, 4, 6, 6, 8, 3, 1, 2, 3, 4, 5, 6, 7, 6, 7, 3, 7, 2, 1, 2, 3, 5, 6, 7, 1, 2, 3, 5, 6, 7, 8, 4, 5, 1, 3, 2, 5, 7, 1, 2, 1, 4, 5, 1, 8, 2, 1, 3, 7, 2, 6, 1, 2, 3, 4, 1, 7, 5, 4, 1, 2, 3, 5, 6, 1, 8, 4, 6, 1, 3, 4, 8, 2, 2, 5, 6, 3, 3, 6, 3, 2, 3, 6, 7, 8, 2, 1, 4, 1, 3, 2, 3, 8, 6, 6, 2, 3, 4, 6, 1, 5, 6, 3, 5, 2, 8, 8, 1, 4, 5, 8, 7, 1, 1, 2, 3, 4, 8, 5, 2, 1, 4, 5, 6, 7, 5, 2, 7, 1, 2, 5, 8, 2, 8, 1, 2, 3, 5, 6, 8, 5, 2, 4, 3, 5, 1, 8, 3, 5, 1, 2, 3, 4, 2, 7, 1, 2, 6, 1, 1, 2, 5, 1, 2, 4, 7, 8, 6, 1, 7, 1, 2, 3, 5, 2, 3, 5, 6, 6, 3, 2, 4, 1, 8, 1, 2, 5, 1, 2, 3, 5, 8, 5, 1, 2, 3, 4, 7, 1, 2, 3, 4, 5, 6, 7, 8, 1, 2, 3, 6, 7, 1, 2, 3, 6, 2, 6, 2, 4, 1, 2, 3, 5, 8, 6, 1, 2, 3, 4, 6, 7, 8, 6, 1, 2, 3, 5, 6, 8, 8, 2, 3, 7, 8, 2, 4, 3, 1, 2, 5, 6, 7, 8, 5, 4, 6, 8, 7, 2, 5, 7, 5, 7, 1, 1, 5, 1, 2, 3, 5, 7, 1, 2, 5, 5, 3, 7, 1, 2, 1, 4, 1, 5, 2, 1, 2, 3, 4, 5, 6, 7, 1, 4, 4, 8, 4, 2, 6, 1, 8, 2, 6, 1, 4, 7, 1, 3, 5, 3, 4, 8, 2, 1, 3, 5, 6, 4, 6, 1, 2, 3, 4, 5, 6, 7, 1, 8, 2, 3, 4, 7, 2, 4, 7, 3, 8, 8, 6, 8, 4, 5, 8, 1, 7, 7, 8, 6, 1, 2, 6, 7, 1, 3, 4, 5, 7, 8, 6, 1, 2, 3, 4, 5, 6, 7, 3, 3, 1, 3, 7, 5, 4, 1, 2, 3, 4, 5, 6, 2], \"Freq\": [0.2716194160166001, 0.6790485400415003, 0.3403023342568949, 0.3403023342568949, 0.17619707698298825, 0.616689769440459, 0.08809853849149413, 0.08809853849149413, 0.7151461841824832, 0.08173099247799807, 0.06129824435849856, 0.02043274811949952, 0.02043274811949952, 0.06129824435849856, 0.04086549623899904, 0.9569975626550766, 0.540216342031032, 0.057469823620322553, 0.08045775306845157, 0.04597585889625804, 0.06896378834438707, 0.1034456825165806, 0.08045775306845157, 0.02298792944812902, 0.9742831654401757, 0.3142880559153288, 0.3841298461187352, 0.0349208951017032, 0.0698417902034064, 0.0349208951017032, 0.1396835804068128, 0.8391022545981135, 0.05244389091238209, 0.05244389091238209, 0.05244389091238209, 0.39433615896951707, 0.14957578443671338, 0.12238018726640185, 0.08158679151093456, 0.10878238868124608, 0.1359779858515576, 0.7041584305866583, 0.7240314718758768, 0.7262258285910966, 0.4709917457287382, 0.14143387756686301, 0.7778863266177466, 0.07071693878343151, 0.6628747886543968, 0.8811433068424361, 0.8859885048794656, 0.8039991765144384, 0.2993685565789109, 0.2733365081807448, 0.13016024199083084, 0.06508012099541542, 0.22127241138441242, 0.013016024199083084, 0.35142059553298494, 0.24599441687308946, 0.1581392679898432, 0.17571029776649247, 0.05271308932994774, 0.017571029776649247, 0.017571029776649247, 0.4301200233989244, 0.2867466822659496, 0.2867466822659496, 0.7993212375230568, 0.1332202062538428, 0.41795556631535535, 0.4876148273679146, 0.05224444578941942, 0.03482963052627962, 0.27843162195639504, 0.5568632439127901, 0.8998671329209373, 0.3515511962156588, 0.29295933017971565, 0.05859186603594314, 0.1757755981078294, 0.05859186603594314, 0.05859186603594314, 0.8863849430089549, 0.8810707373349423, 0.8707591443157192, 0.09165885729639149, 0.7041610123951936, 0.8038067885608849, 0.8462300754706324, 0.722828825933693, 0.9389225377161441, 0.2299941281793228, 0.6899823845379685, 0.938914000023442, 0.47626925056393826, 0.23408796011569324, 0.7022638803470798, 0.49922141700174466, 0.06240267712521808, 0.3120133856260904, 0.06240267712521808, 0.7098538859047636, 0.6925409919232943, 0.11542349865388239, 0.8988638113909813, 0.09987375682122014, 0.2789173774925997, 0.5578347549851994, 0.3403173468128256, 0.3403173468128256, 0.520528181300897, 0.2715799206787288, 0.09052664022624295, 0.0678949801696822, 0.04526332011312147, 0.4045602010000709, 0.06742670016667848, 0.06742670016667848, 0.06742670016667848, 0.06742670016667848, 0.13485340033335697, 0.08990226688890464, 0.06742670016667848, 0.846194500764377, 0.6714420102776858, 0.14920933561726352, 0.14920933561726352, 0.6694265943504301, 0.11642201640877045, 0.058211008204385226, 0.058211008204385226, 0.058211008204385226, 0.8641088745926376, 0.21284735323491416, 0.21284735323491416, 0.5321183830872854, 0.8406325542769504, 0.8842345506897104, 0.1105293188362138, 0.339688528151589, 0.339688528151589, 0.8354469972449331, 0.10443087465561664, 0.3295675083215097, 0.21971167221433982, 0.10985583610716991, 0.21971167221433982, 0.10985583610716991, 0.23818154141603082, 0.23818154141603082, 0.3969692356933847, 0.07939384713867693, 0.792315076277542, 0.35767125721341814, 0.35767125721341814, 0.8574734889744854, 0.48308658188402387, 0.1805785244508702, 0.3611570489017404, 0.30096420741811697, 0.0601928414836234, 0.1203856829672468, 0.2846571663960869, 0.4744286106601448, 0.18977144426405793, 0.7041578790730113, 0.1784183227679319, 0.1784183227679319, 0.5352549683037957, 0.9779071930540245, 0.20246723238005115, 0.20246723238005115, 0.6074016971401535, 0.34976877973617776, 0.23317918649078517, 0.11658959324539259, 0.11658959324539259, 0.23317918649078517, 0.6581294423411189, 0.3379389389103322, 0.46082582578681663, 0.06144344343824222, 0.06144344343824222, 0.09216516515736334, 0.054915798454505685, 0.10983159690901137, 0.7688211783630796, 0.054915798454505685, 0.44579769131255165, 0.5052373834875585, 0.014859923043751722, 0.029719846087503443, 0.014859923043751722, 0.6296841948227184, 0.2098947316075728, 0.9423487318322061, 0.6377536212481173, 0.23191040772658814, 0.028988800965823517, 0.057977601931647034, 0.028988800965823517, 0.4710372152900784, 0.7894549046841505, 0.6968396933750431, 0.16830231503276846, 0.3366046300655369, 0.5049069450983055, 0.2560494635838044, 0.5120989271676089, 0.8810844241080447, 0.3231839804155697, 0.5027306362019974, 0.10772799347185659, 0.03590933115728553, 0.5952695108796129, 0.10132246993695539, 0.24064086610026902, 0.037995926226358265, 0.037995926226358265, 0.4128976781348723, 0.5161220976685904, 0.10322441953371808, 0.8047229911463136, 0.12380353709943287, 0.061901768549716435, 0.3121205303056326, 0.520200883842721, 0.1040401767685442, 0.4844136024272889, 0.3229424016181926, 0.7041598102177855, 0.7908370815399641, 0.864696377770309, 0.10808704722128863, 0.19272009647292168, 0.4021984622043583, 0.06703307703405972, 0.15920355795589183, 0.08379134629257465, 0.008379134629257465, 0.058653942404802255, 0.025137403887772393, 0.36272751334942044, 0.36272751334942044, 0.5803324515973437, 0.16249308644725624, 0.23213298063893748, 0.22101483910684921, 0.44202967821369843, 0.08840593564273969, 0.17681187128547937, 0.04420296782136984, 0.04420296782136984, 0.0557287358438879, 0.5294229905169351, 0.1671862075316637, 0.08359310376583184, 0.02786436792194395, 0.1114574716877758, 0.02786436792194395, 0.8444625512722723, 0.12063750732461033, 0.8406297444470037, 0.881023629447807, 0.8082599888113533, 0.10103249860141916, 0.05051624930070958, 0.05051624930070958, 0.8406347259375087, 0.25763805260510997, 0.25763805260510997, 0.1932285394538325, 0.25763805260510997, 0.9133661410788928, 0.527537539493832, 0.2434788643817686, 0.06086971609544215, 0.020289905365147385, 0.020289905365147385, 0.1420293375560317, 0.8406253360598049, 0.7098547807209972, 0.7751166717067688, 0.2583722239022562, 0.16979672979013474, 0.7640852840556063, 0.29102020962381164, 0.36377526202976457, 0.21826515721785875, 0.14551010481190582, 0.32084383169048614, 0.3781373730637872, 0.17188062411990326, 0.04583483309864087, 0.011458708274660218, 0.04583483309864087, 0.011458708274660218, 0.702615590624994, 0.11670823522477962, 0.35012470567433884, 0.11670823522477962, 0.35012470567433884, 0.6628748962847167, 0.6968385167000902, 0.7041570426812434, 0.1544710342720748, 0.386177585680187, 0.1544710342720748, 0.1930887928400935, 0.0772355171360374, 0.27923478804411284, 0.13961739402205642, 0.5584695760882257, 0.4284939764707417, 0.571325301960989, 0.45159040517608856, 0.316113283623262, 0.09031808103521771, 0.13547712155282657, 0.4763255988841281, 0.471048970333783, 0.4827586871507414, 0.9133594052615354, 0.42537499144351043, 0.13088461275184937, 0.35993268506758574, 0.03272115318796234, 0.03272115318796234, 0.36446525839048377, 0.5206646548435482, 0.05206646548435482, 0.9389394335587841, 0.7041611573263036, 0.8692182893547905, 0.3587558572111071, 0.2690668929083303, 0.17937792860555354, 0.2690668929083303, 0.7026138052494061, 0.927754170205518, 0.47772762017977716, 0.7307532890200967, 0.4155523669056748, 0.08311047338113496, 0.4986628402868098, 0.6628747581808124, 0.21909036691768943, 0.43818073383537887, 0.13145422015061364, 0.17527229353415152, 0.04381807338353788, 0.4607963709596037, 0.18431854838384149, 0.09215927419192074, 0.2764778225757622, 0.7041610498299778, 0.2681700086561955, 0.2681700086561955, 0.2681700086561955, 0.13983484886732916, 0.41950454660198744, 0.3495871221683229, 0.06991742443366458, 0.4764023395608169, 0.7026155490876888, 0.4853802866455602, 0.2426901433227801, 0.1078622859212356, 0.0539311429606178, 0.0269655714803089, 0.08089671444092669, 0.2463732399460332, 0.28743544660370535, 0.1231866199730166, 0.0821244133153444, 0.20531103328836098, 0.0410622066576722, 0.0410622066576722, 0.3754602376271325, 0.10727435360775214, 0.05363717680387607, 0.1609115304116282, 0.1609115304116282, 0.05363717680387607, 0.05363717680387607, 0.336962586019951, 0.336962586019951, 0.8588177275236647, 0.340354889661883, 0.340354889661883, 0.8302020589613434, 0.08302020589613433, 0.7230181681900669, 0.711594697559963, 0.08929678702322277, 0.6250775091625594, 0.08929678702322277, 0.08929678702322277, 0.08929678702322277, 0.4903958602468102, 0.12259896506170255, 0.3064974126542564, 0.061299482530851275, 0.17908001585838104, 0.5372400475751431, 0.17908001585838104, 0.6968384964773066, 0.9133831293477744, 0.33687243641710296, 0.33687243641710296, 0.3742018736183962, 0.1871009368091981, 0.062366978936399364, 0.12473395787279873, 0.1871009368091981, 0.062366978936399364, 0.7267954232131979, 0.4763035531197183, 0.37965440337909906, 0.28474080253432427, 0.09491360084477476, 0.22146506863780777, 0.03163786694825826, 0.9389855273964727, 0.16480966026791324, 0.8240483013395662, 0.49477632457286913, 0.07068233208183845, 0.07068233208183845, 0.07068233208183845, 0.07068233208183845, 0.1413646641636769, 0.0935616531489255, 0.187123306297851, 0.2806849594467765, 0.187123306297851, 0.0935616531489255, 0.2806849594467765, 0.9388367423426303, 0.8588146387202803, 0.7231333739996252, 0.8406271378334274, 0.8864268558634092, 0.9133570548212467, 0.47399197256313896, 0.1895967890252556, 0.11849799314078474, 0.0947983945126278, 0.07109879588447085, 0.07109879588447085, 0.6435981695504694, 0.35755453863914965, 0.7915693018611866, 0.1217798925940287, 0.1217798925940287, 0.9389251466929444, 0.4132812694401182, 0.1836805641956081, 0.09184028209780405, 0.045920141048902026, 0.22960070524451015, 0.045920141048902026, 0.7098532431248066, 0.335287775486807, 0.335287775486807, 0.47532985225632235, 0.7098531652309986, 0.9388344838715285, 0.9550656218058832, 0.626977908666153, 0.11921874566196787, 0.4768749826478715, 0.23843749132393574, 0.23843749132393574, 0.3503509498927367, 0.3503509498927367, 0.34132600369388166, 0.34132600369388166, 0.8587533962122298, 0.7188259777825686, 0.25026069894869857, 0.29197081544014836, 0.04171011649144976, 0.16684046596579905, 0.04171011649144976, 0.04171011649144976, 0.12513034947434928, 0.7263218222119184, 0.9133573965684363, 0.7971318648581068, 0.12263567151663182, 0.6968384423681043, 0.4710151305946671, 0.30943206902257886, 0.6426666048930484, 0.02380246684789068, 0.02380246684789068, 0.47105837099744124, 0.835898737048552, 0.8043291960995593, 0.10054114951244492, 0.05027057475622246, 0.7026149822109787, 0.7227345652703094, 0.7204118407644627, 0.7098549345807962, 0.37123969329706796, 0.37123969329706796, 0.24749312886471198, 0.1752055005552386, 0.43801375138809645, 0.26280825083285786, 0.04380137513880965, 0.0876027502776193, 0.5231986535901565, 0.08719977559835942, 0.08719977559835942, 0.26159932679507825, 0.4711088266360479, 0.47411147272985027, 0.36036252126395213, 0.18018126063197606, 0.2802819609830739, 0.04004028014043912, 0.08008056028087825, 0.04004028014043912, 0.04004028014043912, 0.9031479946122583, 0.9550647634150916, 0.7911110453642481, 0.7424672496136911, 0.0928084062017114, 0.0928084062017114, 0.7650250663514966, 0.20864319991404454, 0.3379993975216162, 0.3379993975216162, 0.4957532149841671, 0.33050214332277805, 0.11270254045208618, 0.6987557508029343, 0.15778355663292065, 0.022540508090417237, 0.4393222959589035, 0.10983057398972587, 0.32949172196917764, 0.5270919168953391, 0.10541838337906781, 0.10541838337906781, 0.26354595844766954, 0.10005127229809835, 0.47524354341596714, 0.27514099881977044, 0.050025636149049174, 0.025012818074524587, 0.025012818074524587, 0.025012818074524587, 0.24131682553688066, 0.24131682553688066, 0.24131682553688066, 0.8502970398339074, 0.14171617330565123, 0.9014694738410131, 0.8690870565242378, 0.8874352354828637, 0.042258820737279226, 0.042258820737279226, 0.9175569800309947, 0.6797289459298285, 0.33986447296491423, 0.08583002938933233, 0.17166005877866466, 0.7724702645039909, 0.7098548769937052, 0.6968404641107742, 0.8853708739421235, 0.34977393163330994, 0.19987081807617713, 0.04996770451904428, 0.04996770451904428, 0.2498385225952214, 0.04996770451904428, 0.04996770451904428, 0.709854858502235, 0.47628778287989465, 0.34302515734371086, 0.34302515734371086, 0.9133604374139017, 0.3436565873441898, 0.34000066620223035, 0.1718282936720949, 0.054838817129391995, 0.07311842283918933, 0.014623684567837865, 0.19030325957812055, 0.19030325957812055, 0.19030325957812055, 0.19030325957812055, 0.19030325957812055, 0.12686883971874705, 0.6968396930103774, 0.8811419469171295, 0.47774481453537326, 0.9886948750790355, 0.8406489880323698, 0.7263158904309627, 0.2900265867934312, 0.5800531735868624, 0.9056153057848846, 0.07546794214874038, 0.7388857557995641, 0.16062733821729652, 0.09637640293037791, 0.9625686228981342, 0.6968397084951122, 0.7263268328713566, 0.28487566374878276, 0.6647098820804932, 0.0949585545829276, 0.8599748957705581, 0.12285355653865117, 0.14580728772236692, 0.24301214620394487, 0.48602429240788975, 0.048602429240788975, 0.33799829277064547, 0.33799829277064547, 0.7041570945108272, 0.6598210857009785, 0.41603413759911145, 0.3120256031993336, 0.13001066799972233, 0.026002133599944466, 0.0780064007998334, 0.7923231973366197, 0.6968404653509519, 0.791076317563058, 0.7098549870493925, 0.11981544601282726, 0.23963089202565452, 0.3594463380384818, 0.23963089202565452, 0.9133712400357756, 0.3745109361581902, 0.12483697871939672, 0.4993479148775869, 0.9389354706080888, 0.8406655750726365, 0.709853192211394, 0.8406278187157775, 0.464425857149472, 0.07740430952491201, 0.07740430952491201, 0.07740430952491201, 0.30961723809964803, 0.9315995027765668, 0.9168718976193371, 0.06549084982995264, 0.4034099615359239, 0.5042624519199048, 0.2493307612198288, 0.623326903049572, 0.1246653806099144, 0.4830072872652413, 0.48294410465113047, 0.058958257573695834, 0.1768747727210875, 0.058958257573695834, 0.6485408333106542, 0.27581581916035214, 0.5516316383207043, 0.4830462148542767, 0.9389205712571711, 0.47763392700143015, 0.2723403125719701, 0.5446806251439402, 0.6968384240591802, 0.562107787673975, 0.3254308244428276, 0.029584620403893418, 0.029584620403893418, 0.4764024931993586, 0.8463330828867499, 0.18809872519163381, 0.25079830025551175, 0.3134978753193897, 0.06269957506387794, 0.18809872519163381, 0.4776969972899569, 0.9569937542343988, 0.9793962155293484, 0.6345639490567269, 0.10576065817612114, 0.15864098726418172, 0.10576065817612114, 0.704157128711734, 0.40710585956228335, 0.5428078127497111, 0.23117364436359725, 0.11558682218179862, 0.4623472887271945, 0.11558682218179862, 0.7263252596273995, 0.6968404944629022, 0.3864819438293098, 0.14493072893599115, 0.2415512148933186, 0.04831024297866372, 0.04831024297866372, 0.14493072893599115, 0.8655836550541475, 0.16127410738631293, 0.6450964295452517, 0.7756420035031958, 0.25854733450106526, 0.7923546607217983, 0.6968405938585857, 0.9004066343318358, 0.056275414645739735, 0.2513317767755698, 0.1256658883877849, 0.1256658883877849, 0.5026635535511396, 0.339621190476996, 0.339621190476996, 0.3512447967923894, 0.3512447967923894, 0.3512447967923894, 0.8462318987337392, 0.1086214194391301, 0.4344856777565204, 0.3258642583173903, 0.5655111101878673, 0.07068888877348341, 0.07068888877348341, 0.21206666632045024, 0.14137777754696682, 0.7098549041925905, 0.35705955497660274, 0.6546091841237717, 0.2702962176830266, 0.24777153287610768, 0.4279690113314587, 0.06757405442075665, 0.2995934767646698, 0.5392682581764057, 0.05991869535293396, 0.11983739070586792, 0.48298904885221533, 0.8286651156839547, 0.6003417886971765, 0.3884564515099377, 0.9176741199436995, 0.47101348212527455, 0.33212718650885953, 0.5812225763905042, 0.08303179662721488, 0.4247099297713162, 0.45125430038202347, 0.05308874122141453, 0.026544370610707264, 0.026544370610707264, 0.7041591175764582, 0.30091326977290694, 0.3717163920724144, 0.05310234172463063, 0.24781092804827629, 0.035401561149753756, 0.40976063852115985, 0.13658687950705328, 0.06829343975352664, 0.20488031926057992, 0.06829343975352664, 0.03414671987676332, 0.06829343975352664, 0.03414671987676332, 0.2902035383667517, 0.49334601522347793, 0.1015712384283631, 0.1015712384283631, 0.014510176918337586, 0.4623271950245533, 0.2731933425145088, 0.21014872501116058, 0.04202974500223212, 0.3932234704303795, 0.5898352056455692, 0.2579760330645338, 0.5159520661290676, 0.05162692075386473, 0.6195230490463768, 0.1548807622615942, 0.10325384150772945, 0.05162692075386473, 0.7098539725621351, 0.43945260918754964, 0.1318357827562649, 0.2636715655125298, 0.04394526091875496, 0.04394526091875496, 0.04394526091875496, 0.04394526091875496, 0.7310121697109843, 0.46046484271763255, 0.23023242135881627, 0.13813945281528978, 0.046046484271763256, 0.13813945281528978, 0.69683967758273, 0.6968404956431985, 0.591640436615291, 0.1972134788717637, 0.16434456572646972, 0.03286891314529394, 0.25750081709490813, 0.6437520427372704, 0.8406264143971062, 0.2272838456836921, 0.15152256378912807, 0.2272838456836921, 0.07576128189456403, 0.07576128189456403, 0.2272838456836921, 0.870862893286446, 0.20284068982863462, 0.20284068982863462, 0.6085220694859039, 0.47628554308125226, 0.319320481982837, 0.10644016066094568, 0.5322008033047284, 0.477722413526273, 0.7207539728446027, 0.886485689125774, 0.8057606174934846, 0.08057606174934846, 0.46232890228371953, 0.13209397208106272, 0.13209397208106272, 0.1981409581215941, 0.06604698604053136, 0.7421167740693578, 0.22263503222080733, 0.03710583870346789, 0.7041599550752248, 0.9389207569465267, 0.7026151166124921, 0.9001316805530523, 0.09001316805530522, 0.9179000902362092, 0.79104285981071, 0.3730671528793342, 0.6217785881322236, 0.9505163967247211, 0.2592346158011032, 0.4790204857194298, 0.10143963226999689, 0.045084281008887506, 0.02817767563055469, 0.03944874588277657, 0.050719816134998444, 0.4240621258738853, 0.636093188810828, 0.8809757656973735, 0.6968397233193387, 0.4361033895190424, 0.3429322661816532, 0.3429322661816532, 0.8717025654232594, 0.07924568776575086, 0.7711954658522299, 0.15423909317044598, 0.8434684482859336, 0.07028903735716113, 0.07028903735716113, 0.8462217295735359, 0.45479266940158003, 0.45479266940158003, 0.1888392851074486, 0.5665178553223458, 0.1888392851074486, 0.7263235558407961, 0.06039130525588433, 0.30195652627942166, 0.4831304420470746, 0.12078261051176865, 0.6686221108004056, 0.22287403693346852, 0.15174222543660346, 0.2023229672488046, 0.15174222543660346, 0.15174222543660346, 0.1011614836244023, 0.05058074181220115, 0.2023229672488046, 0.8083617649787366, 0.17322037820972927, 0.22775766541487333, 0.5693941635371833, 0.11387883270743666, 0.11387883270743666, 0.38628654959010894, 0.515048732786812, 0.128762183196703, 0.7257739010761505, 0.18144347526903762, 0.4709534321684363, 0.8466955791120478, 0.6968415600182842, 0.8508601050359879, 0.09454001167066532, 0.6968415168386393, 0.27511292418561234, 0.5502258483712247, 0.4762871576518239, 0.6968415926245478, 0.7098550825062023, 0.7623669121014574, 0.19059172802536434, 0.047647932006341084, 0.7026139045890882, 0.5554233079986359, 0.05049302799987599, 0.15147908399962798, 0.05049302799987599, 0.15147908399962798, 0.05049302799987599, 0.483008640502471, 0.45508929281827043, 0.22754464640913522, 0.028443080801141902, 0.056886161602283804, 0.028443080801141902, 0.028443080801141902, 0.1706584848068514, 0.840629567657982, 0.82863383633472, 0.47597454824374336, 0.15865818274791446, 0.23798727412187168, 0.704159774380085, 0.8810788938338954, 0.5226463002245821, 0.2903590556803234, 0.05807181113606468, 0.03871454075737645, 0.009678635189344113, 0.0774290815147529, 0.8998350768236792], \"Term\": [\"abstract\", \"abstract\", \"accelerated\", \"accelerated\", \"access\", \"access\", \"access\", \"access\", \"adaptive\", \"adaptive\", \"adaptive\", \"adaptive\", \"adaptive\", \"adaptive\", \"adaptive\", \"aggregation\", \"algorithm\", \"algorithm\", \"algorithm\", \"algorithm\", \"algorithm\", \"algorithm\", \"algorithm\", \"algorithm\", \"allocation\", \"amplifier\", \"amplifier\", \"amplifier\", \"amplifier\", \"amplifier\", \"amplifier\", \"analog\", \"analog\", \"analog\", \"analog\", \"analysis\", \"analysis\", \"analysis\", \"analysis\", \"analysis\", \"analysis\", \"analytic\", \"analytical\", \"analytics\", \"anchor\", \"animation\", \"animation\", \"animation\", \"anisotropic\", \"annotating\", \"anomaly\", \"antenna\", \"application\", \"application\", \"application\", \"application\", \"application\", \"application\", \"approach\", \"approach\", \"approach\", \"approach\", \"approach\", \"approach\", \"approach\", \"approximate\", \"approximate\", \"approximate\", \"approximation\", \"approximation\", \"architecture\", \"architecture\", \"architecture\", \"architecture\", \"artificial\", \"artificial\", \"association\", \"attack\", \"attack\", \"attack\", \"attack\", \"attack\", \"attack\", \"augmented\", \"authoring\", \"automatic\", \"automatic\", \"automobile\", \"backbone\", \"battery\", \"beamforming\", \"bidirectional\", \"biomedical\", \"biomedical\", \"bittorrent\", \"bridging\", \"broadcast\", \"broadcast\", \"buffer\", \"buffer\", \"buffer\", \"buffer\", \"buying\", \"caching\", \"caching\", \"capacity\", \"capacity\", \"carrier\", \"carrier\", \"cascaded\", \"cascaded\", \"channel\", \"channel\", \"channel\", \"channel\", \"channel\", \"circuit\", \"circuit\", \"circuit\", \"circuit\", \"circuit\", \"circuit\", \"circuit\", \"circuit\", \"cluster\", \"clustering\", \"clustering\", \"clustering\", \"coding\", \"coding\", \"coding\", \"coding\", \"coding\", \"coefficient\", \"cognitive\", \"cognitive\", \"cognitive\", \"collaboration\", \"collection\", \"collection\", \"common\", \"common\", \"community\", \"community\", \"comparison\", \"comparison\", \"comparison\", \"comparison\", \"comparison\", \"complexity\", \"complexity\", \"complexity\", \"complexity\", \"compositing\", \"compound\", \"compound\", \"compressed\", \"compromise\", \"computer\", \"computer\", \"computer\", \"computer\", \"computer\", \"computing\", \"computing\", \"computing\", \"concentric\", \"concept\", \"concept\", \"concept\", \"congestion\", \"connectivity\", \"connectivity\", \"connectivity\", \"construction\", \"construction\", \"construction\", \"construction\", \"construction\", \"containment\", \"content\", \"content\", \"content\", \"content\", \"content\", \"continuous\", \"continuous\", \"continuous\", \"continuous\", \"control\", \"control\", \"control\", \"control\", \"control\", \"convergence\", \"convergence\", \"conversion\", \"converter\", \"converter\", \"converter\", \"converter\", \"converter\", \"convex\", \"convolution\", \"coupler\", \"coupling\", \"coupling\", \"coupling\", \"criterion\", \"criterion\", \"cubing\", \"current\", \"current\", \"current\", \"current\", \"database\", \"database\", \"database\", \"database\", \"database\", \"decision\", \"decision\", \"decision\", \"decoder\", \"decoder\", \"decoder\", \"decoding\", \"decoding\", \"decoding\", \"decomposition\", \"decomposition\", \"dection\", \"defined\", \"demand\", \"demand\", \"design\", \"design\", \"design\", \"design\", \"design\", \"design\", \"design\", \"design\", \"destination\", \"destination\", \"detection\", \"detection\", \"detection\", \"device\", \"device\", \"device\", \"device\", \"device\", \"device\", \"digital\", \"digital\", \"digital\", \"digital\", \"digital\", \"digital\", \"digital\", \"dimensional\", \"dimensional\", \"directed\", \"disambiguation\", \"distributed\", \"distributed\", \"distributed\", \"distributed\", \"divider\", \"domain\", \"domain\", \"domain\", \"domain\", \"dropout\", \"dynamic\", \"dynamic\", \"dynamic\", \"dynamic\", \"dynamic\", \"dynamic\", \"eacute\", \"economically\", \"education\", \"education\", \"effective\", \"effective\", \"efficiency\", \"efficiency\", \"efficiency\", \"efficiency\", \"efficient\", \"efficient\", \"efficient\", \"efficient\", \"efficient\", \"efficient\", \"efficient\", \"electronically\", \"element\", \"element\", \"element\", \"element\", \"elliptical\", \"emancipated\", \"embracing\", \"energy\", \"energy\", \"energy\", \"energy\", \"energy\", \"engineering\", \"engineering\", \"engineering\", \"entity\", \"entity\", \"environment\", \"environment\", \"environment\", \"environment\", \"equiripple\", \"equivalence\", \"erasure\", \"error\", \"estimation\", \"estimation\", \"estimation\", \"estimation\", \"estimation\", \"evaluation\", \"evaluation\", \"evaluation\", \"evolving\", \"expansible\", \"expansion\", \"exploiting\", \"exploiting\", \"exploiting\", \"exploiting\", \"expressiveness\", \"extraction\", \"factorization\", \"fault\", \"feature\", \"feature\", \"feature\", \"feline\", \"filter\", \"filter\", \"filter\", \"filter\", \"filter\", \"filtering\", \"filtering\", \"filtering\", \"filtering\", \"fingersight\", \"finite\", \"finite\", \"finite\", \"flexible\", \"flexible\", \"flexible\", \"flexible\", \"flight\", \"forced\", \"framework\", \"framework\", \"framework\", \"framework\", \"framework\", \"framework\", \"frequency\", \"frequency\", \"frequency\", \"frequency\", \"frequency\", \"frequency\", \"frequency\", \"function\", \"function\", \"function\", \"function\", \"function\", \"function\", \"function\", \"functional\", \"functional\", \"future\", \"gaussian\", \"gaussian\", \"generator\", \"generator\", \"gossip\", \"grained\", \"graphic\", \"graphic\", \"graphic\", \"graphic\", \"graphic\", \"hardware\", \"hardware\", \"hardware\", \"hardware\", \"harmonic\", \"harmonic\", \"harmonic\", \"hausdorff\", \"health\", \"histogram\", \"histogram\", \"hybrid\", \"hybrid\", \"hybrid\", \"hybrid\", \"hybrid\", \"hybrid\", \"imager\", \"immune\", \"implementation\", \"implementation\", \"implementation\", \"implementation\", \"implementation\", \"implemented\", \"importance\", \"importance\", \"improved\", \"improved\", \"improved\", \"improved\", \"improved\", \"improved\", \"improving\", \"improving\", \"improving\", \"improving\", \"improving\", \"improving\", \"incomplete\", \"incremental\", \"indirect\", \"induced\", \"inductor\", \"influence\", \"information\", \"information\", \"information\", \"information\", \"information\", \"information\", \"integration\", \"integration\", \"interface\", \"interface\", \"interface\", \"interleaved\", \"internet\", \"internet\", \"internet\", \"internet\", \"internet\", \"internet\", \"introductory\", \"inverted\", \"inverted\", \"inverter\", \"investment\", \"isolated\", \"ladder\", \"landmark\", \"latency\", \"latency\", \"latency\", \"latency\", \"length\", \"length\", \"library\", \"library\", \"lightweight\", \"limitation\", \"linear\", \"linear\", \"linear\", \"linear\", \"linear\", \"linear\", \"linear\", \"linearity\", \"localized\", \"location\", \"location\", \"luminous\", \"lumped\", \"management\", \"management\", \"management\", \"management\", \"manager\", \"managing\", \"mapping\", \"mapping\", \"mapping\", \"markovian\", \"masking\", \"matter\", \"maximising\", \"maximizing\", \"maximizing\", \"maximizing\", \"measurement\", \"measurement\", \"measurement\", \"measurement\", \"measurement\", \"mechanism\", \"mechanism\", \"mechanism\", \"mechanism\", \"memoryless\", \"merged\", \"method\", \"method\", \"method\", \"method\", \"method\", \"method\", \"method\", \"methodology\", \"migration\", \"minimal\", \"minimum\", \"minimum\", \"minimum\", \"mining\", \"mining\", \"mirror\", \"mirror\", \"mismatch\", \"mismatch\", \"mobile\", \"mobile\", \"mobile\", \"mobile\", \"mobility\", \"mobility\", \"mobility\", \"model\", \"model\", \"model\", \"model\", \"modeling\", \"modeling\", \"modeling\", \"modeling\", \"modeling\", \"modeling\", \"modeling\", \"modified\", \"modified\", \"modified\", \"modulator\", \"modulator\", \"modulators\", \"modulus\", \"motion\", \"motion\", \"motion\", \"moving\", \"mtcmos\", \"mtcmos\", \"multicast\", \"multicast\", \"multicast\", \"multichannel\", \"multilayered\", \"multipath\", \"multiple\", \"multiple\", \"multiple\", \"multiple\", \"multiple\", \"multiple\", \"multiple\", \"multiradio\", \"multiversion\", \"negative\", \"negative\", \"neighbor\", \"network\", \"network\", \"network\", \"network\", \"network\", \"network\", \"neural\", \"neural\", \"neural\", \"neural\", \"neural\", \"neural\", \"newton\", \"normalized\", \"nyquist\", \"object\", \"omnidirectional\", \"operating\", \"opinion\", \"opinion\", \"optimal\", \"optimal\", \"optimization\", \"optimization\", \"optimization\", \"oriented\", \"orthogonalized\", \"oscillation\", \"oscillator\", \"oscillator\", \"oscillator\", \"overlay\", \"overlay\", \"parallel\", \"parallel\", \"parallel\", \"parallel\", \"participation\", \"participation\", \"patchtable\", \"perfect\", \"performance\", \"performance\", \"performance\", \"performance\", \"performance\", \"personal\", \"personalised\", \"personalization\", \"photovoltaic\", \"policy\", \"policy\", \"policy\", \"policy\", \"potential\", \"practical\", \"practical\", \"practical\", \"practice\", \"pragmatic\", \"precoding\", \"price\", \"privacy\", \"privacy\", \"privacy\", \"privacy\", \"privacy\", \"probabilistic\", \"programmable\", \"programmable\", \"programming\", \"programming\", \"propagation\", \"propagation\", \"propagation\", \"proportionate\", \"protecting\", \"protocol\", \"protocol\", \"protocol\", \"protocol\", \"prototyping\", \"prototyping\", \"pruning\", \"publish\", \"purpose\", \"quadrature\", \"quadrature\", \"quadtrees\", \"query\", \"query\", \"query\", \"query\", \"question\", \"queueing\", \"random\", \"random\", \"random\", \"random\", \"random\", \"reaction\", \"realistic\", \"reality\", \"receiver\", \"receiver\", \"receiver\", \"receiver\", \"reception\", \"recognition\", \"recognition\", \"recommendation\", \"recommendation\", \"recommendation\", \"recommendation\", \"recommender\", \"recommending\", \"reconfigurable\", \"reconfigurable\", \"reconfigurable\", \"reconfigurable\", \"reconfigurable\", \"reconfigurable\", \"recursive\", \"reduced\", \"reduced\", \"reducing\", \"reducing\", \"reflectance\", \"rejecting\", \"relational\", \"relational\", \"relationship\", \"relationship\", \"relationship\", \"relationship\", \"relaxation\", \"relaxation\", \"reliable\", \"reliable\", \"reliable\", \"resistor\", \"response\", \"response\", \"response\", \"retrieval\", \"retrieval\", \"retrieval\", \"retrieval\", \"retrieval\", \"revision\", \"robust\", \"robust\", \"routing\", \"routing\", \"routing\", \"routing\", \"sampling\", \"sampling\", \"sampling\", \"sampling\", \"sapphire\", \"satellite\", \"scalable\", \"scalable\", \"scaling\", \"scanning\", \"scheduling\", \"scheduling\", \"scheduling\", \"scheme\", \"scheme\", \"scheme\", \"scheme\", \"scheme\", \"score\", \"search\", \"search\", \"search\", \"search\", \"search\", \"semantic\", \"semantic\", \"semantic\", \"semantic\", \"semantic\", \"semantic\", \"semantic\", \"semantic\", \"sensor\", \"sensor\", \"sensor\", \"sensor\", \"sensor\", \"service\", \"service\", \"service\", \"service\", \"session\", \"session\", \"shaping\", \"shaping\", \"sharing\", \"sharing\", \"sharing\", \"sharing\", \"sharing\", \"shrink\", \"signal\", \"signal\", \"signal\", \"signal\", \"signal\", \"signal\", \"signal\", \"silicon\", \"simulation\", \"simulation\", \"simulation\", \"simulation\", \"simulation\", \"singular\", \"snoopytagging\", \"social\", \"social\", \"social\", \"social\", \"software\", \"software\", \"solomon\", \"source\", \"source\", \"source\", \"source\", \"source\", \"source\", \"sparql\", \"sparse\", \"sparse\", \"sparse\", \"special\", \"speech\", \"speech\", \"speech\", \"squarer\", \"stimulation\", \"stochastic\", \"stream\", \"stream\", \"streaming\", \"streaming\", \"streaming\", \"streaming\", \"streaming\", \"structure\", \"structure\", \"structure\", \"submodular\", \"subscribe\", \"subtraction\", \"surface\", \"surface\", \"surveillance\", \"symmetric\", \"synchronization\", \"synchronization\", \"synthesis\", \"system\", \"system\", \"system\", \"system\", \"system\", \"system\", \"system\", \"table\", \"table\", \"tangible\", \"tapered\", \"targeting\", \"teaching\", \"teaching\", \"technology\", \"technology\", \"temperature\", \"temperature\", \"temporal\", \"temporal\", \"temporal\", \"termination\", \"testbed\", \"testbed\", \"texture\", \"texture\", \"texture\", \"thermal\", \"throughput\", \"throughput\", \"throughput\", \"throughput\", \"timing\", \"timing\", \"towards\", \"towards\", \"towards\", \"towards\", \"towards\", \"towards\", \"towards\", \"traffic\", \"traffic\", \"transaction\", \"transaction\", \"transaction\", \"transaction\", \"transfer\", \"transfer\", \"transfer\", \"transform\", \"transform\", \"transimpedance\", \"transport\", \"truthful\", \"tuning\", \"tuning\", \"uniqueness\", \"universal\", \"universal\", \"usability\", \"value\", \"vernier\", \"virtual\", \"virtual\", \"virtual\", \"virtue\", \"visual\", \"visual\", \"visual\", \"visual\", \"visual\", \"visual\", \"visualizing\", \"voltage\", \"voltage\", \"voltage\", \"voltage\", \"voltage\", \"voltage\", \"voltage\", \"vulnerability\", \"warehousing\", \"wavelet\", \"wavelet\", \"wavelet\", \"wearable\", \"widget\", \"wireless\", \"wireless\", \"wireless\", \"wireless\", \"wireless\", \"wireless\", \"without\"]}, \"R\": 30, \"lambda.step\": 0.01, \"plot.opts\": {\"xlab\": \"PC1\", \"ylab\": \"PC2\"}, \"topic.order\": [1, 2, 3, 4, 8, 7, 6, 5]};\n",
       "\n",
       "function LDAvis_load_lib(url, callback){\n",
       "  var s = document.createElement('script');\n",
       "  s.src = url;\n",
       "  s.async = true;\n",
       "  s.onreadystatechange = s.onload = callback;\n",
       "  s.onerror = function(){console.warn(\"failed to load library \" + url);};\n",
       "  document.getElementsByTagName(\"head\")[0].appendChild(s);\n",
       "}\n",
       "\n",
       "if(typeof(LDAvis) !== \"undefined\"){\n",
       "   // already loaded: just create the visualization\n",
       "   !function(LDAvis){\n",
       "       new LDAvis(\"#\" + \"ldavis_el2058414805973370242804016558\", ldavis_el2058414805973370242804016558_data);\n",
       "   }(LDAvis);\n",
       "}else if(typeof define === \"function\" && define.amd){\n",
       "   // require.js is available: use it to load d3/LDAvis\n",
       "   require.config({paths: {d3: \"https://d3js.org/d3.v5\"}});\n",
       "   require([\"d3\"], function(d3){\n",
       "      window.d3 = d3;\n",
       "      LDAvis_load_lib(\"https://cdn.jsdelivr.net/gh/bmabey/pyLDAvis@3.3.1/pyLDAvis/js/ldavis.v3.0.0.js\", function(){\n",
       "        new LDAvis(\"#\" + \"ldavis_el2058414805973370242804016558\", ldavis_el2058414805973370242804016558_data);\n",
       "      });\n",
       "    });\n",
       "}else{\n",
       "    // require.js not available: dynamically load d3 & LDAvis\n",
       "    LDAvis_load_lib(\"https://d3js.org/d3.v5.js\", function(){\n",
       "         LDAvis_load_lib(\"https://cdn.jsdelivr.net/gh/bmabey/pyLDAvis@3.3.1/pyLDAvis/js/ldavis.v3.0.0.js\", function(){\n",
       "                 new LDAvis(\"#\" + \"ldavis_el2058414805973370242804016558\", ldavis_el2058414805973370242804016558_data);\n",
       "            })\n",
       "         });\n",
       "}\n",
       "</script>"
      ],
      "text/plain": [
       "PreparedData(topic_coordinates=              x         y  topics  cluster       Freq\n",
       "topic                                                \n",
       "0      0.021119  0.039795       1        1  35.490815\n",
       "1      0.100049  0.093953       2        1  24.601749\n",
       "2      0.123476 -0.013586       3        1  12.344877\n",
       "3     -0.133925  0.095599       4        1   7.387584\n",
       "7     -0.027265  0.001944       5        1   5.624704\n",
       "6      0.041263 -0.088068       6        1   5.088619\n",
       "5     -0.064330 -0.025026       7        1   4.963444\n",
       "4     -0.060387 -0.104612       8        1   4.498207, topic_info=             Term        Freq       Total Category  logprob  loglift\n",
       "22        network  273.000000  273.000000  Default  30.0000  30.0000\n",
       "28       analysis   73.000000   73.000000  Default  29.0000  29.0000\n",
       "263   application   76.000000   76.000000  Default  28.0000  28.0000\n",
       "106        filter   45.000000   45.000000  Default  27.0000  27.0000\n",
       "29         design  119.000000  119.000000  Default  26.0000  26.0000\n",
       "..            ...         ...         ...      ...      ...      ...\n",
       "97        latency    1.859014    8.387943   Topic8  -5.7011   1.5947\n",
       "899  construction    1.853116    8.577095   Topic8  -5.7043   1.5693\n",
       "249        method    2.142999   49.949700   Topic8  -5.5589  -0.0473\n",
       "70       improved    1.933137   14.147807   Topic8  -5.6620   1.1111\n",
       "247        access    1.961504   22.701852   Topic8  -5.6474   0.6528\n",
       "\n",
       "[518 rows x 6 columns], token_table=      Topic      Freq         Term\n",
       "term                              \n",
       "400       1  0.271619     abstract\n",
       "400       3  0.679049     abstract\n",
       "1864      2  0.340302  accelerated\n",
       "1864      5  0.340302  accelerated\n",
       "247       1  0.176197       access\n",
       "...     ...       ...          ...\n",
       "99        3  0.058072     wireless\n",
       "99        4  0.038715     wireless\n",
       "99        5  0.009679     wireless\n",
       "99        6  0.077429     wireless\n",
       "127       2  0.899835      without\n",
       "\n",
       "[950 rows x 3 columns], R=30, lambda_step=0.01, plot_opts={'xlab': 'PC1', 'ylab': 'PC2'}, topic_order=[1, 2, 3, 4, 8, 7, 6, 5])"
      ]
     },
     "execution_count": 9,
     "metadata": {},
     "output_type": "execute_result"
    }
   ],
   "source": [
    "# Enabling the plotting library\n",
    "pyLDAvis.enable_notebook()\n",
    "\n",
    "# Visualization of LDA model with lambda equal to 0.2\n",
    "vis = pyLDAvis.gensim_models.prepare(ldamodel, corpus, dictionary)\n",
    "vis"
   ]
  },
  {
   "cell_type": "code",
   "execution_count": 10,
   "id": "b97d3d0b",
   "metadata": {
    "ExecuteTime": {
     "end_time": "2021-11-26T18:27:01.223347Z",
     "start_time": "2021-11-26T18:27:01.215485Z"
    },
    "deletable": false,
    "editable": false,
    "nbgrader": {
     "cell_type": "code",
     "checksum": "7664295f2b7916e49f1fe29f631cf524",
     "grade": true,
     "grade_id": "cell-981444b48cd3543a",
     "locked": true,
     "points": 3,
     "schema_version": 3,
     "solution": false,
     "task": false
    }
   },
   "outputs": [],
   "source": [
    "if 'vis' not in globals():\n",
    "    print(\"Use variable vis for prepared visualization, please.\")\n",
    "\n",
    "assert(vis.topic_info.shape[1]==6)"
   ]
  },
  {
   "cell_type": "code",
   "execution_count": null,
   "id": "4b714204",
   "metadata": {},
   "outputs": [],
   "source": []
  }
 ],
 "metadata": {
  "kernelspec": {
   "display_name": "Python 3 (ipykernel)",
   "language": "python",
   "name": "python3"
  },
  "language_info": {
   "codemirror_mode": {
    "name": "ipython",
    "version": 3
   },
   "file_extension": ".py",
   "mimetype": "text/x-python",
   "name": "python",
   "nbconvert_exporter": "python",
   "pygments_lexer": "ipython3",
   "version": "3.8.8"
  },
  "toc": {
   "base_numbering": 1,
   "nav_menu": {},
   "number_sections": true,
   "sideBar": true,
   "skip_h1_title": false,
   "title_cell": "Table of Contents",
   "title_sidebar": "Contents",
   "toc_cell": false,
   "toc_position": {},
   "toc_section_display": true,
   "toc_window_display": false
  }
 },
 "nbformat": 4,
 "nbformat_minor": 5
}
